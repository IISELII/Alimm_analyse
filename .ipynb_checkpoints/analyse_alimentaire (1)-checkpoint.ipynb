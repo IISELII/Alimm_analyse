{
 "cells": [
  {
   "cell_type": "markdown",
   "id": "0fbe96b4",
   "metadata": {},
   "source": [
    "# Context"
   ]
  },
  {
   "cell_type": "markdown",
   "id": "7725036c",
   "metadata": {},
   "source": [
    "Vous devez fournir des analyses concernant la répartition de l'alimentation, la sous-nutrition mais également en comprendre les causes."
   ]
  },
  {
   "cell_type": "markdown",
   "id": "2460c792",
   "metadata": {},
   "source": [
    "# Imports "
   ]
  },
  {
   "cell_type": "markdown",
   "id": "4cec4f6f",
   "metadata": {},
   "source": [
    "## Import des librairies"
   ]
  },
  {
   "cell_type": "code",
   "execution_count": 443,
   "id": "8e30d513",
   "metadata": {},
   "outputs": [],
   "source": [
    "import pandas as pd \n",
    "import numpy as np \n",
    "import seaborn as sns \n",
    "import matplotlib.pyplot as plt"
   ]
  },
  {
   "cell_type": "markdown",
   "id": "f19b3ac7",
   "metadata": {},
   "source": [
    "## Import des données "
   ]
  },
  {
   "cell_type": "code",
   "execution_count": 444,
   "id": "c46885ad",
   "metadata": {
    "scrolled": true
   },
   "outputs": [
    {
     "data": {
      "text/html": [
       "<div>\n",
       "<style scoped>\n",
       "    .dataframe tbody tr th:only-of-type {\n",
       "        vertical-align: middle;\n",
       "    }\n",
       "\n",
       "    .dataframe tbody tr th {\n",
       "        vertical-align: top;\n",
       "    }\n",
       "\n",
       "    .dataframe thead th {\n",
       "        text-align: right;\n",
       "    }\n",
       "</style>\n",
       "<table border=\"1\" class=\"dataframe\">\n",
       "  <thead>\n",
       "    <tr style=\"text-align: right;\">\n",
       "      <th></th>\n",
       "      <th>Zone</th>\n",
       "      <th>Produit</th>\n",
       "      <th>Origine</th>\n",
       "      <th>Aliments pour animaux</th>\n",
       "      <th>Autres Utilisations</th>\n",
       "      <th>Disponibilité alimentaire (Kcal/personne/jour)</th>\n",
       "      <th>Disponibilité alimentaire en quantité (kg/personne/an)</th>\n",
       "      <th>Disponibilité de matière grasse en quantité (g/personne/jour)</th>\n",
       "      <th>Disponibilité de protéines en quantité (g/personne/jour)</th>\n",
       "      <th>Disponibilité intérieure</th>\n",
       "      <th>Exportations - Quantité</th>\n",
       "      <th>Importations - Quantité</th>\n",
       "      <th>Nourriture</th>\n",
       "      <th>Pertes</th>\n",
       "      <th>Production</th>\n",
       "      <th>Semences</th>\n",
       "      <th>Traitement</th>\n",
       "      <th>Variation de stock</th>\n",
       "    </tr>\n",
       "  </thead>\n",
       "  <tbody>\n",
       "    <tr>\n",
       "      <th>0</th>\n",
       "      <td>Afghanistan</td>\n",
       "      <td>Abats Comestible</td>\n",
       "      <td>animale</td>\n",
       "      <td>NaN</td>\n",
       "      <td>NaN</td>\n",
       "      <td>5.0</td>\n",
       "      <td>1.72</td>\n",
       "      <td>0.20</td>\n",
       "      <td>0.77</td>\n",
       "      <td>53.0</td>\n",
       "      <td>NaN</td>\n",
       "      <td>NaN</td>\n",
       "      <td>53.0</td>\n",
       "      <td>NaN</td>\n",
       "      <td>53.0</td>\n",
       "      <td>NaN</td>\n",
       "      <td>NaN</td>\n",
       "      <td>NaN</td>\n",
       "    </tr>\n",
       "    <tr>\n",
       "      <th>1</th>\n",
       "      <td>Afghanistan</td>\n",
       "      <td>Agrumes, Autres</td>\n",
       "      <td>vegetale</td>\n",
       "      <td>NaN</td>\n",
       "      <td>NaN</td>\n",
       "      <td>1.0</td>\n",
       "      <td>1.29</td>\n",
       "      <td>0.01</td>\n",
       "      <td>0.02</td>\n",
       "      <td>41.0</td>\n",
       "      <td>2.0</td>\n",
       "      <td>40.0</td>\n",
       "      <td>39.0</td>\n",
       "      <td>2.0</td>\n",
       "      <td>3.0</td>\n",
       "      <td>NaN</td>\n",
       "      <td>NaN</td>\n",
       "      <td>NaN</td>\n",
       "    </tr>\n",
       "  </tbody>\n",
       "</table>\n",
       "</div>"
      ],
      "text/plain": [
       "          Zone           Produit   Origine  Aliments pour animaux  \\\n",
       "0  Afghanistan  Abats Comestible   animale                    NaN   \n",
       "1  Afghanistan   Agrumes, Autres  vegetale                    NaN   \n",
       "\n",
       "   Autres Utilisations  Disponibilité alimentaire (Kcal/personne/jour)  \\\n",
       "0                  NaN                                             5.0   \n",
       "1                  NaN                                             1.0   \n",
       "\n",
       "   Disponibilité alimentaire en quantité (kg/personne/an)  \\\n",
       "0                                               1.72        \n",
       "1                                               1.29        \n",
       "\n",
       "   Disponibilité de matière grasse en quantité (g/personne/jour)  \\\n",
       "0                                               0.20               \n",
       "1                                               0.01               \n",
       "\n",
       "   Disponibilité de protéines en quantité (g/personne/jour)  \\\n",
       "0                                               0.77          \n",
       "1                                               0.02          \n",
       "\n",
       "   Disponibilité intérieure  Exportations - Quantité  Importations - Quantité  \\\n",
       "0                      53.0                      NaN                      NaN   \n",
       "1                      41.0                      2.0                     40.0   \n",
       "\n",
       "   Nourriture  Pertes  Production  Semences  Traitement  Variation de stock  \n",
       "0        53.0     NaN        53.0       NaN         NaN                 NaN  \n",
       "1        39.0     2.0         3.0       NaN         NaN                 NaN  "
      ]
     },
     "execution_count": 444,
     "metadata": {},
     "output_type": "execute_result"
    }
   ],
   "source": [
    "dispo_alimentaire = pd.read_csv('data/dispo_alimentaire.csv')\n",
    "dispo_alimentaire.head(2)"
   ]
  },
  {
   "cell_type": "code",
   "execution_count": 445,
   "id": "b8e35ec7",
   "metadata": {},
   "outputs": [
    {
     "data": {
      "text/html": [
       "<div>\n",
       "<style scoped>\n",
       "    .dataframe tbody tr th:only-of-type {\n",
       "        vertical-align: middle;\n",
       "    }\n",
       "\n",
       "    .dataframe tbody tr th {\n",
       "        vertical-align: top;\n",
       "    }\n",
       "\n",
       "    .dataframe thead th {\n",
       "        text-align: right;\n",
       "    }\n",
       "</style>\n",
       "<table border=\"1\" class=\"dataframe\">\n",
       "  <thead>\n",
       "    <tr style=\"text-align: right;\">\n",
       "      <th></th>\n",
       "      <th>Pays bénéficiaire</th>\n",
       "      <th>Année</th>\n",
       "      <th>Produit</th>\n",
       "      <th>Valeur</th>\n",
       "    </tr>\n",
       "  </thead>\n",
       "  <tbody>\n",
       "    <tr>\n",
       "      <th>0</th>\n",
       "      <td>Afghanistan</td>\n",
       "      <td>2013</td>\n",
       "      <td>Autres non-céréales</td>\n",
       "      <td>682</td>\n",
       "    </tr>\n",
       "    <tr>\n",
       "      <th>1</th>\n",
       "      <td>Afghanistan</td>\n",
       "      <td>2014</td>\n",
       "      <td>Autres non-céréales</td>\n",
       "      <td>335</td>\n",
       "    </tr>\n",
       "    <tr>\n",
       "      <th>2</th>\n",
       "      <td>Afghanistan</td>\n",
       "      <td>2013</td>\n",
       "      <td>Blé et Farin</td>\n",
       "      <td>39224</td>\n",
       "    </tr>\n",
       "    <tr>\n",
       "      <th>3</th>\n",
       "      <td>Afghanistan</td>\n",
       "      <td>2014</td>\n",
       "      <td>Blé et Farin</td>\n",
       "      <td>15160</td>\n",
       "    </tr>\n",
       "    <tr>\n",
       "      <th>4</th>\n",
       "      <td>Afghanistan</td>\n",
       "      <td>2013</td>\n",
       "      <td>Céréales</td>\n",
       "      <td>40504</td>\n",
       "    </tr>\n",
       "  </tbody>\n",
       "</table>\n",
       "</div>"
      ],
      "text/plain": [
       "  Pays bénéficiaire  Année              Produit  Valeur\n",
       "0       Afghanistan   2013  Autres non-céréales     682\n",
       "1       Afghanistan   2014  Autres non-céréales     335\n",
       "2       Afghanistan   2013         Blé et Farin   39224\n",
       "3       Afghanistan   2014         Blé et Farin   15160\n",
       "4       Afghanistan   2013             Céréales   40504"
      ]
     },
     "execution_count": 445,
     "metadata": {},
     "output_type": "execute_result"
    }
   ],
   "source": [
    "aide_alimentaire = pd.read_csv('data/aide_alimentaire.csv')\n",
    "aide_alimentaire.head(5)"
   ]
  },
  {
   "cell_type": "code",
   "execution_count": 446,
   "id": "72a11c97",
   "metadata": {},
   "outputs": [
    {
     "data": {
      "text/plain": [
       "(1475, 4)"
      ]
     },
     "execution_count": 446,
     "metadata": {},
     "output_type": "execute_result"
    }
   ],
   "source": [
    "aide_alimentaire.shape"
   ]
  },
  {
   "cell_type": "code",
   "execution_count": 447,
   "id": "acc586c6",
   "metadata": {},
   "outputs": [
    {
     "data": {
      "text/plain": [
       "array([2013, 2014, 2015, 2016])"
      ]
     },
     "execution_count": 447,
     "metadata": {},
     "output_type": "execute_result"
    }
   ],
   "source": [
    "aide_alimentaire[\"Année\"].unique()"
   ]
  },
  {
   "cell_type": "code",
   "execution_count": 448,
   "id": "a7b2b6df",
   "metadata": {},
   "outputs": [
    {
     "data": {
      "text/html": [
       "<div>\n",
       "<style scoped>\n",
       "    .dataframe tbody tr th:only-of-type {\n",
       "        vertical-align: middle;\n",
       "    }\n",
       "\n",
       "    .dataframe tbody tr th {\n",
       "        vertical-align: top;\n",
       "    }\n",
       "\n",
       "    .dataframe thead th {\n",
       "        text-align: right;\n",
       "    }\n",
       "</style>\n",
       "<table border=\"1\" class=\"dataframe\">\n",
       "  <thead>\n",
       "    <tr style=\"text-align: right;\">\n",
       "      <th></th>\n",
       "      <th>Zone</th>\n",
       "      <th>Année</th>\n",
       "      <th>Valeur</th>\n",
       "    </tr>\n",
       "  </thead>\n",
       "  <tbody>\n",
       "    <tr>\n",
       "      <th>0</th>\n",
       "      <td>Afghanistan</td>\n",
       "      <td>2013</td>\n",
       "      <td>32269.589</td>\n",
       "    </tr>\n",
       "    <tr>\n",
       "      <th>1</th>\n",
       "      <td>Afghanistan</td>\n",
       "      <td>2014</td>\n",
       "      <td>33370.794</td>\n",
       "    </tr>\n",
       "    <tr>\n",
       "      <th>2</th>\n",
       "      <td>Afghanistan</td>\n",
       "      <td>2015</td>\n",
       "      <td>34413.603</td>\n",
       "    </tr>\n",
       "    <tr>\n",
       "      <th>3</th>\n",
       "      <td>Afghanistan</td>\n",
       "      <td>2016</td>\n",
       "      <td>35383.032</td>\n",
       "    </tr>\n",
       "    <tr>\n",
       "      <th>4</th>\n",
       "      <td>Afghanistan</td>\n",
       "      <td>2017</td>\n",
       "      <td>36296.113</td>\n",
       "    </tr>\n",
       "  </tbody>\n",
       "</table>\n",
       "</div>"
      ],
      "text/plain": [
       "          Zone  Année     Valeur\n",
       "0  Afghanistan   2013  32269.589\n",
       "1  Afghanistan   2014  33370.794\n",
       "2  Afghanistan   2015  34413.603\n",
       "3  Afghanistan   2016  35383.032\n",
       "4  Afghanistan   2017  36296.113"
      ]
     },
     "execution_count": 448,
     "metadata": {},
     "output_type": "execute_result"
    }
   ],
   "source": [
    "population = pd.read_csv('data/population.csv')\n",
    "population.head()"
   ]
  },
  {
   "cell_type": "code",
   "execution_count": 449,
   "id": "9717d6c4",
   "metadata": {},
   "outputs": [
    {
     "data": {
      "text/html": [
       "<div>\n",
       "<style scoped>\n",
       "    .dataframe tbody tr th:only-of-type {\n",
       "        vertical-align: middle;\n",
       "    }\n",
       "\n",
       "    .dataframe tbody tr th {\n",
       "        vertical-align: top;\n",
       "    }\n",
       "\n",
       "    .dataframe thead th {\n",
       "        text-align: right;\n",
       "    }\n",
       "</style>\n",
       "<table border=\"1\" class=\"dataframe\">\n",
       "  <thead>\n",
       "    <tr style=\"text-align: right;\">\n",
       "      <th></th>\n",
       "      <th>Zone</th>\n",
       "      <th>Année</th>\n",
       "      <th>Valeur</th>\n",
       "    </tr>\n",
       "  </thead>\n",
       "  <tbody>\n",
       "    <tr>\n",
       "      <th>0</th>\n",
       "      <td>Afghanistan</td>\n",
       "      <td>2012-2014</td>\n",
       "      <td>8.6</td>\n",
       "    </tr>\n",
       "    <tr>\n",
       "      <th>1</th>\n",
       "      <td>Afghanistan</td>\n",
       "      <td>2013-2015</td>\n",
       "      <td>8.8</td>\n",
       "    </tr>\n",
       "    <tr>\n",
       "      <th>2</th>\n",
       "      <td>Afghanistan</td>\n",
       "      <td>2014-2016</td>\n",
       "      <td>8.9</td>\n",
       "    </tr>\n",
       "    <tr>\n",
       "      <th>3</th>\n",
       "      <td>Afghanistan</td>\n",
       "      <td>2015-2017</td>\n",
       "      <td>9.7</td>\n",
       "    </tr>\n",
       "    <tr>\n",
       "      <th>4</th>\n",
       "      <td>Afghanistan</td>\n",
       "      <td>2016-2018</td>\n",
       "      <td>10.5</td>\n",
       "    </tr>\n",
       "  </tbody>\n",
       "</table>\n",
       "</div>"
      ],
      "text/plain": [
       "          Zone      Année Valeur\n",
       "0  Afghanistan  2012-2014    8.6\n",
       "1  Afghanistan  2013-2015    8.8\n",
       "2  Afghanistan  2014-2016    8.9\n",
       "3  Afghanistan  2015-2017    9.7\n",
       "4  Afghanistan  2016-2018   10.5"
      ]
     },
     "execution_count": 449,
     "metadata": {},
     "output_type": "execute_result"
    }
   ],
   "source": [
    "sous_nutrition = pd.read_csv('data/sous_nutrition.csv')\n",
    "sous_nutrition.head()"
   ]
  },
  {
   "cell_type": "markdown",
   "id": "f7fe2ae6",
   "metadata": {},
   "source": [
    "## change columns/values"
   ]
  },
  {
   "cell_type": "code",
   "execution_count": 450,
   "id": "b6c482d1",
   "metadata": {},
   "outputs": [],
   "source": [
    "aide_alimentaire = aide_alimentaire.rename(columns = {'Pays bénéficiaire': 'Zone', 'Valeur': 'Quantité (en tonne)'})\n",
    "sous_nutrition = sous_nutrition.rename(columns = {'Valeur': 'sous_nutrition (million)'})\n",
    "population = population.rename(columns = {'Valeur': 'nb_population (millier)'})\n",
    "sous_nutrition[\"Année\"] = sous_nutrition[\"Année\"].map({'2012-2014': 2013,\n",
    "                                                       '2013-2015': 2014,\n",
    "                                                       '2014-2016': 2015,\n",
    "                                                       '2015-2017': 2016,\n",
    "                                                       '2016-2018': 2017,\n",
    "                                                       '2017-2019': 2018})"
   ]
  },
  {
   "cell_type": "code",
   "execution_count": 666,
   "id": "4af9e861",
   "metadata": {},
   "outputs": [],
   "source": [
    "population[\"population_en_million\"] = population[\"nb_population (millier)\"] / 1E3\n",
    "\n",
    "sous_nutrition = sous_nutrition.dropna(subset =['Année'])\n",
    "sous_nutrition[\"Année\"] = sous_nutrition[\"Année\"].astype(int)"
   ]
  },
  {
   "cell_type": "markdown",
   "id": "1b0a5fe6",
   "metadata": {},
   "source": [
    "# EDA"
   ]
  },
  {
   "cell_type": "markdown",
   "id": "866f26db",
   "metadata": {},
   "source": [
    "## Groupby"
   ]
  },
  {
   "cell_type": "markdown",
   "id": "b60e0a9a",
   "metadata": {},
   "source": [
    "### Population"
   ]
  },
  {
   "cell_type": "code",
   "execution_count": 667,
   "id": "5cd2c428",
   "metadata": {},
   "outputs": [
    {
     "data": {
      "text/html": [
       "<div>\n",
       "<style scoped>\n",
       "    .dataframe tbody tr th:only-of-type {\n",
       "        vertical-align: middle;\n",
       "    }\n",
       "\n",
       "    .dataframe tbody tr th {\n",
       "        vertical-align: top;\n",
       "    }\n",
       "\n",
       "    .dataframe thead th {\n",
       "        text-align: right;\n",
       "    }\n",
       "</style>\n",
       "<table border=\"1\" class=\"dataframe\">\n",
       "  <thead>\n",
       "    <tr style=\"text-align: right;\">\n",
       "      <th></th>\n",
       "      <th>Zone</th>\n",
       "      <th>Année</th>\n",
       "      <th>nb_population (millier)</th>\n",
       "      <th>population_en_million</th>\n",
       "    </tr>\n",
       "  </thead>\n",
       "  <tbody>\n",
       "    <tr>\n",
       "      <th>0</th>\n",
       "      <td>Afghanistan</td>\n",
       "      <td>2013</td>\n",
       "      <td>32269.589</td>\n",
       "      <td>32.269589</td>\n",
       "    </tr>\n",
       "    <tr>\n",
       "      <th>1</th>\n",
       "      <td>Afghanistan</td>\n",
       "      <td>2014</td>\n",
       "      <td>33370.794</td>\n",
       "      <td>33.370794</td>\n",
       "    </tr>\n",
       "    <tr>\n",
       "      <th>2</th>\n",
       "      <td>Afghanistan</td>\n",
       "      <td>2015</td>\n",
       "      <td>34413.603</td>\n",
       "      <td>34.413603</td>\n",
       "    </tr>\n",
       "    <tr>\n",
       "      <th>3</th>\n",
       "      <td>Afghanistan</td>\n",
       "      <td>2016</td>\n",
       "      <td>35383.032</td>\n",
       "      <td>35.383032</td>\n",
       "    </tr>\n",
       "    <tr>\n",
       "      <th>4</th>\n",
       "      <td>Afghanistan</td>\n",
       "      <td>2017</td>\n",
       "      <td>36296.113</td>\n",
       "      <td>36.296113</td>\n",
       "    </tr>\n",
       "  </tbody>\n",
       "</table>\n",
       "</div>"
      ],
      "text/plain": [
       "          Zone  Année  nb_population (millier)  population_en_million\n",
       "0  Afghanistan   2013                32269.589              32.269589\n",
       "1  Afghanistan   2014                33370.794              33.370794\n",
       "2  Afghanistan   2015                34413.603              34.413603\n",
       "3  Afghanistan   2016                35383.032              35.383032\n",
       "4  Afghanistan   2017                36296.113              36.296113"
      ]
     },
     "execution_count": 667,
     "metadata": {},
     "output_type": "execute_result"
    }
   ],
   "source": [
    "population.head()"
   ]
  },
  {
   "cell_type": "code",
   "execution_count": 668,
   "id": "12e4f144",
   "metadata": {},
   "outputs": [],
   "source": [
    "population_Année = population.loc[population[\"Année\"] == 2017]"
   ]
  },
  {
   "cell_type": "code",
   "execution_count": 669,
   "id": "a8a6355f",
   "metadata": {},
   "outputs": [
    {
     "data": {
      "text/html": [
       "<div>\n",
       "<style scoped>\n",
       "    .dataframe tbody tr th:only-of-type {\n",
       "        vertical-align: middle;\n",
       "    }\n",
       "\n",
       "    .dataframe tbody tr th {\n",
       "        vertical-align: top;\n",
       "    }\n",
       "\n",
       "    .dataframe thead th {\n",
       "        text-align: right;\n",
       "    }\n",
       "</style>\n",
       "<table border=\"1\" class=\"dataframe\">\n",
       "  <thead>\n",
       "    <tr style=\"text-align: right;\">\n",
       "      <th></th>\n",
       "      <th>Zone</th>\n",
       "      <th>population_en_million</th>\n",
       "    </tr>\n",
       "  </thead>\n",
       "  <tbody>\n",
       "    <tr>\n",
       "      <th>0</th>\n",
       "      <td>Afghanistan</td>\n",
       "      <td>36.296113</td>\n",
       "    </tr>\n",
       "    <tr>\n",
       "      <th>1</th>\n",
       "      <td>Afrique du Sud</td>\n",
       "      <td>57.009756</td>\n",
       "    </tr>\n",
       "    <tr>\n",
       "      <th>2</th>\n",
       "      <td>Albanie</td>\n",
       "      <td>2.884169</td>\n",
       "    </tr>\n",
       "    <tr>\n",
       "      <th>3</th>\n",
       "      <td>Algérie</td>\n",
       "      <td>41.389189</td>\n",
       "    </tr>\n",
       "    <tr>\n",
       "      <th>4</th>\n",
       "      <td>Allemagne</td>\n",
       "      <td>82.658409</td>\n",
       "    </tr>\n",
       "  </tbody>\n",
       "</table>\n",
       "</div>"
      ],
      "text/plain": [
       "             Zone  population_en_million\n",
       "0     Afghanistan              36.296113\n",
       "1  Afrique du Sud              57.009756\n",
       "2         Albanie               2.884169\n",
       "3         Algérie              41.389189\n",
       "4       Allemagne              82.658409"
      ]
     },
     "execution_count": 669,
     "metadata": {},
     "output_type": "execute_result"
    }
   ],
   "source": [
    "gb_population = population_Année.groupby(by = \"Zone\")[\"population_en_million\"].mean().reset_index()\n",
    "gb_population.head()"
   ]
  },
  {
   "cell_type": "markdown",
   "id": "8de253c7",
   "metadata": {},
   "source": [
    "### sous_nutrition"
   ]
  },
  {
   "cell_type": "code",
   "execution_count": 670,
   "id": "4968669d",
   "metadata": {},
   "outputs": [
    {
     "data": {
      "text/html": [
       "<div>\n",
       "<style scoped>\n",
       "    .dataframe tbody tr th:only-of-type {\n",
       "        vertical-align: middle;\n",
       "    }\n",
       "\n",
       "    .dataframe tbody tr th {\n",
       "        vertical-align: top;\n",
       "    }\n",
       "\n",
       "    .dataframe thead th {\n",
       "        text-align: right;\n",
       "    }\n",
       "</style>\n",
       "<table border=\"1\" class=\"dataframe\">\n",
       "  <thead>\n",
       "    <tr style=\"text-align: right;\">\n",
       "      <th></th>\n",
       "      <th>Zone</th>\n",
       "      <th>Année</th>\n",
       "      <th>sous_nutrition (million)</th>\n",
       "    </tr>\n",
       "  </thead>\n",
       "  <tbody>\n",
       "    <tr>\n",
       "      <th>0</th>\n",
       "      <td>Afghanistan</td>\n",
       "      <td>2013</td>\n",
       "      <td>8.6</td>\n",
       "    </tr>\n",
       "    <tr>\n",
       "      <th>1</th>\n",
       "      <td>Afghanistan</td>\n",
       "      <td>2014</td>\n",
       "      <td>8.8</td>\n",
       "    </tr>\n",
       "    <tr>\n",
       "      <th>2</th>\n",
       "      <td>Afghanistan</td>\n",
       "      <td>2015</td>\n",
       "      <td>8.9</td>\n",
       "    </tr>\n",
       "    <tr>\n",
       "      <th>3</th>\n",
       "      <td>Afghanistan</td>\n",
       "      <td>2016</td>\n",
       "      <td>9.7</td>\n",
       "    </tr>\n",
       "    <tr>\n",
       "      <th>4</th>\n",
       "      <td>Afghanistan</td>\n",
       "      <td>2017</td>\n",
       "      <td>10.5</td>\n",
       "    </tr>\n",
       "  </tbody>\n",
       "</table>\n",
       "</div>"
      ],
      "text/plain": [
       "          Zone  Année sous_nutrition (million)\n",
       "0  Afghanistan   2013                      8.6\n",
       "1  Afghanistan   2014                      8.8\n",
       "2  Afghanistan   2015                      8.9\n",
       "3  Afghanistan   2016                      9.7\n",
       "4  Afghanistan   2017                     10.5"
      ]
     },
     "execution_count": 670,
     "metadata": {},
     "output_type": "execute_result"
    }
   ],
   "source": [
    "sous_nutrition.head()"
   ]
  },
  {
   "cell_type": "code",
   "execution_count": 671,
   "id": "7c365bd5",
   "metadata": {},
   "outputs": [],
   "source": [
    "sous_nutrition_Année = sous_nutrition.loc[sous_nutrition[\"Année\"] == 2017]"
   ]
  },
  {
   "cell_type": "code",
   "execution_count": 672,
   "id": "874de535",
   "metadata": {},
   "outputs": [
    {
     "data": {
      "text/html": [
       "<div>\n",
       "<style scoped>\n",
       "    .dataframe tbody tr th:only-of-type {\n",
       "        vertical-align: middle;\n",
       "    }\n",
       "\n",
       "    .dataframe tbody tr th {\n",
       "        vertical-align: top;\n",
       "    }\n",
       "\n",
       "    .dataframe thead th {\n",
       "        text-align: right;\n",
       "    }\n",
       "</style>\n",
       "<table border=\"1\" class=\"dataframe\">\n",
       "  <thead>\n",
       "    <tr style=\"text-align: right;\">\n",
       "      <th></th>\n",
       "      <th>Zone</th>\n",
       "      <th>Année</th>\n",
       "      <th>sous_nutrition (million)</th>\n",
       "    </tr>\n",
       "  </thead>\n",
       "  <tbody>\n",
       "    <tr>\n",
       "      <th>4</th>\n",
       "      <td>Afghanistan</td>\n",
       "      <td>2017</td>\n",
       "      <td>10.5</td>\n",
       "    </tr>\n",
       "    <tr>\n",
       "      <th>10</th>\n",
       "      <td>Afrique du Sud</td>\n",
       "      <td>2017</td>\n",
       "      <td>3.1</td>\n",
       "    </tr>\n",
       "    <tr>\n",
       "      <th>16</th>\n",
       "      <td>Albanie</td>\n",
       "      <td>2017</td>\n",
       "      <td>0.1</td>\n",
       "    </tr>\n",
       "    <tr>\n",
       "      <th>22</th>\n",
       "      <td>Algérie</td>\n",
       "      <td>2017</td>\n",
       "      <td>1.3</td>\n",
       "    </tr>\n",
       "    <tr>\n",
       "      <th>28</th>\n",
       "      <td>Allemagne</td>\n",
       "      <td>2017</td>\n",
       "      <td>NaN</td>\n",
       "    </tr>\n",
       "    <tr>\n",
       "      <th>...</th>\n",
       "      <td>...</td>\n",
       "      <td>...</td>\n",
       "      <td>...</td>\n",
       "    </tr>\n",
       "    <tr>\n",
       "      <th>1192</th>\n",
       "      <td>Venezuela (République bolivarienne du)</td>\n",
       "      <td>2017</td>\n",
       "      <td>8</td>\n",
       "    </tr>\n",
       "    <tr>\n",
       "      <th>1198</th>\n",
       "      <td>Viet Nam</td>\n",
       "      <td>2017</td>\n",
       "      <td>6.5</td>\n",
       "    </tr>\n",
       "    <tr>\n",
       "      <th>1204</th>\n",
       "      <td>Yémen</td>\n",
       "      <td>2017</td>\n",
       "      <td>NaN</td>\n",
       "    </tr>\n",
       "    <tr>\n",
       "      <th>1210</th>\n",
       "      <td>Zambie</td>\n",
       "      <td>2017</td>\n",
       "      <td>NaN</td>\n",
       "    </tr>\n",
       "    <tr>\n",
       "      <th>1216</th>\n",
       "      <td>Zimbabwe</td>\n",
       "      <td>2017</td>\n",
       "      <td>NaN</td>\n",
       "    </tr>\n",
       "  </tbody>\n",
       "</table>\n",
       "<p>203 rows × 3 columns</p>\n",
       "</div>"
      ],
      "text/plain": [
       "                                        Zone  Année sous_nutrition (million)\n",
       "4                                Afghanistan   2017                     10.5\n",
       "10                            Afrique du Sud   2017                      3.1\n",
       "16                                   Albanie   2017                      0.1\n",
       "22                                   Algérie   2017                      1.3\n",
       "28                                 Allemagne   2017                      NaN\n",
       "...                                      ...    ...                      ...\n",
       "1192  Venezuela (République bolivarienne du)   2017                        8\n",
       "1198                                Viet Nam   2017                      6.5\n",
       "1204                                   Yémen   2017                      NaN\n",
       "1210                                  Zambie   2017                      NaN\n",
       "1216                                Zimbabwe   2017                      NaN\n",
       "\n",
       "[203 rows x 3 columns]"
      ]
     },
     "execution_count": 672,
     "metadata": {},
     "output_type": "execute_result"
    }
   ],
   "source": [
    "sous_nutrition_Année"
   ]
  },
  {
   "cell_type": "code",
   "execution_count": 673,
   "id": "d29556bc",
   "metadata": {},
   "outputs": [
    {
     "data": {
      "text/plain": [
       "(203, 3)"
      ]
     },
     "execution_count": 673,
     "metadata": {},
     "output_type": "execute_result"
    }
   ],
   "source": [
    "sous_nutrition_Année.shape"
   ]
  },
  {
   "cell_type": "code",
   "execution_count": 674,
   "id": "4417ee56",
   "metadata": {},
   "outputs": [
    {
     "data": {
      "text/plain": [
       "Zone                         0\n",
       "Année                        0\n",
       "sous_nutrition (million)    99\n",
       "dtype: int64"
      ]
     },
     "execution_count": 674,
     "metadata": {},
     "output_type": "execute_result"
    }
   ],
   "source": [
    "sous_nutrition_Année.isnull().sum()"
   ]
  },
  {
   "cell_type": "code",
   "execution_count": 675,
   "id": "ce4f36b5",
   "metadata": {},
   "outputs": [
    {
     "data": {
      "text/plain": [
       "Zone                        0\n",
       "Année                       0\n",
       "sous_nutrition (million)    0\n",
       "dtype: int64"
      ]
     },
     "execution_count": 675,
     "metadata": {},
     "output_type": "execute_result"
    }
   ],
   "source": [
    "sous_nutrition_no_nan = sous_nutrition_Année.dropna()\n",
    "sous_nutrition_no_nan.isnull().sum()"
   ]
  },
  {
   "cell_type": "code",
   "execution_count": 676,
   "id": "d6942827",
   "metadata": {},
   "outputs": [
    {
     "data": {
      "text/html": [
       "<div>\n",
       "<style scoped>\n",
       "    .dataframe tbody tr th:only-of-type {\n",
       "        vertical-align: middle;\n",
       "    }\n",
       "\n",
       "    .dataframe tbody tr th {\n",
       "        vertical-align: top;\n",
       "    }\n",
       "\n",
       "    .dataframe thead th {\n",
       "        text-align: right;\n",
       "    }\n",
       "</style>\n",
       "<table border=\"1\" class=\"dataframe\">\n",
       "  <thead>\n",
       "    <tr style=\"text-align: right;\">\n",
       "      <th></th>\n",
       "      <th>Zone</th>\n",
       "      <th>Année</th>\n",
       "      <th>sous_nutrition (million)</th>\n",
       "    </tr>\n",
       "  </thead>\n",
       "  <tbody>\n",
       "    <tr>\n",
       "      <th>4</th>\n",
       "      <td>Afghanistan</td>\n",
       "      <td>2017</td>\n",
       "      <td>10.5</td>\n",
       "    </tr>\n",
       "    <tr>\n",
       "      <th>10</th>\n",
       "      <td>Afrique du Sud</td>\n",
       "      <td>2017</td>\n",
       "      <td>3.1</td>\n",
       "    </tr>\n",
       "    <tr>\n",
       "      <th>16</th>\n",
       "      <td>Albanie</td>\n",
       "      <td>2017</td>\n",
       "      <td>0.1</td>\n",
       "    </tr>\n",
       "    <tr>\n",
       "      <th>22</th>\n",
       "      <td>Algérie</td>\n",
       "      <td>2017</td>\n",
       "      <td>1.3</td>\n",
       "    </tr>\n",
       "    <tr>\n",
       "      <th>40</th>\n",
       "      <td>Angola</td>\n",
       "      <td>2017</td>\n",
       "      <td>5.8</td>\n",
       "    </tr>\n",
       "    <tr>\n",
       "      <th>...</th>\n",
       "      <td>...</td>\n",
       "      <td>...</td>\n",
       "      <td>...</td>\n",
       "    </tr>\n",
       "    <tr>\n",
       "      <th>1156</th>\n",
       "      <td>Turkménistan</td>\n",
       "      <td>2017</td>\n",
       "      <td>0.2</td>\n",
       "    </tr>\n",
       "    <tr>\n",
       "      <th>1174</th>\n",
       "      <td>Ukraine</td>\n",
       "      <td>2017</td>\n",
       "      <td>1.5</td>\n",
       "    </tr>\n",
       "    <tr>\n",
       "      <th>1186</th>\n",
       "      <td>Vanuatu</td>\n",
       "      <td>2017</td>\n",
       "      <td>&lt;0.1</td>\n",
       "    </tr>\n",
       "    <tr>\n",
       "      <th>1192</th>\n",
       "      <td>Venezuela (République bolivarienne du)</td>\n",
       "      <td>2017</td>\n",
       "      <td>8</td>\n",
       "    </tr>\n",
       "    <tr>\n",
       "      <th>1198</th>\n",
       "      <td>Viet Nam</td>\n",
       "      <td>2017</td>\n",
       "      <td>6.5</td>\n",
       "    </tr>\n",
       "  </tbody>\n",
       "</table>\n",
       "<p>104 rows × 3 columns</p>\n",
       "</div>"
      ],
      "text/plain": [
       "                                        Zone  Année sous_nutrition (million)\n",
       "4                                Afghanistan   2017                     10.5\n",
       "10                            Afrique du Sud   2017                      3.1\n",
       "16                                   Albanie   2017                      0.1\n",
       "22                                   Algérie   2017                      1.3\n",
       "40                                    Angola   2017                      5.8\n",
       "...                                      ...    ...                      ...\n",
       "1156                            Turkménistan   2017                      0.2\n",
       "1174                                 Ukraine   2017                      1.5\n",
       "1186                                 Vanuatu   2017                     <0.1\n",
       "1192  Venezuela (République bolivarienne du)   2017                        8\n",
       "1198                                Viet Nam   2017                      6.5\n",
       "\n",
       "[104 rows x 3 columns]"
      ]
     },
     "execution_count": 676,
     "metadata": {},
     "output_type": "execute_result"
    }
   ],
   "source": [
    "sous_nutrition_no_nan"
   ]
  },
  {
   "cell_type": "code",
   "execution_count": 677,
   "id": "6cf99ee8",
   "metadata": {
    "scrolled": false
   },
   "outputs": [
    {
     "data": {
      "text/plain": [
       "(20, 3)"
      ]
     },
     "execution_count": 677,
     "metadata": {},
     "output_type": "execute_result"
    }
   ],
   "source": [
    "sous_nutrition_01 = sous_nutrition_no_nan.loc[sous_nutrition_no_nan[\"sous_nutrition (million)\"] == \"<0.1\"]\n",
    "sous_nutrition_01.shape"
   ]
  },
  {
   "cell_type": "code",
   "execution_count": 678,
   "id": "a329895f",
   "metadata": {},
   "outputs": [
    {
     "data": {
      "text/plain": [
       "Zone                        object\n",
       "Année                        int64\n",
       "sous_nutrition (million)    object\n",
       "dtype: object"
      ]
     },
     "execution_count": 678,
     "metadata": {},
     "output_type": "execute_result"
    }
   ],
   "source": [
    "sous_nutrition_no_nan.dtypes"
   ]
  },
  {
   "cell_type": "code",
   "execution_count": 679,
   "id": "ceddba81",
   "metadata": {},
   "outputs": [
    {
     "data": {
      "text/plain": [
       "array(['10.5', '3.1', '0.1', '1.3', '5.8', '1.6', '1.5', '<0.1', '21.5',\n",
       "       '0.8', '1.7', '0.5', '0.2', '3.6', '2.4', '0.6', '0.9', '2.7',\n",
       "       '1.4', '4.9', '4.6', '0.3', '21.1', '2', '5.3', '190.1', '23.6',\n",
       "       '3.9', '9', '11.9', '0.4', '1.8', '1', '3.3', '8.4', '9.4', '7.3',\n",
       "       '1.1', '22.8', '24.8', '2.2', '15.7', '12', '13.4', '4.2', '5',\n",
       "       '5.7', '6.2', '8', '6.5'], dtype=object)"
      ]
     },
     "execution_count": 679,
     "metadata": {},
     "output_type": "execute_result"
    }
   ],
   "source": [
    "sous_nutrition_no_nan[\"sous_nutrition (million)\"].unique()"
   ]
  },
  {
   "cell_type": "code",
   "execution_count": 680,
   "id": "fefdf68d",
   "metadata": {
    "scrolled": true
   },
   "outputs": [
    {
     "name": "stderr",
     "output_type": "stream",
     "text": [
      "/tmp/ipykernel_2373/2970151394.py:1: SettingWithCopyWarning: \n",
      "A value is trying to be set on a copy of a slice from a DataFrame.\n",
      "Try using .loc[row_indexer,col_indexer] = value instead\n",
      "\n",
      "See the caveats in the documentation: https://pandas.pydata.org/pandas-docs/stable/user_guide/indexing.html#returning-a-view-versus-a-copy\n",
      "  sous_nutrition_no_nan[\"sous_nutrition (million)\"] = sous_nutrition_no_nan[\"sous_nutrition (million)\"].replace(\"<0.1\", \"0.1\")\n"
     ]
    }
   ],
   "source": [
    "sous_nutrition_no_nan[\"sous_nutrition (million)\"] = sous_nutrition_no_nan[\"sous_nutrition (million)\"].replace(\"<0.1\", \"0.1\")"
   ]
  },
  {
   "cell_type": "code",
   "execution_count": 681,
   "id": "53200d9b",
   "metadata": {},
   "outputs": [
    {
     "data": {
      "text/plain": [
       "array(['10.5', '3.1', '0.1', '1.3', '5.8', '1.6', '1.5', '21.5', '0.8',\n",
       "       '1.7', '0.5', '0.2', '3.6', '2.4', '0.6', '0.9', '2.7', '1.4',\n",
       "       '4.9', '4.6', '0.3', '21.1', '2', '5.3', '190.1', '23.6', '3.9',\n",
       "       '9', '11.9', '0.4', '1.8', '1', '3.3', '8.4', '9.4', '7.3', '1.1',\n",
       "       '22.8', '24.8', '2.2', '15.7', '12', '13.4', '4.2', '5', '5.7',\n",
       "       '6.2', '8', '6.5'], dtype=object)"
      ]
     },
     "execution_count": 681,
     "metadata": {},
     "output_type": "execute_result"
    }
   ],
   "source": [
    "sous_nutrition_no_nan[\"sous_nutrition (million)\"].unique()"
   ]
  },
  {
   "cell_type": "code",
   "execution_count": 682,
   "id": "1e6e7ca3",
   "metadata": {},
   "outputs": [
    {
     "data": {
      "text/html": [
       "<div>\n",
       "<style scoped>\n",
       "    .dataframe tbody tr th:only-of-type {\n",
       "        vertical-align: middle;\n",
       "    }\n",
       "\n",
       "    .dataframe tbody tr th {\n",
       "        vertical-align: top;\n",
       "    }\n",
       "\n",
       "    .dataframe thead th {\n",
       "        text-align: right;\n",
       "    }\n",
       "</style>\n",
       "<table border=\"1\" class=\"dataframe\">\n",
       "  <thead>\n",
       "    <tr style=\"text-align: right;\">\n",
       "      <th></th>\n",
       "      <th>Zone</th>\n",
       "      <th>sous_nutrition (million)</th>\n",
       "    </tr>\n",
       "  </thead>\n",
       "  <tbody>\n",
       "    <tr>\n",
       "      <th>0</th>\n",
       "      <td>Afghanistan</td>\n",
       "      <td>10.5</td>\n",
       "    </tr>\n",
       "    <tr>\n",
       "      <th>1</th>\n",
       "      <td>Afrique du Sud</td>\n",
       "      <td>3.1</td>\n",
       "    </tr>\n",
       "    <tr>\n",
       "      <th>2</th>\n",
       "      <td>Albanie</td>\n",
       "      <td>0.1</td>\n",
       "    </tr>\n",
       "    <tr>\n",
       "      <th>3</th>\n",
       "      <td>Algérie</td>\n",
       "      <td>1.3</td>\n",
       "    </tr>\n",
       "    <tr>\n",
       "      <th>4</th>\n",
       "      <td>Angola</td>\n",
       "      <td>5.8</td>\n",
       "    </tr>\n",
       "  </tbody>\n",
       "</table>\n",
       "</div>"
      ],
      "text/plain": [
       "             Zone  sous_nutrition (million)\n",
       "0     Afghanistan                      10.5\n",
       "1  Afrique du Sud                       3.1\n",
       "2         Albanie                       0.1\n",
       "3         Algérie                       1.3\n",
       "4          Angola                       5.8"
      ]
     },
     "execution_count": 682,
     "metadata": {},
     "output_type": "execute_result"
    }
   ],
   "source": [
    "gb_sous_nutrition = sous_nutrition_no_nan.groupby(by = \"Zone\")[\"sous_nutrition (million)\"].mean().reset_index()\n",
    "gb_sous_nutrition.head()"
   ]
  },
  {
   "cell_type": "code",
   "execution_count": 683,
   "id": "0621a2dd",
   "metadata": {},
   "outputs": [
    {
     "data": {
      "text/plain": [
       "(104, 2)"
      ]
     },
     "execution_count": 683,
     "metadata": {},
     "output_type": "execute_result"
    }
   ],
   "source": [
    "gb_sous_nutrition.shape"
   ]
  },
  {
   "cell_type": "code",
   "execution_count": 684,
   "id": "112410c7",
   "metadata": {},
   "outputs": [
    {
     "data": {
      "text/plain": [
       "Zone                        0\n",
       "sous_nutrition (million)    0\n",
       "dtype: int64"
      ]
     },
     "execution_count": 684,
     "metadata": {},
     "output_type": "execute_result"
    }
   ],
   "source": [
    "gb_sous_nutrition.isnull().sum()"
   ]
  },
  {
   "cell_type": "markdown",
   "id": "41111354",
   "metadata": {},
   "source": [
    "### dispo_alimentaire"
   ]
  },
  {
   "cell_type": "code",
   "execution_count": 685,
   "id": "adeae729",
   "metadata": {},
   "outputs": [
    {
     "data": {
      "text/html": [
       "<div>\n",
       "<style scoped>\n",
       "    .dataframe tbody tr th:only-of-type {\n",
       "        vertical-align: middle;\n",
       "    }\n",
       "\n",
       "    .dataframe tbody tr th {\n",
       "        vertical-align: top;\n",
       "    }\n",
       "\n",
       "    .dataframe thead th {\n",
       "        text-align: right;\n",
       "    }\n",
       "</style>\n",
       "<table border=\"1\" class=\"dataframe\">\n",
       "  <thead>\n",
       "    <tr style=\"text-align: right;\">\n",
       "      <th></th>\n",
       "      <th>Zone</th>\n",
       "      <th>Produit</th>\n",
       "      <th>Origine</th>\n",
       "      <th>Aliments pour animaux</th>\n",
       "      <th>Autres Utilisations</th>\n",
       "      <th>Disponibilité alimentaire (Kcal/personne/jour)</th>\n",
       "      <th>Disponibilité alimentaire en quantité (kg/personne/an)</th>\n",
       "      <th>Disponibilité de matière grasse en quantité (g/personne/jour)</th>\n",
       "      <th>Disponibilité de protéines en quantité (g/personne/jour)</th>\n",
       "      <th>Disponibilité intérieure</th>\n",
       "      <th>Exportations - Quantité</th>\n",
       "      <th>Importations - Quantité</th>\n",
       "      <th>Nourriture</th>\n",
       "      <th>Pertes</th>\n",
       "      <th>Production</th>\n",
       "      <th>Semences</th>\n",
       "      <th>Traitement</th>\n",
       "      <th>Variation de stock</th>\n",
       "    </tr>\n",
       "  </thead>\n",
       "  <tbody>\n",
       "    <tr>\n",
       "      <th>0</th>\n",
       "      <td>Afghanistan</td>\n",
       "      <td>Abats Comestible</td>\n",
       "      <td>animale</td>\n",
       "      <td>NaN</td>\n",
       "      <td>NaN</td>\n",
       "      <td>5.0</td>\n",
       "      <td>1.72</td>\n",
       "      <td>0.20</td>\n",
       "      <td>0.77</td>\n",
       "      <td>53.0</td>\n",
       "      <td>NaN</td>\n",
       "      <td>NaN</td>\n",
       "      <td>53.0</td>\n",
       "      <td>NaN</td>\n",
       "      <td>53.0</td>\n",
       "      <td>NaN</td>\n",
       "      <td>NaN</td>\n",
       "      <td>NaN</td>\n",
       "    </tr>\n",
       "    <tr>\n",
       "      <th>1</th>\n",
       "      <td>Afghanistan</td>\n",
       "      <td>Agrumes, Autres</td>\n",
       "      <td>vegetale</td>\n",
       "      <td>NaN</td>\n",
       "      <td>NaN</td>\n",
       "      <td>1.0</td>\n",
       "      <td>1.29</td>\n",
       "      <td>0.01</td>\n",
       "      <td>0.02</td>\n",
       "      <td>41.0</td>\n",
       "      <td>2.0</td>\n",
       "      <td>40.0</td>\n",
       "      <td>39.0</td>\n",
       "      <td>2.0</td>\n",
       "      <td>3.0</td>\n",
       "      <td>NaN</td>\n",
       "      <td>NaN</td>\n",
       "      <td>NaN</td>\n",
       "    </tr>\n",
       "    <tr>\n",
       "      <th>2</th>\n",
       "      <td>Afghanistan</td>\n",
       "      <td>Aliments pour enfants</td>\n",
       "      <td>vegetale</td>\n",
       "      <td>NaN</td>\n",
       "      <td>NaN</td>\n",
       "      <td>1.0</td>\n",
       "      <td>0.06</td>\n",
       "      <td>0.01</td>\n",
       "      <td>0.03</td>\n",
       "      <td>2.0</td>\n",
       "      <td>NaN</td>\n",
       "      <td>2.0</td>\n",
       "      <td>2.0</td>\n",
       "      <td>NaN</td>\n",
       "      <td>NaN</td>\n",
       "      <td>NaN</td>\n",
       "      <td>NaN</td>\n",
       "      <td>NaN</td>\n",
       "    </tr>\n",
       "    <tr>\n",
       "      <th>3</th>\n",
       "      <td>Afghanistan</td>\n",
       "      <td>Ananas</td>\n",
       "      <td>vegetale</td>\n",
       "      <td>NaN</td>\n",
       "      <td>NaN</td>\n",
       "      <td>0.0</td>\n",
       "      <td>0.00</td>\n",
       "      <td>NaN</td>\n",
       "      <td>NaN</td>\n",
       "      <td>0.0</td>\n",
       "      <td>NaN</td>\n",
       "      <td>0.0</td>\n",
       "      <td>0.0</td>\n",
       "      <td>NaN</td>\n",
       "      <td>NaN</td>\n",
       "      <td>NaN</td>\n",
       "      <td>NaN</td>\n",
       "      <td>NaN</td>\n",
       "    </tr>\n",
       "    <tr>\n",
       "      <th>4</th>\n",
       "      <td>Afghanistan</td>\n",
       "      <td>Bananes</td>\n",
       "      <td>vegetale</td>\n",
       "      <td>NaN</td>\n",
       "      <td>NaN</td>\n",
       "      <td>4.0</td>\n",
       "      <td>2.70</td>\n",
       "      <td>0.02</td>\n",
       "      <td>0.05</td>\n",
       "      <td>82.0</td>\n",
       "      <td>NaN</td>\n",
       "      <td>82.0</td>\n",
       "      <td>82.0</td>\n",
       "      <td>NaN</td>\n",
       "      <td>NaN</td>\n",
       "      <td>NaN</td>\n",
       "      <td>NaN</td>\n",
       "      <td>NaN</td>\n",
       "    </tr>\n",
       "  </tbody>\n",
       "</table>\n",
       "</div>"
      ],
      "text/plain": [
       "          Zone                Produit   Origine  Aliments pour animaux  \\\n",
       "0  Afghanistan       Abats Comestible   animale                    NaN   \n",
       "1  Afghanistan        Agrumes, Autres  vegetale                    NaN   \n",
       "2  Afghanistan  Aliments pour enfants  vegetale                    NaN   \n",
       "3  Afghanistan                 Ananas  vegetale                    NaN   \n",
       "4  Afghanistan                Bananes  vegetale                    NaN   \n",
       "\n",
       "   Autres Utilisations  Disponibilité alimentaire (Kcal/personne/jour)  \\\n",
       "0                  NaN                                             5.0   \n",
       "1                  NaN                                             1.0   \n",
       "2                  NaN                                             1.0   \n",
       "3                  NaN                                             0.0   \n",
       "4                  NaN                                             4.0   \n",
       "\n",
       "   Disponibilité alimentaire en quantité (kg/personne/an)  \\\n",
       "0                                               1.72        \n",
       "1                                               1.29        \n",
       "2                                               0.06        \n",
       "3                                               0.00        \n",
       "4                                               2.70        \n",
       "\n",
       "   Disponibilité de matière grasse en quantité (g/personne/jour)  \\\n",
       "0                                               0.20               \n",
       "1                                               0.01               \n",
       "2                                               0.01               \n",
       "3                                                NaN               \n",
       "4                                               0.02               \n",
       "\n",
       "   Disponibilité de protéines en quantité (g/personne/jour)  \\\n",
       "0                                               0.77          \n",
       "1                                               0.02          \n",
       "2                                               0.03          \n",
       "3                                                NaN          \n",
       "4                                               0.05          \n",
       "\n",
       "   Disponibilité intérieure  Exportations - Quantité  Importations - Quantité  \\\n",
       "0                      53.0                      NaN                      NaN   \n",
       "1                      41.0                      2.0                     40.0   \n",
       "2                       2.0                      NaN                      2.0   \n",
       "3                       0.0                      NaN                      0.0   \n",
       "4                      82.0                      NaN                     82.0   \n",
       "\n",
       "   Nourriture  Pertes  Production  Semences  Traitement  Variation de stock  \n",
       "0        53.0     NaN        53.0       NaN         NaN                 NaN  \n",
       "1        39.0     2.0         3.0       NaN         NaN                 NaN  \n",
       "2         2.0     NaN         NaN       NaN         NaN                 NaN  \n",
       "3         0.0     NaN         NaN       NaN         NaN                 NaN  \n",
       "4        82.0     NaN         NaN       NaN         NaN                 NaN  "
      ]
     },
     "execution_count": 685,
     "metadata": {},
     "output_type": "execute_result"
    }
   ],
   "source": [
    "dispo_alimentaire.head()"
   ]
  },
  {
   "cell_type": "code",
   "execution_count": 686,
   "id": "f9af6669",
   "metadata": {},
   "outputs": [
    {
     "data": {
      "text/plain": [
       "Zone                                                                 0\n",
       "Produit                                                              0\n",
       "Origine                                                              0\n",
       "Aliments pour animaux                                            12885\n",
       "Autres Utilisations                                              10109\n",
       "Disponibilité alimentaire (Kcal/personne/jour)                    1364\n",
       "Disponibilité alimentaire en quantité (kg/personne/an)            1590\n",
       "Disponibilité de matière grasse en quantité (g/personne/jour)     3811\n",
       "Disponibilité de protéines en quantité (g/personne/jour)          4044\n",
       "Disponibilité intérieure                                           223\n",
       "Exportations - Quantité                                           3379\n",
       "Importations - Quantité                                            753\n",
       "Nourriture                                                        1590\n",
       "Pertes                                                           11327\n",
       "Production                                                        6425\n",
       "Semences                                                         13514\n",
       "Traitement                                                       13313\n",
       "Variation de stock                                                8829\n",
       "dtype: int64"
      ]
     },
     "execution_count": 686,
     "metadata": {},
     "output_type": "execute_result"
    }
   ],
   "source": [
    "dispo_alimentaire.isnull().sum()"
   ]
  },
  {
   "cell_type": "code",
   "execution_count": 687,
   "id": "4c0200aa",
   "metadata": {},
   "outputs": [
    {
     "data": {
      "text/plain": [
       "(15605, 11)"
      ]
     },
     "execution_count": 687,
     "metadata": {},
     "output_type": "execute_result"
    }
   ],
   "source": [
    "dispo_no_NaN = dispo_alimentaire.drop([\"Traitement\", \"Semences\", \"Pertes\", \"Autres Utilisations\", \"Aliments pour animaux\",\n",
    "                                         \"Variation de stock\", \"Production\"],\n",
    "                                        axis = 1)\n",
    "dispo_no_NaN.shape"
   ]
  },
  {
   "cell_type": "code",
   "execution_count": 688,
   "id": "0a900f6c",
   "metadata": {},
   "outputs": [
    {
     "data": {
      "text/plain": [
       "Zone                                                                0\n",
       "Produit                                                             0\n",
       "Origine                                                             0\n",
       "Disponibilité alimentaire (Kcal/personne/jour)                   1364\n",
       "Disponibilité alimentaire en quantité (kg/personne/an)           1590\n",
       "Disponibilité de matière grasse en quantité (g/personne/jour)    3811\n",
       "Disponibilité de protéines en quantité (g/personne/jour)         4044\n",
       "Disponibilité intérieure                                          223\n",
       "Exportations - Quantité                                          3379\n",
       "Importations - Quantité                                           753\n",
       "Nourriture                                                       1590\n",
       "dtype: int64"
      ]
     },
     "execution_count": 688,
     "metadata": {},
     "output_type": "execute_result"
    }
   ],
   "source": [
    "dispo_no_NaN.isnull().sum()"
   ]
  },
  {
   "cell_type": "code",
   "execution_count": 689,
   "id": "845cdc28",
   "metadata": {},
   "outputs": [
    {
     "data": {
      "text/plain": [
       "(8517, 11)"
      ]
     },
     "execution_count": 689,
     "metadata": {},
     "output_type": "execute_result"
    }
   ],
   "source": [
    "dispo = dispo_no_NaN.dropna()\n",
    "dispo.shape"
   ]
  },
  {
   "cell_type": "code",
   "execution_count": 690,
   "id": "64fb618a",
   "metadata": {},
   "outputs": [
    {
     "data": {
      "text/plain": [
       "Zone                                                             0\n",
       "Produit                                                          0\n",
       "Origine                                                          0\n",
       "Disponibilité alimentaire (Kcal/personne/jour)                   0\n",
       "Disponibilité alimentaire en quantité (kg/personne/an)           0\n",
       "Disponibilité de matière grasse en quantité (g/personne/jour)    0\n",
       "Disponibilité de protéines en quantité (g/personne/jour)         0\n",
       "Disponibilité intérieure                                         0\n",
       "Exportations - Quantité                                          0\n",
       "Importations - Quantité                                          0\n",
       "Nourriture                                                       0\n",
       "dtype: int64"
      ]
     },
     "execution_count": 690,
     "metadata": {},
     "output_type": "execute_result"
    }
   ],
   "source": [
    "dispo.isnull().sum()"
   ]
  },
  {
   "cell_type": "code",
   "execution_count": 691,
   "id": "86991ec5",
   "metadata": {},
   "outputs": [
    {
     "data": {
      "text/html": [
       "<div>\n",
       "<style scoped>\n",
       "    .dataframe tbody tr th:only-of-type {\n",
       "        vertical-align: middle;\n",
       "    }\n",
       "\n",
       "    .dataframe tbody tr th {\n",
       "        vertical-align: top;\n",
       "    }\n",
       "\n",
       "    .dataframe thead th {\n",
       "        text-align: right;\n",
       "    }\n",
       "</style>\n",
       "<table border=\"1\" class=\"dataframe\">\n",
       "  <thead>\n",
       "    <tr style=\"text-align: right;\">\n",
       "      <th></th>\n",
       "      <th>Zone</th>\n",
       "      <th>Année</th>\n",
       "      <th>nb_population (millier)</th>\n",
       "      <th>population_en_million</th>\n",
       "    </tr>\n",
       "  </thead>\n",
       "  <tbody>\n",
       "    <tr>\n",
       "      <th>0</th>\n",
       "      <td>Afghanistan</td>\n",
       "      <td>2013</td>\n",
       "      <td>32269.589</td>\n",
       "      <td>32.269589</td>\n",
       "    </tr>\n",
       "    <tr>\n",
       "      <th>1</th>\n",
       "      <td>Afghanistan</td>\n",
       "      <td>2014</td>\n",
       "      <td>33370.794</td>\n",
       "      <td>33.370794</td>\n",
       "    </tr>\n",
       "    <tr>\n",
       "      <th>2</th>\n",
       "      <td>Afghanistan</td>\n",
       "      <td>2015</td>\n",
       "      <td>34413.603</td>\n",
       "      <td>34.413603</td>\n",
       "    </tr>\n",
       "    <tr>\n",
       "      <th>3</th>\n",
       "      <td>Afghanistan</td>\n",
       "      <td>2016</td>\n",
       "      <td>35383.032</td>\n",
       "      <td>35.383032</td>\n",
       "    </tr>\n",
       "    <tr>\n",
       "      <th>4</th>\n",
       "      <td>Afghanistan</td>\n",
       "      <td>2017</td>\n",
       "      <td>36296.113</td>\n",
       "      <td>36.296113</td>\n",
       "    </tr>\n",
       "    <tr>\n",
       "      <th>...</th>\n",
       "      <td>...</td>\n",
       "      <td>...</td>\n",
       "      <td>...</td>\n",
       "      <td>...</td>\n",
       "    </tr>\n",
       "    <tr>\n",
       "      <th>1411</th>\n",
       "      <td>Zimbabwe</td>\n",
       "      <td>2014</td>\n",
       "      <td>13586.707</td>\n",
       "      <td>13.586707</td>\n",
       "    </tr>\n",
       "    <tr>\n",
       "      <th>1412</th>\n",
       "      <td>Zimbabwe</td>\n",
       "      <td>2015</td>\n",
       "      <td>13814.629</td>\n",
       "      <td>13.814629</td>\n",
       "    </tr>\n",
       "    <tr>\n",
       "      <th>1413</th>\n",
       "      <td>Zimbabwe</td>\n",
       "      <td>2016</td>\n",
       "      <td>14030.331</td>\n",
       "      <td>14.030331</td>\n",
       "    </tr>\n",
       "    <tr>\n",
       "      <th>1414</th>\n",
       "      <td>Zimbabwe</td>\n",
       "      <td>2017</td>\n",
       "      <td>14236.595</td>\n",
       "      <td>14.236595</td>\n",
       "    </tr>\n",
       "    <tr>\n",
       "      <th>1415</th>\n",
       "      <td>Zimbabwe</td>\n",
       "      <td>2018</td>\n",
       "      <td>14438.802</td>\n",
       "      <td>14.438802</td>\n",
       "    </tr>\n",
       "  </tbody>\n",
       "</table>\n",
       "<p>1416 rows × 4 columns</p>\n",
       "</div>"
      ],
      "text/plain": [
       "             Zone  Année  nb_population (millier)  population_en_million\n",
       "0     Afghanistan   2013                32269.589              32.269589\n",
       "1     Afghanistan   2014                33370.794              33.370794\n",
       "2     Afghanistan   2015                34413.603              34.413603\n",
       "3     Afghanistan   2016                35383.032              35.383032\n",
       "4     Afghanistan   2017                36296.113              36.296113\n",
       "...           ...    ...                      ...                    ...\n",
       "1411     Zimbabwe   2014                13586.707              13.586707\n",
       "1412     Zimbabwe   2015                13814.629              13.814629\n",
       "1413     Zimbabwe   2016                14030.331              14.030331\n",
       "1414     Zimbabwe   2017                14236.595              14.236595\n",
       "1415     Zimbabwe   2018                14438.802              14.438802\n",
       "\n",
       "[1416 rows x 4 columns]"
      ]
     },
     "execution_count": 691,
     "metadata": {},
     "output_type": "execute_result"
    }
   ],
   "source": [
    "population"
   ]
  },
  {
   "cell_type": "markdown",
   "id": "fc7a0602",
   "metadata": {},
   "source": [
    "### aide_alimentaire"
   ]
  },
  {
   "cell_type": "code",
   "execution_count": 692,
   "id": "95f96226",
   "metadata": {},
   "outputs": [
    {
     "data": {
      "text/html": [
       "<div>\n",
       "<style scoped>\n",
       "    .dataframe tbody tr th:only-of-type {\n",
       "        vertical-align: middle;\n",
       "    }\n",
       "\n",
       "    .dataframe tbody tr th {\n",
       "        vertical-align: top;\n",
       "    }\n",
       "\n",
       "    .dataframe thead th {\n",
       "        text-align: right;\n",
       "    }\n",
       "</style>\n",
       "<table border=\"1\" class=\"dataframe\">\n",
       "  <thead>\n",
       "    <tr style=\"text-align: right;\">\n",
       "      <th></th>\n",
       "      <th>Zone</th>\n",
       "      <th>Année</th>\n",
       "      <th>Produit</th>\n",
       "      <th>Quantité (en tonne)</th>\n",
       "    </tr>\n",
       "  </thead>\n",
       "  <tbody>\n",
       "    <tr>\n",
       "      <th>0</th>\n",
       "      <td>Afghanistan</td>\n",
       "      <td>2013</td>\n",
       "      <td>Autres non-céréales</td>\n",
       "      <td>682</td>\n",
       "    </tr>\n",
       "    <tr>\n",
       "      <th>1</th>\n",
       "      <td>Afghanistan</td>\n",
       "      <td>2014</td>\n",
       "      <td>Autres non-céréales</td>\n",
       "      <td>335</td>\n",
       "    </tr>\n",
       "    <tr>\n",
       "      <th>2</th>\n",
       "      <td>Afghanistan</td>\n",
       "      <td>2013</td>\n",
       "      <td>Blé et Farin</td>\n",
       "      <td>39224</td>\n",
       "    </tr>\n",
       "    <tr>\n",
       "      <th>3</th>\n",
       "      <td>Afghanistan</td>\n",
       "      <td>2014</td>\n",
       "      <td>Blé et Farin</td>\n",
       "      <td>15160</td>\n",
       "    </tr>\n",
       "    <tr>\n",
       "      <th>4</th>\n",
       "      <td>Afghanistan</td>\n",
       "      <td>2013</td>\n",
       "      <td>Céréales</td>\n",
       "      <td>40504</td>\n",
       "    </tr>\n",
       "  </tbody>\n",
       "</table>\n",
       "</div>"
      ],
      "text/plain": [
       "          Zone  Année              Produit  Quantité (en tonne)\n",
       "0  Afghanistan   2013  Autres non-céréales                  682\n",
       "1  Afghanistan   2014  Autres non-céréales                  335\n",
       "2  Afghanistan   2013         Blé et Farin                39224\n",
       "3  Afghanistan   2014         Blé et Farin                15160\n",
       "4  Afghanistan   2013             Céréales                40504"
      ]
     },
     "execution_count": 692,
     "metadata": {},
     "output_type": "execute_result"
    }
   ],
   "source": [
    "aide_alimentaire.head()"
   ]
  },
  {
   "cell_type": "code",
   "execution_count": 693,
   "id": "bc947d85",
   "metadata": {},
   "outputs": [
    {
     "data": {
      "text/plain": [
       "(76, 2)"
      ]
     },
     "execution_count": 693,
     "metadata": {},
     "output_type": "execute_result"
    }
   ],
   "source": [
    "gb_aide_alimentaire = aide_alimentaire.groupby(by = \"Zone\")[\"Quantité (en tonne)\"].sum().reset_index()\n",
    "gb_aide_alimentaire.shape"
   ]
  },
  {
   "cell_type": "code",
   "execution_count": 694,
   "id": "e6485f85",
   "metadata": {},
   "outputs": [
    {
     "data": {
      "text/plain": [
       "Zone                   0\n",
       "Quantité (en tonne)    0\n",
       "dtype: int64"
      ]
     },
     "execution_count": 694,
     "metadata": {},
     "output_type": "execute_result"
    }
   ],
   "source": [
    "gb_aide_alimentaire.isnull().sum()"
   ]
  },
  {
   "cell_type": "markdown",
   "id": "ce38509c",
   "metadata": {},
   "source": [
    "### merge "
   ]
  },
  {
   "cell_type": "code",
   "execution_count": 732,
   "id": "291352fd",
   "metadata": {},
   "outputs": [
    {
     "data": {
      "text/html": [
       "<div>\n",
       "<style scoped>\n",
       "    .dataframe tbody tr th:only-of-type {\n",
       "        vertical-align: middle;\n",
       "    }\n",
       "\n",
       "    .dataframe tbody tr th {\n",
       "        vertical-align: top;\n",
       "    }\n",
       "\n",
       "    .dataframe thead th {\n",
       "        text-align: right;\n",
       "    }\n",
       "</style>\n",
       "<table border=\"1\" class=\"dataframe\">\n",
       "  <thead>\n",
       "    <tr style=\"text-align: right;\">\n",
       "      <th></th>\n",
       "      <th>Zone</th>\n",
       "      <th>sous_nutrition (million)</th>\n",
       "      <th>population_en_million</th>\n",
       "    </tr>\n",
       "  </thead>\n",
       "  <tbody>\n",
       "    <tr>\n",
       "      <th>0</th>\n",
       "      <td>Afghanistan</td>\n",
       "      <td>10.5</td>\n",
       "      <td>36.296113</td>\n",
       "    </tr>\n",
       "    <tr>\n",
       "      <th>1</th>\n",
       "      <td>Afrique du Sud</td>\n",
       "      <td>3.1</td>\n",
       "      <td>57.009756</td>\n",
       "    </tr>\n",
       "    <tr>\n",
       "      <th>2</th>\n",
       "      <td>Albanie</td>\n",
       "      <td>0.1</td>\n",
       "      <td>2.884169</td>\n",
       "    </tr>\n",
       "    <tr>\n",
       "      <th>3</th>\n",
       "      <td>Algérie</td>\n",
       "      <td>1.3</td>\n",
       "      <td>41.389189</td>\n",
       "    </tr>\n",
       "    <tr>\n",
       "      <th>4</th>\n",
       "      <td>Angola</td>\n",
       "      <td>5.8</td>\n",
       "      <td>29.816766</td>\n",
       "    </tr>\n",
       "  </tbody>\n",
       "</table>\n",
       "</div>"
      ],
      "text/plain": [
       "             Zone  sous_nutrition (million)  population_en_million\n",
       "0     Afghanistan                      10.5              36.296113\n",
       "1  Afrique du Sud                       3.1              57.009756\n",
       "2         Albanie                       0.1               2.884169\n",
       "3         Algérie                       1.3              41.389189\n",
       "4          Angola                       5.8              29.816766"
      ]
     },
     "execution_count": 732,
     "metadata": {},
     "output_type": "execute_result"
    }
   ],
   "source": [
    "df_merge = gb_sous_nutrition.merge(gb_population, on = \"Zone\", how = \"left\")\n",
    "df_merge.head()"
   ]
  },
  {
   "cell_type": "code",
   "execution_count": null,
   "id": "ae06226c",
   "metadata": {},
   "outputs": [],
   "source": []
  },
  {
   "cell_type": "markdown",
   "id": "d17836ea",
   "metadata": {},
   "source": [
    "## Outliers"
   ]
  },
  {
   "cell_type": "code",
   "execution_count": null,
   "id": "01eda0c3",
   "metadata": {},
   "outputs": [],
   "source": []
  },
  {
   "cell_type": "markdown",
   "id": "358d4293",
   "metadata": {},
   "source": [
    "## Change columns"
   ]
  },
  {
   "cell_type": "code",
   "execution_count": null,
   "id": "180efb11",
   "metadata": {},
   "outputs": [],
   "source": []
  },
  {
   "cell_type": "markdown",
   "id": "1ace3226",
   "metadata": {},
   "source": [
    "# Visualisation"
   ]
  },
  {
   "cell_type": "markdown",
   "id": "f3c519ab",
   "metadata": {},
   "source": [
    "## Partie 1"
   ]
  },
  {
   "cell_type": "markdown",
   "id": "0e9eba36",
   "metadata": {},
   "source": [
    "Pour une étude, nous souhaitons avoir les informations suivantes, sur l’année 2017 :\n",
    "\n",
    "- la proportion de personnes en état de sous-nutrition ;\n",
    "- le nombre théorique de personnes qui pourraient être nourries. Tu devrais pouvoir calculer ça à partir de la disponibilité alimentaire mondiale ;\n",
    "- idem pour la disponibilité alimentaire des produits végétaux ;\n",
    "- les pays pour lesquels la proportion de personnes sous-alimentées est la plus forte\n",
    "- Ceux ayant le plus/le moins de disponibilité/habitant, etc., Travailler ensuite une fonction permettant de sortir ce résultat pour toutes les années. Vous devrez, dans un nouveau notebook, permettre à l’utilisateur de remplir manuellement une année et d’obtenir le résultat pour chacune des questions précédentes (pour les plus aguerrit : une application avec Flask, Dash ou Streamlit me va aussi 😊)."
   ]
  },
  {
   "cell_type": "code",
   "execution_count": 696,
   "id": "c3ee128b",
   "metadata": {},
   "outputs": [],
   "source": [
    "# no_sous_nutrition = df_sous_2017.loc[df_sous_2017[\"sous_nutrition (million)\"] == \"<0.1\"]\n",
    "# df_sous_2017 = df_sous_2017.loc[df_sous_2017[\"sous_nutrition (million)\"] != \"<0.1\"]\n",
    "# df_sous_2017[\"sous_nutrition (million)\"] = df_sous_2017[\"sous_nutrition (million)\"].astype(float)"
   ]
  },
  {
   "cell_type": "code",
   "execution_count": 697,
   "id": "512e4b8f",
   "metadata": {
    "scrolled": true
   },
   "outputs": [],
   "source": [
    "df_merge[\"proportion_sous_nutrition\"] = df_merge[\"sous_nutrition (million)\"] / df_merge[\"population_en_million\"]"
   ]
  },
  {
   "cell_type": "code",
   "execution_count": 698,
   "id": "20200a6c",
   "metadata": {},
   "outputs": [
    {
     "data": {
      "text/html": [
       "<div>\n",
       "<style scoped>\n",
       "    .dataframe tbody tr th:only-of-type {\n",
       "        vertical-align: middle;\n",
       "    }\n",
       "\n",
       "    .dataframe tbody tr th {\n",
       "        vertical-align: top;\n",
       "    }\n",
       "\n",
       "    .dataframe thead th {\n",
       "        text-align: right;\n",
       "    }\n",
       "</style>\n",
       "<table border=\"1\" class=\"dataframe\">\n",
       "  <thead>\n",
       "    <tr style=\"text-align: right;\">\n",
       "      <th></th>\n",
       "      <th>Zone</th>\n",
       "      <th>sous_nutrition (million)</th>\n",
       "      <th>population_en_million</th>\n",
       "      <th>proportion_sous_nutrition</th>\n",
       "    </tr>\n",
       "  </thead>\n",
       "  <tbody>\n",
       "    <tr>\n",
       "      <th>0</th>\n",
       "      <td>Afghanistan</td>\n",
       "      <td>10.5</td>\n",
       "      <td>36.296113</td>\n",
       "      <td>0.289287</td>\n",
       "    </tr>\n",
       "    <tr>\n",
       "      <th>1</th>\n",
       "      <td>Afrique du Sud</td>\n",
       "      <td>3.1</td>\n",
       "      <td>57.009756</td>\n",
       "      <td>0.054377</td>\n",
       "    </tr>\n",
       "    <tr>\n",
       "      <th>2</th>\n",
       "      <td>Albanie</td>\n",
       "      <td>0.1</td>\n",
       "      <td>2.884169</td>\n",
       "      <td>0.034672</td>\n",
       "    </tr>\n",
       "    <tr>\n",
       "      <th>3</th>\n",
       "      <td>Algérie</td>\n",
       "      <td>1.3</td>\n",
       "      <td>41.389189</td>\n",
       "      <td>0.031409</td>\n",
       "    </tr>\n",
       "    <tr>\n",
       "      <th>4</th>\n",
       "      <td>Angola</td>\n",
       "      <td>5.8</td>\n",
       "      <td>29.816766</td>\n",
       "      <td>0.194521</td>\n",
       "    </tr>\n",
       "    <tr>\n",
       "      <th>...</th>\n",
       "      <td>...</td>\n",
       "      <td>...</td>\n",
       "      <td>...</td>\n",
       "      <td>...</td>\n",
       "    </tr>\n",
       "    <tr>\n",
       "      <th>99</th>\n",
       "      <td>Égypte</td>\n",
       "      <td>4.6</td>\n",
       "      <td>96.442591</td>\n",
       "      <td>0.047697</td>\n",
       "    </tr>\n",
       "    <tr>\n",
       "      <th>100</th>\n",
       "      <td>Émirats arabes unis</td>\n",
       "      <td>0.3</td>\n",
       "      <td>9.487203</td>\n",
       "      <td>0.031622</td>\n",
       "    </tr>\n",
       "    <tr>\n",
       "      <th>101</th>\n",
       "      <td>Équateur</td>\n",
       "      <td>1.5</td>\n",
       "      <td>16.785361</td>\n",
       "      <td>0.089364</td>\n",
       "    </tr>\n",
       "    <tr>\n",
       "      <th>102</th>\n",
       "      <td>Éthiopie</td>\n",
       "      <td>21.1</td>\n",
       "      <td>106.399924</td>\n",
       "      <td>0.198308</td>\n",
       "    </tr>\n",
       "    <tr>\n",
       "      <th>103</th>\n",
       "      <td>Îles Salomon</td>\n",
       "      <td>0.1</td>\n",
       "      <td>0.636039</td>\n",
       "      <td>0.157223</td>\n",
       "    </tr>\n",
       "  </tbody>\n",
       "</table>\n",
       "<p>104 rows × 4 columns</p>\n",
       "</div>"
      ],
      "text/plain": [
       "                    Zone  sous_nutrition (million)  population_en_million  \\\n",
       "0            Afghanistan                      10.5              36.296113   \n",
       "1         Afrique du Sud                       3.1              57.009756   \n",
       "2                Albanie                       0.1               2.884169   \n",
       "3                Algérie                       1.3              41.389189   \n",
       "4                 Angola                       5.8              29.816766   \n",
       "..                   ...                       ...                    ...   \n",
       "99                Égypte                       4.6              96.442591   \n",
       "100  Émirats arabes unis                       0.3               9.487203   \n",
       "101             Équateur                       1.5              16.785361   \n",
       "102             Éthiopie                      21.1             106.399924   \n",
       "103         Îles Salomon                       0.1               0.636039   \n",
       "\n",
       "     proportion_sous_nutrition  \n",
       "0                     0.289287  \n",
       "1                     0.054377  \n",
       "2                     0.034672  \n",
       "3                     0.031409  \n",
       "4                     0.194521  \n",
       "..                         ...  \n",
       "99                    0.047697  \n",
       "100                   0.031622  \n",
       "101                   0.089364  \n",
       "102                   0.198308  \n",
       "103                   0.157223  \n",
       "\n",
       "[104 rows x 4 columns]"
      ]
     },
     "execution_count": 698,
     "metadata": {},
     "output_type": "execute_result"
    }
   ],
   "source": [
    "df_merge"
   ]
  },
  {
   "cell_type": "markdown",
   "id": "0389b430",
   "metadata": {},
   "source": [
    "### la proportion de personnes en état de sous-nutrition "
   ]
  },
  {
   "cell_type": "code",
   "execution_count": 699,
   "id": "f1b62a87",
   "metadata": {},
   "outputs": [
    {
     "name": "stdout",
     "output_type": "stream",
     "text": [
      "En 2017, la proportion de personnes en état de sous-nutrition dans le monde est de 7.12 %\n"
     ]
    }
   ],
   "source": [
    "proportion_sous_nutrition = round((df_merge[\"sous_nutrition (million)\"].sum() / gb_population[\"population_en_million\"].sum()) * 100, 2)\n",
    "\n",
    "print(f\"En 2017, la proportion de personnes en état de sous-nutrition dans le monde est de {proportion_sous_nutrition} %\")"
   ]
  },
  {
   "cell_type": "markdown",
   "id": "dc4dec8f",
   "metadata": {},
   "source": [
    "### Les pays pour lesquels la proportion de personnes sous-alimentées est la plus forte"
   ]
  },
  {
   "cell_type": "code",
   "execution_count": 700,
   "id": "3c4a874e",
   "metadata": {},
   "outputs": [],
   "source": [
    "# 2 bar plot représentant les 5 pays avec le taux de sous nutrition le plus élévée et \n",
    "# les 5 pays avec le taux de sous nutrition le plus faible "
   ]
  },
  {
   "cell_type": "code",
   "execution_count": 701,
   "id": "a89522f7",
   "metadata": {},
   "outputs": [],
   "source": [
    "gb_worse_sous_nutrition = df_merge.sort_values(by = [\"proportion_sous_nutrition\"], ascending = False)\n",
    "gb_best_sous_nutrition = df_merge.sort_values(by = [\"proportion_sous_nutrition\"], ascending = True)"
   ]
  },
  {
   "cell_type": "code",
   "execution_count": 702,
   "id": "c982fd48",
   "metadata": {},
   "outputs": [
    {
     "data": {
      "text/html": [
       "<div>\n",
       "<style scoped>\n",
       "    .dataframe tbody tr th:only-of-type {\n",
       "        vertical-align: middle;\n",
       "    }\n",
       "\n",
       "    .dataframe tbody tr th {\n",
       "        vertical-align: top;\n",
       "    }\n",
       "\n",
       "    .dataframe thead th {\n",
       "        text-align: right;\n",
       "    }\n",
       "</style>\n",
       "<table border=\"1\" class=\"dataframe\">\n",
       "  <thead>\n",
       "    <tr style=\"text-align: right;\">\n",
       "      <th></th>\n",
       "      <th>Zone</th>\n",
       "      <th>sous_nutrition (million)</th>\n",
       "      <th>population_en_million</th>\n",
       "      <th>proportion_sous_nutrition</th>\n",
       "    </tr>\n",
       "  </thead>\n",
       "  <tbody>\n",
       "    <tr>\n",
       "      <th>27</th>\n",
       "      <td>Dominique</td>\n",
       "      <td>0.1</td>\n",
       "      <td>0.071458</td>\n",
       "      <td>1.399423</td>\n",
       "    </tr>\n",
       "    <tr>\n",
       "      <th>80</th>\n",
       "      <td>Saint-Vincent-et-les Grenadines</td>\n",
       "      <td>0.1</td>\n",
       "      <td>0.109827</td>\n",
       "      <td>0.910523</td>\n",
       "    </tr>\n",
       "    <tr>\n",
       "      <th>47</th>\n",
       "      <td>Kiribati</td>\n",
       "      <td>0.1</td>\n",
       "      <td>0.114158</td>\n",
       "      <td>0.875979</td>\n",
       "    </tr>\n",
       "    <tr>\n",
       "      <th>81</th>\n",
       "      <td>Sao Tomé-et-Principe</td>\n",
       "      <td>0.1</td>\n",
       "      <td>0.207089</td>\n",
       "      <td>0.482884</td>\n",
       "    </tr>\n",
       "    <tr>\n",
       "      <th>37</th>\n",
       "      <td>Haïti</td>\n",
       "      <td>5.3</td>\n",
       "      <td>10.982366</td>\n",
       "      <td>0.482592</td>\n",
       "    </tr>\n",
       "  </tbody>\n",
       "</table>\n",
       "</div>"
      ],
      "text/plain": [
       "                               Zone  sous_nutrition (million)  \\\n",
       "27                        Dominique                       0.1   \n",
       "80  Saint-Vincent-et-les Grenadines                       0.1   \n",
       "47                         Kiribati                       0.1   \n",
       "81             Sao Tomé-et-Principe                       0.1   \n",
       "37                            Haïti                       5.3   \n",
       "\n",
       "    population_en_million  proportion_sous_nutrition  \n",
       "27               0.071458                   1.399423  \n",
       "80               0.109827                   0.910523  \n",
       "47               0.114158                   0.875979  \n",
       "81               0.207089                   0.482884  \n",
       "37              10.982366                   0.482592  "
      ]
     },
     "execution_count": 702,
     "metadata": {},
     "output_type": "execute_result"
    }
   ],
   "source": [
    "gb_worse_sous_nutrition.head()"
   ]
  },
  {
   "cell_type": "code",
   "execution_count": 703,
   "id": "05c07f53",
   "metadata": {},
   "outputs": [],
   "source": [
    "top_5_worse = gb_worse_sous_nutrition.loc[(gb_worse_sous_nutrition[\"Zone\"] == \"Haïti\")|\n",
    "                                          (gb_worse_sous_nutrition[\"Zone\"] == \"République populaire démocratique de Corée\")|\n",
    "                                          (gb_worse_sous_nutrition[\"Zone\"] == \"Madagascar\")|\n",
    "                                          (gb_worse_sous_nutrition[\"Zone\"] == \"Tchad\")|\n",
    "                                          (gb_worse_sous_nutrition[\"Zone\"] == \"Libéria\")] \n",
    "\n",
    "top_5_best = gb_best_sous_nutrition.loc[(gb_worse_sous_nutrition[\"Zone\"] == \"Ouzbékistan\")|\n",
    "                                          (gb_worse_sous_nutrition[\"Zone\"] == \"Bulgarie\")|\n",
    "                                          (gb_worse_sous_nutrition[\"Zone\"] == \"Malaisie\")|\n",
    "                                          (gb_worse_sous_nutrition[\"Zone\"] == \"Algérie\")|\n",
    "                                          (gb_worse_sous_nutrition[\"Zone\"] == \"Émirats arabes unis\")] "
   ]
  },
  {
   "cell_type": "code",
   "execution_count": 704,
   "id": "c2f474d1",
   "metadata": {},
   "outputs": [
    {
     "data": {
      "image/png": "[encoded data removed]",
      "text/plain": [
       "<Figure size 1500x700 with 1 Axes>"
      ]
     },
     "metadata": {},
     "output_type": "display_data"
    },
    {
     "data": {
      "image/png": "[encoded data removed]",
      "text/plain": [
       "<Figure size 1500x700 with 1 Axes>"
      ]
     },
     "metadata": {},
     "output_type": "display_data"
    }
   ],
   "source": [
    "y_worse = top_5_worse[\"proportion_sous_nutrition\"].unique()\n",
    "labels_worse =top_5_worse[\"Zone\"].unique()\n",
    "colors = sns.color_palette(\"hls\", 8)\n",
    "\n",
    "y_best = top_5_best[\"proportion_sous_nutrition\"].unique()\n",
    "labels_best = top_5_best[\"Zone\"].unique()\n",
    "\n",
    "fig, ax = plt.subplots(figsize=(15, 7))\n",
    "    \n",
    "ax.bar(labels_worse, y_worse, color = colors)\n",
    "ax.set_xlabel(\"\")\n",
    "ax.set_ylabel(\"Ratio sous nutrition\")\n",
    "ax.set_title(\"Top 5 country with the worse ratio of sous nutrition\", fontsize = 15)\n",
    "plt.tick_params(axis = 'both', labelsize = 10)\n",
    "plt.show()\n",
    "\n",
    "fig, ax = plt.subplots(figsize=(15, 7))\n",
    "\n",
    "ax.bar(labels_best, y_best, color = colors)\n",
    "ax.set_xlabel(\"\")\n",
    "ax.set_ylabel(\"Ratio sous nutrition\")\n",
    "ax.set_title(\"Top 5 country with the best ratio of sous nutrition\", fontsize = 15)\n",
    "plt.tick_params(axis = 'both', labelsize = 10)\n",
    "plt.show()"
   ]
  },
  {
   "cell_type": "markdown",
   "id": "397af7ca",
   "metadata": {},
   "source": [
    "### le nombre théorique de personnes qui pourraient être nourries"
   ]
  },
  {
   "cell_type": "code",
   "execution_count": 705,
   "id": "84ff6744",
   "metadata": {},
   "outputs": [
    {
     "data": {
      "text/html": [
       "<div>\n",
       "<style scoped>\n",
       "    .dataframe tbody tr th:only-of-type {\n",
       "        vertical-align: middle;\n",
       "    }\n",
       "\n",
       "    .dataframe tbody tr th {\n",
       "        vertical-align: top;\n",
       "    }\n",
       "\n",
       "    .dataframe thead th {\n",
       "        text-align: right;\n",
       "    }\n",
       "</style>\n",
       "<table border=\"1\" class=\"dataframe\">\n",
       "  <thead>\n",
       "    <tr style=\"text-align: right;\">\n",
       "      <th></th>\n",
       "      <th>Zone</th>\n",
       "      <th>Produit</th>\n",
       "      <th>Origine</th>\n",
       "      <th>Disponibilité alimentaire (Kcal/personne/jour)</th>\n",
       "      <th>Disponibilité alimentaire en quantité (kg/personne/an)</th>\n",
       "      <th>Disponibilité de matière grasse en quantité (g/personne/jour)</th>\n",
       "      <th>Disponibilité de protéines en quantité (g/personne/jour)</th>\n",
       "      <th>Disponibilité intérieure</th>\n",
       "      <th>Exportations - Quantité</th>\n",
       "      <th>Importations - Quantité</th>\n",
       "      <th>Nourriture</th>\n",
       "    </tr>\n",
       "  </thead>\n",
       "  <tbody>\n",
       "    <tr>\n",
       "      <th>1</th>\n",
       "      <td>Afghanistan</td>\n",
       "      <td>Agrumes, Autres</td>\n",
       "      <td>vegetale</td>\n",
       "      <td>1.0</td>\n",
       "      <td>1.29</td>\n",
       "      <td>0.01</td>\n",
       "      <td>0.02</td>\n",
       "      <td>41.0</td>\n",
       "      <td>2.0</td>\n",
       "      <td>40.0</td>\n",
       "      <td>39.0</td>\n",
       "    </tr>\n",
       "    <tr>\n",
       "      <th>16</th>\n",
       "      <td>Afghanistan</td>\n",
       "      <td>Fruits, Autres</td>\n",
       "      <td>vegetale</td>\n",
       "      <td>9.0</td>\n",
       "      <td>7.29</td>\n",
       "      <td>0.06</td>\n",
       "      <td>0.14</td>\n",
       "      <td>240.0</td>\n",
       "      <td>69.0</td>\n",
       "      <td>4.0</td>\n",
       "      <td>223.0</td>\n",
       "    </tr>\n",
       "    <tr>\n",
       "      <th>29</th>\n",
       "      <td>Afghanistan</td>\n",
       "      <td>Lait - Excl Beurre</td>\n",
       "      <td>animale</td>\n",
       "      <td>100.0</td>\n",
       "      <td>62.23</td>\n",
       "      <td>5.19</td>\n",
       "      <td>6.12</td>\n",
       "      <td>2083.0</td>\n",
       "      <td>0.0</td>\n",
       "      <td>248.0</td>\n",
       "      <td>1901.0</td>\n",
       "    </tr>\n",
       "    <tr>\n",
       "      <th>30</th>\n",
       "      <td>Afghanistan</td>\n",
       "      <td>Légumes, Autres</td>\n",
       "      <td>vegetale</td>\n",
       "      <td>17.0</td>\n",
       "      <td>28.97</td>\n",
       "      <td>0.13</td>\n",
       "      <td>0.85</td>\n",
       "      <td>1007.0</td>\n",
       "      <td>34.0</td>\n",
       "      <td>124.0</td>\n",
       "      <td>885.0</td>\n",
       "    </tr>\n",
       "    <tr>\n",
       "      <th>31</th>\n",
       "      <td>Afghanistan</td>\n",
       "      <td>Légumineuses Autres</td>\n",
       "      <td>vegetale</td>\n",
       "      <td>23.0</td>\n",
       "      <td>2.44</td>\n",
       "      <td>0.14</td>\n",
       "      <td>1.56</td>\n",
       "      <td>86.0</td>\n",
       "      <td>0.0</td>\n",
       "      <td>26.0</td>\n",
       "      <td>74.0</td>\n",
       "    </tr>\n",
       "  </tbody>\n",
       "</table>\n",
       "</div>"
      ],
      "text/plain": [
       "           Zone              Produit   Origine  \\\n",
       "1   Afghanistan      Agrumes, Autres  vegetale   \n",
       "16  Afghanistan       Fruits, Autres  vegetale   \n",
       "29  Afghanistan   Lait - Excl Beurre   animale   \n",
       "30  Afghanistan      Légumes, Autres  vegetale   \n",
       "31  Afghanistan  Légumineuses Autres  vegetale   \n",
       "\n",
       "    Disponibilité alimentaire (Kcal/personne/jour)  \\\n",
       "1                                              1.0   \n",
       "16                                             9.0   \n",
       "29                                           100.0   \n",
       "30                                            17.0   \n",
       "31                                            23.0   \n",
       "\n",
       "    Disponibilité alimentaire en quantité (kg/personne/an)  \\\n",
       "1                                                1.29        \n",
       "16                                               7.29        \n",
       "29                                              62.23        \n",
       "30                                              28.97        \n",
       "31                                               2.44        \n",
       "\n",
       "    Disponibilité de matière grasse en quantité (g/personne/jour)  \\\n",
       "1                                                0.01               \n",
       "16                                               0.06               \n",
       "29                                               5.19               \n",
       "30                                               0.13               \n",
       "31                                               0.14               \n",
       "\n",
       "    Disponibilité de protéines en quantité (g/personne/jour)  \\\n",
       "1                                                0.02          \n",
       "16                                               0.14          \n",
       "29                                               6.12          \n",
       "30                                               0.85          \n",
       "31                                               1.56          \n",
       "\n",
       "    Disponibilité intérieure  Exportations - Quantité  \\\n",
       "1                       41.0                      2.0   \n",
       "16                     240.0                     69.0   \n",
       "29                    2083.0                      0.0   \n",
       "30                    1007.0                     34.0   \n",
       "31                      86.0                      0.0   \n",
       "\n",
       "    Importations - Quantité  Nourriture  \n",
       "1                      40.0        39.0  \n",
       "16                      4.0       223.0  \n",
       "29                    248.0      1901.0  \n",
       "30                    124.0       885.0  \n",
       "31                     26.0        74.0  "
      ]
     },
     "execution_count": 705,
     "metadata": {},
     "output_type": "execute_result"
    }
   ],
   "source": [
    "dispo.head()"
   ]
  },
  {
   "cell_type": "code",
   "execution_count": 706,
   "id": "4197e1df",
   "metadata": {},
   "outputs": [],
   "source": [
    "# le nombre théorique de personnes qui pourraient être nourries. Tu devrais pouvoir calculer ça à partir\n",
    "# de la disponibilité alimentaire mondiale"
   ]
  },
  {
   "cell_type": "code",
   "execution_count": 800,
   "id": "d936e102",
   "metadata": {},
   "outputs": [
    {
     "name": "stdout",
     "output_type": "stream",
     "text": [
      " le nombre théorique de personnes qui pourraient être nourries est de 8.37 milliard soit 114.78 % de la population mondial\n"
     ]
    }
   ],
   "source": [
    "gb_zone = dispo_alimentaire.groupby(by = \"Zone\")[\"Disponibilité alimentaire (Kcal/personne/jour)\"].sum().reset_index()\n",
    "\n",
    "gb_des_deux = gb_zone.merge(gb_population, how='inner', on='Zone')\n",
    "gb_des_deux[\"total_calories\"] = gb_des_deux[\"Disponibilité alimentaire (Kcal/personne/jour)\"] * (gb_des_deux['population_en_million'] * 1e3)\n",
    "nbre_total_pers_theorique = round((gb_des_deux['total_calories'].sum() / 2500) / 1e6, 2)\n",
    "pourcentage = round(nbre_total_pers_theorique/ (gb_des_deux['population_en_million'].sum() / 1e3) * 100, 2)\n",
    "\n",
    "print(f\" le nombre théorique de personnes qui pourraient être nourries est de {nbre_total_pers_theorique} milliard soit {pourcentage} % de la population mondial\")"
   ]
  },
  {
   "cell_type": "code",
   "execution_count": 770,
   "id": "dcabef87",
   "metadata": {},
   "outputs": [],
   "source": [
    "# total_nourri = round(((dispo[\"Disponibilité alimentaire (Kcal/personne/jour)\"].sum() * population[\"population_en_million\"].sum()) / 2500) / 1E6, 2)\n",
    "# ratio_total_nourri = round((total_nourri * 1E6) / population[\"population_en_million\"].sum(), 2)\n",
    "\n",
    "# print(f\"Cette quantité de nourriture permettrai de nourrir {total_nourri} million de personne pendant 1 mois, soit {ratio_total_nourri} % de la population mondiale\")"
   ]
  },
  {
   "cell_type": "markdown",
   "id": "8e8ab162",
   "metadata": {},
   "source": [
    "### Le nombre théorique de personne qui pourraient être nourrit avec des produits végétaux "
   ]
  },
  {
   "cell_type": "code",
   "execution_count": 524,
   "id": "124b0560",
   "metadata": {},
   "outputs": [
    {
     "data": {
      "text/plain": [
       "vegetale    5573\n",
       "animale     2944\n",
       "Name: Origine, dtype: int64"
      ]
     },
     "execution_count": 524,
     "metadata": {},
     "output_type": "execute_result"
    }
   ],
   "source": [
    "dispo[\"Origine\"].value_counts()"
   ]
  },
  {
   "cell_type": "code",
   "execution_count": 526,
   "id": "594fa481",
   "metadata": {},
   "outputs": [
    {
     "data": {
      "text/plain": [
       "(5573, 11)"
      ]
     },
     "execution_count": 526,
     "metadata": {},
     "output_type": "execute_result"
    }
   ],
   "source": [
    "dispo_végétale = dispo.loc[dispo[\"Origine\"] == \"vegetale\"]\n",
    "dispo_végétale.shape"
   ]
  },
  {
   "cell_type": "code",
   "execution_count": 798,
   "id": "15a4f5f2",
   "metadata": {
    "scrolled": true
   },
   "outputs": [
    {
     "name": "stdout",
     "output_type": "stream",
     "text": [
      "le nombre théorique de personnes qui pourraient être nourries est de 6.9 milliard soit 94.63 % de la population mondial\n"
     ]
    }
   ],
   "source": [
    "dispo_végétale = dispo_alimentaire.loc[dispo_alimentaire[\"Origine\"] == \"vegetale\"]\n",
    "\n",
    "gb_végé = dispo_végétale.groupby(by = \"Zone\")[\"Disponibilité alimentaire (Kcal/personne/jour)\"].sum().reset_index()\n",
    "\n",
    "gb_végé_population = gb_végé.merge(gb_population, how='left', on='Zone')\n",
    "gb_végé_population[\"total_calories\"] = gb_végé_population[\"Disponibilité alimentaire (Kcal/personne/jour)\"] * (gb_végé_population['population_en_million'] * 1e3)\n",
    "nbre_total_pers_theorique_végé = round((gb_végé_population['total_calories'].sum() / 2500) / 1e6, 2)\n",
    "pourcentage_végé = round(nbre_total_pers_theorique_végé/ (gb_végé_population['population_en_million'].sum() / 1e3) * 100, 2)\n",
    "\n",
    "print(f\"le nombre théorique de personnes qui pourraient être nourries est de {nbre_total_pers_theorique_végé} milliard soit {pourcentage_végé} % de la population mondial\")"
   ]
  },
  {
   "cell_type": "code",
   "execution_count": 790,
   "id": "bc15f430",
   "metadata": {},
   "outputs": [],
   "source": [
    "# total_nourri = round(((dispo_végétale[\"Disponibilité alimentaire (Kcal/personne/jour)\"].sum() * population[\"population_en_million\"].sum()) / 2500) / 1E6, 2)\n",
    "# ratio_total_nourri = round((total_nourri * 1E6) / population[\"population_en_million\"].sum(), 2)\n",
    "\n",
    "# print(f\"Cette quantité de nourriture permettrai de nourrir {total_nourri} million de personne pendant 1 mois, soit {ratio_total_nourri} % de la population mondiale\")"
   ]
  },
  {
   "cell_type": "markdown",
   "id": "15f33e02",
   "metadata": {},
   "source": [
    "### Ceux ayant le plus/le moins de disponibilité/habitant"
   ]
  },
  {
   "cell_type": "code",
   "execution_count": 592,
   "id": "0103e0f1",
   "metadata": {},
   "outputs": [],
   "source": [
    "# groupby par population "
   ]
  },
  {
   "cell_type": "markdown",
   "id": "cc5d76ee",
   "metadata": {},
   "source": [
    "## Partie 2"
   ]
  },
  {
   "cell_type": "markdown",
   "id": "63edb6b0",
   "metadata": {},
   "source": [
    "Regarder ensuite :\n",
    "\n",
    "- L’utilisation du manioc par la Thaïlande aux égards de la proportion de personnes en sous-nutrition (production vs. Exportation).\n",
    "- Les pays qui ont bénéficié le plus d’aide alimentaire\n",
    "- La part de nourriture (alimentation humaine) vs alimentation animale pour les céréales (cf liste céréales FAO)"
   ]
  },
  {
   "cell_type": "markdown",
   "id": "8e16e735",
   "metadata": {},
   "source": [
    "### L’utilisation du manioc par la Thaïlande aux égards de la proportion de personnes en sous-nutrition (production vs. Exportation)"
   ]
  },
  {
   "cell_type": "code",
   "execution_count": 539,
   "id": "3cba8f3d",
   "metadata": {},
   "outputs": [
    {
     "data": {
      "text/html": [
       "<div>\n",
       "<style scoped>\n",
       "    .dataframe tbody tr th:only-of-type {\n",
       "        vertical-align: middle;\n",
       "    }\n",
       "\n",
       "    .dataframe tbody tr th {\n",
       "        vertical-align: top;\n",
       "    }\n",
       "\n",
       "    .dataframe thead th {\n",
       "        text-align: right;\n",
       "    }\n",
       "</style>\n",
       "<table border=\"1\" class=\"dataframe\">\n",
       "  <thead>\n",
       "    <tr style=\"text-align: right;\">\n",
       "      <th></th>\n",
       "      <th>Zone</th>\n",
       "      <th>Produit</th>\n",
       "      <th>Origine</th>\n",
       "      <th>Disponibilité alimentaire (Kcal/personne/jour)</th>\n",
       "      <th>Disponibilité alimentaire en quantité (kg/personne/an)</th>\n",
       "      <th>Disponibilité de matière grasse en quantité (g/personne/jour)</th>\n",
       "      <th>Disponibilité de protéines en quantité (g/personne/jour)</th>\n",
       "      <th>Disponibilité intérieure</th>\n",
       "      <th>Exportations - Quantité</th>\n",
       "      <th>Importations - Quantité</th>\n",
       "      <th>Nourriture</th>\n",
       "    </tr>\n",
       "  </thead>\n",
       "  <tbody>\n",
       "    <tr>\n",
       "      <th>13809</th>\n",
       "      <td>Thaïlande</td>\n",
       "      <td>Manioc</td>\n",
       "      <td>vegetale</td>\n",
       "      <td>40.0</td>\n",
       "      <td>13.0</td>\n",
       "      <td>0.05</td>\n",
       "      <td>0.14</td>\n",
       "      <td>6264.0</td>\n",
       "      <td>25214.0</td>\n",
       "      <td>1250.0</td>\n",
       "      <td>871.0</td>\n",
       "    </tr>\n",
       "  </tbody>\n",
       "</table>\n",
       "</div>"
      ],
      "text/plain": [
       "            Zone Produit   Origine  \\\n",
       "13809  Thaïlande  Manioc  vegetale   \n",
       "\n",
       "       Disponibilité alimentaire (Kcal/personne/jour)  \\\n",
       "13809                                            40.0   \n",
       "\n",
       "       Disponibilité alimentaire en quantité (kg/personne/an)  \\\n",
       "13809                                               13.0        \n",
       "\n",
       "       Disponibilité de matière grasse en quantité (g/personne/jour)  \\\n",
       "13809                                               0.05               \n",
       "\n",
       "       Disponibilité de protéines en quantité (g/personne/jour)  \\\n",
       "13809                                               0.14          \n",
       "\n",
       "       Disponibilité intérieure  Exportations - Quantité  \\\n",
       "13809                    6264.0                  25214.0   \n",
       "\n",
       "       Importations - Quantité  Nourriture  \n",
       "13809                   1250.0       871.0  "
      ]
     },
     "execution_count": 539,
     "metadata": {},
     "output_type": "execute_result"
    }
   ],
   "source": [
    "dispo_manioc = dispo.loc[(dispo[\"Produit\"] == \"Manioc\") & (dispo[\"Zone\"] == \"Thaïlande\")]\n",
    "dispo_manioc"
   ]
  },
  {
   "cell_type": "code",
   "execution_count": 540,
   "id": "08125acc",
   "metadata": {},
   "outputs": [
    {
     "data": {
      "text/html": [
       "<div>\n",
       "<style scoped>\n",
       "    .dataframe tbody tr th:only-of-type {\n",
       "        vertical-align: middle;\n",
       "    }\n",
       "\n",
       "    .dataframe tbody tr th {\n",
       "        vertical-align: top;\n",
       "    }\n",
       "\n",
       "    .dataframe thead th {\n",
       "        text-align: right;\n",
       "    }\n",
       "</style>\n",
       "<table border=\"1\" class=\"dataframe\">\n",
       "  <thead>\n",
       "    <tr style=\"text-align: right;\">\n",
       "      <th></th>\n",
       "      <th>Zone</th>\n",
       "      <th>sous_nutrition (million)</th>\n",
       "      <th>population_en_million</th>\n",
       "      <th>proportion_sous_nutrition</th>\n",
       "    </tr>\n",
       "  </thead>\n",
       "  <tbody>\n",
       "    <tr>\n",
       "      <th>90</th>\n",
       "      <td>Thaïlande</td>\n",
       "      <td>6.2</td>\n",
       "      <td>69.21</td>\n",
       "      <td>0.089582</td>\n",
       "    </tr>\n",
       "  </tbody>\n",
       "</table>\n",
       "</div>"
      ],
      "text/plain": [
       "         Zone  sous_nutrition (million)  population_en_million  \\\n",
       "90  Thaïlande                       6.2                  69.21   \n",
       "\n",
       "    proportion_sous_nutrition  \n",
       "90                   0.089582  "
      ]
     },
     "execution_count": 540,
     "metadata": {},
     "output_type": "execute_result"
    }
   ],
   "source": [
    "sous_nutrition_thailande = df_merge.loc[df_merge[\"Zone\"] == \"Thaïlande\"]\n",
    "sous_nutrition_thailande"
   ]
  },
  {
   "cell_type": "code",
   "execution_count": 555,
   "id": "eb94a2f4",
   "metadata": {},
   "outputs": [
    {
     "name": "stdout",
     "output_type": "stream",
     "text": [
      "La proportion de sous nutrition en Thaïlande est d'environ 9.0 %\n",
      "la proportion de manioc exporté par rapport à la production totale de manioc en Thaïlande est de 82.38 %\n"
     ]
    }
   ],
   "source": [
    "exportation = round((dispo_manioc[\"Exportations - Quantité\"] / (dispo_manioc[\"Disponibilité intérieure\"] - dispo_manioc[\"Nourriture\"] + dispo_manioc[\"Exportations - Quantité\"])) * 100, 2).item()\n",
    "thaïlande_sous_nutrition = round(sous_nutrition_thailande[\"proportion_sous_nutrition\"] * 100, 1).item()\n",
    "\n",
    "print(f\"La proportion de sous nutrition en Thaïlande est d'environ {thaïlande_sous_nutrition} %\")\n",
    "print(f\"la proportion de manioc exporté par rapport à la production totale de manioc en Thaïlande est de {exportation} %\")"
   ]
  },
  {
   "cell_type": "markdown",
   "id": "6248867a",
   "metadata": {},
   "source": [
    "### Les pays qui ont bénéficié le plus d’aide alimentaire"
   ]
  },
  {
   "cell_type": "code",
   "execution_count": 567,
   "id": "370c8efd",
   "metadata": {},
   "outputs": [
    {
     "data": {
      "text/html": [
       "<div>\n",
       "<style scoped>\n",
       "    .dataframe tbody tr th:only-of-type {\n",
       "        vertical-align: middle;\n",
       "    }\n",
       "\n",
       "    .dataframe tbody tr th {\n",
       "        vertical-align: top;\n",
       "    }\n",
       "\n",
       "    .dataframe thead th {\n",
       "        text-align: right;\n",
       "    }\n",
       "</style>\n",
       "<table border=\"1\" class=\"dataframe\">\n",
       "  <thead>\n",
       "    <tr style=\"text-align: right;\">\n",
       "      <th></th>\n",
       "      <th>Zone</th>\n",
       "      <th>Quantité (en tonne)</th>\n",
       "    </tr>\n",
       "  </thead>\n",
       "  <tbody>\n",
       "    <tr>\n",
       "      <th>0</th>\n",
       "      <td>Afghanistan</td>\n",
       "      <td>185452</td>\n",
       "    </tr>\n",
       "    <tr>\n",
       "      <th>1</th>\n",
       "      <td>Algérie</td>\n",
       "      <td>81114</td>\n",
       "    </tr>\n",
       "    <tr>\n",
       "      <th>2</th>\n",
       "      <td>Angola</td>\n",
       "      <td>5014</td>\n",
       "    </tr>\n",
       "    <tr>\n",
       "      <th>3</th>\n",
       "      <td>Bangladesh</td>\n",
       "      <td>348188</td>\n",
       "    </tr>\n",
       "    <tr>\n",
       "      <th>4</th>\n",
       "      <td>Bhoutan</td>\n",
       "      <td>2666</td>\n",
       "    </tr>\n",
       "  </tbody>\n",
       "</table>\n",
       "</div>"
      ],
      "text/plain": [
       "          Zone  Quantité (en tonne)\n",
       "0  Afghanistan               185452\n",
       "1      Algérie                81114\n",
       "2       Angola                 5014\n",
       "3   Bangladesh               348188\n",
       "4      Bhoutan                 2666"
      ]
     },
     "execution_count": 567,
     "metadata": {},
     "output_type": "execute_result"
    }
   ],
   "source": [
    "gb_aide_alimentaire.head()"
   ]
  },
  {
   "cell_type": "code",
   "execution_count": 566,
   "id": "58d28187",
   "metadata": {},
   "outputs": [
    {
     "data": {
      "text/html": [
       "<div>\n",
       "<style scoped>\n",
       "    .dataframe tbody tr th:only-of-type {\n",
       "        vertical-align: middle;\n",
       "    }\n",
       "\n",
       "    .dataframe tbody tr th {\n",
       "        vertical-align: top;\n",
       "    }\n",
       "\n",
       "    .dataframe thead th {\n",
       "        text-align: right;\n",
       "    }\n",
       "</style>\n",
       "<table border=\"1\" class=\"dataframe\">\n",
       "  <thead>\n",
       "    <tr style=\"text-align: right;\">\n",
       "      <th></th>\n",
       "      <th>Zone</th>\n",
       "      <th>Quantité (en tonne)</th>\n",
       "    </tr>\n",
       "  </thead>\n",
       "  <tbody>\n",
       "    <tr>\n",
       "      <th>50</th>\n",
       "      <td>République arabe syrienne</td>\n",
       "      <td>1858943</td>\n",
       "    </tr>\n",
       "    <tr>\n",
       "      <th>75</th>\n",
       "      <td>Éthiopie</td>\n",
       "      <td>1381294</td>\n",
       "    </tr>\n",
       "    <tr>\n",
       "      <th>70</th>\n",
       "      <td>Yémen</td>\n",
       "      <td>1206484</td>\n",
       "    </tr>\n",
       "    <tr>\n",
       "      <th>61</th>\n",
       "      <td>Soudan du Sud</td>\n",
       "      <td>695248</td>\n",
       "    </tr>\n",
       "    <tr>\n",
       "      <th>60</th>\n",
       "      <td>Soudan</td>\n",
       "      <td>669784</td>\n",
       "    </tr>\n",
       "  </tbody>\n",
       "</table>\n",
       "</div>"
      ],
      "text/plain": [
       "                         Zone  Quantité (en tonne)\n",
       "50  République arabe syrienne              1858943\n",
       "75                   Éthiopie              1381294\n",
       "70                      Yémen              1206484\n",
       "61              Soudan du Sud               695248\n",
       "60                     Soudan               669784"
      ]
     },
     "execution_count": 566,
     "metadata": {},
     "output_type": "execute_result"
    }
   ],
   "source": [
    "best_aide = gb_aide_alimentaire.sort_values(by = [\"Quantité (en tonne)\"], ascending = False)\n",
    "best_aide.head()"
   ]
  },
  {
   "cell_type": "code",
   "execution_count": 569,
   "id": "1f5a4743",
   "metadata": {},
   "outputs": [
    {
     "data": {
      "text/plain": [
       "(5, 2)"
      ]
     },
     "execution_count": 569,
     "metadata": {},
     "output_type": "execute_result"
    }
   ],
   "source": [
    "top_5_best_aide = best_aide.loc[(best_aide[\"Zone\"] == \"République arabe syrienne\") \n",
    "                               |(best_aide[\"Zone\"] == \"Éthiopie\")\n",
    "                               |(best_aide[\"Zone\"] == \"Yémen\")\n",
    "                               |(best_aide[\"Zone\"] == \"Soudan du Sud\")\n",
    "                               |(best_aide[\"Zone\"] == \"Soudan\") ]\n",
    "top_5_best_aide.shape"
   ]
  },
  {
   "cell_type": "code",
   "execution_count": 575,
   "id": "dff982d7",
   "metadata": {
    "scrolled": false
   },
   "outputs": [
    {
     "data": {
      "image/png": "[encoded data removed]",
      "text/plain": [
       "<Figure size 1500x700 with 1 Axes>"
      ]
     },
     "metadata": {},
     "output_type": "display_data"
    }
   ],
   "source": [
    "# bar plot\n",
    "y_best_aide = top_5_best_aide[\"Quantité (en tonne)\"].unique()\n",
    "labels_best_aide = top_5_best_aide[\"Zone\"].unique()\n",
    "colors = sns.color_palette(\"hls\", 8)\n",
    "\n",
    "fig, ax = plt.subplots(figsize=(15, 7))\n",
    "\n",
    "ax.bar(labels_best_aide, y_best_aide, color = colors)\n",
    "ax.set_xlabel(\"\")\n",
    "ax.set_ylabel(\"Quantité en tonne\")\n",
    "ax.set_title(\"Top 5 des pays qui on le plus bénéficié d’aide alimentaire\", fontsize = 15)\n",
    "plt.tick_params(axis = 'both', labelsize = 10)\n",
    "plt.show()"
   ]
  },
  {
   "cell_type": "markdown",
   "id": "f264a2c2",
   "metadata": {},
   "source": [
    "### La part de nourriture (alimentation humaine) vs alimentation animale pour les céréales (cf liste céréales FAO)"
   ]
  },
  {
   "cell_type": "code",
   "execution_count": 763,
   "id": "5e98a201",
   "metadata": {
    "scrolled": false
   },
   "outputs": [
    {
     "name": "stdout",
     "output_type": "stream",
     "text": [
      "Alimentation pour animaux : \n",
      "\n",
      "0    69.427949\n",
      "1    69.255958\n",
      "dtype: float64 %\n",
      "\n",
      "\n",
      "Alimention humaine : \n",
      "\n",
      "0    16.674499\n",
      "1    19.370566\n",
      "dtype: float64 %\n"
     ]
    }
   ],
   "source": [
    "# Liste des céréales FAO\n",
    "liste_cereales = [\"Blé et produits\", \"Riz et produits\", \"Orge et produits\", \"Maïs et produits\", \"Seigle et produits\", \"Avoine\", \"Millet et produits\", \"Sorgho et produits\", \"Céréales, Autres\"]\n",
    "\n",
    "# Filtrage des lignes correspondant aux céréales de la liste FAO\n",
    "df_cereales = dispo_alimentaire[dispo_alimentaire[\"Produit\"].isin(liste_cereales)]\n",
    "\n",
    "# Calcul de la somme des quantités de nourriture et d'aliments pour animaux pour chaque céréale\n",
    "df_sommes = df_cereales.groupby(df_cereales[\"Produit\"])[[\"Nourriture\", \"Aliments pour animaux\", \"Disponibilité intérieure\"]].sum().reset_index()\n",
    "\n",
    "# # Calcul de la part de nourriture et d'aliments pour animaux pour chaque céréale\n",
    "# df_sommes[\"Part Nourriture\"] = df_sommes[\"Nourriture\"] / (df_sommes[\"Nourriture\"] + df_sommes[\"Aliments pour animaux\"])\n",
    "Part_Aliments_pour_animaux = (df_sommes[\"Aliments pour animaux\"] / df_sommes[\"Disponibilité intérieure\"]) * 100\n",
    "Part_alimentation_humaine = (df_sommes[\"Nourriture\"] / df_sommes[\"Disponibilité intérieure\"]) * 100\n",
    "\n",
    "# # Affichage du résultat\n",
    "print(f\"Alimentation pour animaux : \\n\\n{Part_Aliments_pour_animaux} %\")\n",
    "print(f\"\\n\\nAlimention humaine : \\n\\n{Part_alimentation_humaine} %\")"
   ]
  },
  {
   "cell_type": "markdown",
   "id": "020d060b",
   "metadata": {},
   "source": [
    "## Partie 3 "
   ]
  },
  {
   "cell_type": "markdown",
   "id": "9132b822",
   "metadata": {},
   "source": [
    "Les causes de maltrution dans le monde :\n",
    "- Quels sont les aliments que la population mange dans les pays en sous-nutrition"
   ]
  },
  {
   "cell_type": "code",
   "execution_count": null,
   "id": "73f10f17",
   "metadata": {},
   "outputs": [],
   "source": []
  }
 ],
 "metadata": {
  "kernelspec": {
   "display_name": "Python 3 (ipykernel)",
   "language": "python",
   "name": "python3"
  },
  "language_info": {
   "codemirror_mode": {
    "name": "ipython",
    "version": 3
   },
   "file_extension": ".py",
   "mimetype": "text/x-python",
   "name": "python",
   "nbconvert_exporter": "python",
   "pygments_lexer": "ipython3",
   "version": "3.8.12"
  },
  "toc": {
   "base_numbering": 1,
   "nav_menu": {},
   "number_sections": true,
   "sideBar": true,
   "skip_h1_title": false,
   "title_cell": "Table of Contents",
   "title_sidebar": "Contents",
   "toc_cell": false,
   "toc_position": {},
   "toc_section_display": true,
   "toc_window_display": false
  }
 },
 "nbformat": 4,
 "nbformat_minor": 5
}
