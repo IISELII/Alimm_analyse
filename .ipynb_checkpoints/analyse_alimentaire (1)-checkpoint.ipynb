{
 "cells": [
  {
   "cell_type": "markdown",
   "id": "0fbe96b4",
   "metadata": {},
   "source": [
    "# Context"
   ]
  },
  {
   "cell_type": "markdown",
   "id": "7725036c",
   "metadata": {},
   "source": [
    "Vous devez fournir des analyses concernant la répartition de l'alimentation, la sous-nutrition mais également en comprendre les causes."
   ]
  },
  {
   "cell_type": "markdown",
   "id": "2460c792",
   "metadata": {},
   "source": [
    "# Imports "
   ]
  },
  {
   "cell_type": "markdown",
   "id": "4cec4f6f",
   "metadata": {},
   "source": [
    "## Import des librairies"
   ]
  },
  {
   "cell_type": "code",
   "execution_count": 6,
   "id": "8e30d513",
   "metadata": {},
   "outputs": [],
   "source": [
    "import pandas as pd \n",
    "import numpy as np \n",
    "import seaborn as sns \n",
    "import matplotlib.pyplot as plt"
   ]
  },
  {
   "cell_type": "markdown",
   "id": "f19b3ac7",
   "metadata": {},
   "source": [
    "## Import des données "
   ]
  },
  {
   "cell_type": "code",
   "execution_count": 7,
   "id": "c46885ad",
   "metadata": {
    "scrolled": true
   },
   "outputs": [
    {
     "data": {
      "text/html": [
       "<div>\n",
       "<style scoped>\n",
       "    .dataframe tbody tr th:only-of-type {\n",
       "        vertical-align: middle;\n",
       "    }\n",
       "\n",
       "    .dataframe tbody tr th {\n",
       "        vertical-align: top;\n",
       "    }\n",
       "\n",
       "    .dataframe thead th {\n",
       "        text-align: right;\n",
       "    }\n",
       "</style>\n",
       "<table border=\"1\" class=\"dataframe\">\n",
       "  <thead>\n",
       "    <tr style=\"text-align: right;\">\n",
       "      <th></th>\n",
       "      <th>Zone</th>\n",
       "      <th>Produit</th>\n",
       "      <th>Origine</th>\n",
       "      <th>Aliments pour animaux</th>\n",
       "      <th>Autres Utilisations</th>\n",
       "      <th>Disponibilité alimentaire (Kcal/personne/jour)</th>\n",
       "      <th>Disponibilité alimentaire en quantité (kg/personne/an)</th>\n",
       "      <th>Disponibilité de matière grasse en quantité (g/personne/jour)</th>\n",
       "      <th>Disponibilité de protéines en quantité (g/personne/jour)</th>\n",
       "      <th>Disponibilité intérieure</th>\n",
       "      <th>Exportations - Quantité</th>\n",
       "      <th>Importations - Quantité</th>\n",
       "      <th>Nourriture</th>\n",
       "      <th>Pertes</th>\n",
       "      <th>Production</th>\n",
       "      <th>Semences</th>\n",
       "      <th>Traitement</th>\n",
       "      <th>Variation de stock</th>\n",
       "    </tr>\n",
       "  </thead>\n",
       "  <tbody>\n",
       "    <tr>\n",
       "      <th>0</th>\n",
       "      <td>Afghanistan</td>\n",
       "      <td>Abats Comestible</td>\n",
       "      <td>animale</td>\n",
       "      <td>NaN</td>\n",
       "      <td>NaN</td>\n",
       "      <td>5.0</td>\n",
       "      <td>1.72</td>\n",
       "      <td>0.20</td>\n",
       "      <td>0.77</td>\n",
       "      <td>53.0</td>\n",
       "      <td>NaN</td>\n",
       "      <td>NaN</td>\n",
       "      <td>53.0</td>\n",
       "      <td>NaN</td>\n",
       "      <td>53.0</td>\n",
       "      <td>NaN</td>\n",
       "      <td>NaN</td>\n",
       "      <td>NaN</td>\n",
       "    </tr>\n",
       "    <tr>\n",
       "      <th>1</th>\n",
       "      <td>Afghanistan</td>\n",
       "      <td>Agrumes, Autres</td>\n",
       "      <td>vegetale</td>\n",
       "      <td>NaN</td>\n",
       "      <td>NaN</td>\n",
       "      <td>1.0</td>\n",
       "      <td>1.29</td>\n",
       "      <td>0.01</td>\n",
       "      <td>0.02</td>\n",
       "      <td>41.0</td>\n",
       "      <td>2.0</td>\n",
       "      <td>40.0</td>\n",
       "      <td>39.0</td>\n",
       "      <td>2.0</td>\n",
       "      <td>3.0</td>\n",
       "      <td>NaN</td>\n",
       "      <td>NaN</td>\n",
       "      <td>NaN</td>\n",
       "    </tr>\n",
       "  </tbody>\n",
       "</table>\n",
       "</div>"
      ],
      "text/plain": [
       "          Zone           Produit   Origine  Aliments pour animaux  \\\n",
       "0  Afghanistan  Abats Comestible   animale                    NaN   \n",
       "1  Afghanistan   Agrumes, Autres  vegetale                    NaN   \n",
       "\n",
       "   Autres Utilisations  Disponibilité alimentaire (Kcal/personne/jour)  \\\n",
       "0                  NaN                                             5.0   \n",
       "1                  NaN                                             1.0   \n",
       "\n",
       "   Disponibilité alimentaire en quantité (kg/personne/an)  \\\n",
       "0                                               1.72        \n",
       "1                                               1.29        \n",
       "\n",
       "   Disponibilité de matière grasse en quantité (g/personne/jour)  \\\n",
       "0                                               0.20               \n",
       "1                                               0.01               \n",
       "\n",
       "   Disponibilité de protéines en quantité (g/personne/jour)  \\\n",
       "0                                               0.77          \n",
       "1                                               0.02          \n",
       "\n",
       "   Disponibilité intérieure  Exportations - Quantité  Importations - Quantité  \\\n",
       "0                      53.0                      NaN                      NaN   \n",
       "1                      41.0                      2.0                     40.0   \n",
       "\n",
       "   Nourriture  Pertes  Production  Semences  Traitement  Variation de stock  \n",
       "0        53.0     NaN        53.0       NaN         NaN                 NaN  \n",
       "1        39.0     2.0         3.0       NaN         NaN                 NaN  "
      ]
     },
     "execution_count": 7,
     "metadata": {},
     "output_type": "execute_result"
    }
   ],
   "source": [
    "dispo_alimentaire = pd.read_csv('data/dispo_alimentaire.csv')\n",
    "dispo_alimentaire.head(2)"
   ]
  },
  {
   "cell_type": "code",
   "execution_count": 8,
   "id": "b8e35ec7",
   "metadata": {},
   "outputs": [
    {
     "data": {
      "text/html": [
       "<div>\n",
       "<style scoped>\n",
       "    .dataframe tbody tr th:only-of-type {\n",
       "        vertical-align: middle;\n",
       "    }\n",
       "\n",
       "    .dataframe tbody tr th {\n",
       "        vertical-align: top;\n",
       "    }\n",
       "\n",
       "    .dataframe thead th {\n",
       "        text-align: right;\n",
       "    }\n",
       "</style>\n",
       "<table border=\"1\" class=\"dataframe\">\n",
       "  <thead>\n",
       "    <tr style=\"text-align: right;\">\n",
       "      <th></th>\n",
       "      <th>Pays bénéficiaire</th>\n",
       "      <th>Année</th>\n",
       "      <th>Produit</th>\n",
       "      <th>Valeur</th>\n",
       "    </tr>\n",
       "  </thead>\n",
       "  <tbody>\n",
       "    <tr>\n",
       "      <th>0</th>\n",
       "      <td>Afghanistan</td>\n",
       "      <td>2013</td>\n",
       "      <td>Autres non-céréales</td>\n",
       "      <td>682</td>\n",
       "    </tr>\n",
       "    <tr>\n",
       "      <th>1</th>\n",
       "      <td>Afghanistan</td>\n",
       "      <td>2014</td>\n",
       "      <td>Autres non-céréales</td>\n",
       "      <td>335</td>\n",
       "    </tr>\n",
       "    <tr>\n",
       "      <th>2</th>\n",
       "      <td>Afghanistan</td>\n",
       "      <td>2013</td>\n",
       "      <td>Blé et Farin</td>\n",
       "      <td>39224</td>\n",
       "    </tr>\n",
       "    <tr>\n",
       "      <th>3</th>\n",
       "      <td>Afghanistan</td>\n",
       "      <td>2014</td>\n",
       "      <td>Blé et Farin</td>\n",
       "      <td>15160</td>\n",
       "    </tr>\n",
       "    <tr>\n",
       "      <th>4</th>\n",
       "      <td>Afghanistan</td>\n",
       "      <td>2013</td>\n",
       "      <td>Céréales</td>\n",
       "      <td>40504</td>\n",
       "    </tr>\n",
       "  </tbody>\n",
       "</table>\n",
       "</div>"
      ],
      "text/plain": [
       "  Pays bénéficiaire  Année              Produit  Valeur\n",
       "0       Afghanistan   2013  Autres non-céréales     682\n",
       "1       Afghanistan   2014  Autres non-céréales     335\n",
       "2       Afghanistan   2013         Blé et Farin   39224\n",
       "3       Afghanistan   2014         Blé et Farin   15160\n",
       "4       Afghanistan   2013             Céréales   40504"
      ]
     },
     "execution_count": 8,
     "metadata": {},
     "output_type": "execute_result"
    }
   ],
   "source": [
    "aide_alimentaire = pd.read_csv('data/aide_alimentaire.csv')\n",
    "aide_alimentaire.head(5)"
   ]
  },
  {
   "cell_type": "code",
   "execution_count": 9,
   "id": "72a11c97",
   "metadata": {},
   "outputs": [
    {
     "data": {
      "text/plain": [
       "(1475, 4)"
      ]
     },
     "execution_count": 9,
     "metadata": {},
     "output_type": "execute_result"
    }
   ],
   "source": [
    "aide_alimentaire.shape"
   ]
  },
  {
   "cell_type": "code",
   "execution_count": 10,
   "id": "acc586c6",
   "metadata": {},
   "outputs": [
    {
     "data": {
      "text/plain": [
       "array([2013, 2014, 2015, 2016])"
      ]
     },
     "execution_count": 10,
     "metadata": {},
     "output_type": "execute_result"
    }
   ],
   "source": [
    "aide_alimentaire[\"Année\"].unique()"
   ]
  },
  {
   "cell_type": "code",
   "execution_count": 11,
   "id": "a7b2b6df",
   "metadata": {},
   "outputs": [
    {
     "data": {
      "text/html": [
       "<div>\n",
       "<style scoped>\n",
       "    .dataframe tbody tr th:only-of-type {\n",
       "        vertical-align: middle;\n",
       "    }\n",
       "\n",
       "    .dataframe tbody tr th {\n",
       "        vertical-align: top;\n",
       "    }\n",
       "\n",
       "    .dataframe thead th {\n",
       "        text-align: right;\n",
       "    }\n",
       "</style>\n",
       "<table border=\"1\" class=\"dataframe\">\n",
       "  <thead>\n",
       "    <tr style=\"text-align: right;\">\n",
       "      <th></th>\n",
       "      <th>Zone</th>\n",
       "      <th>Année</th>\n",
       "      <th>Valeur</th>\n",
       "    </tr>\n",
       "  </thead>\n",
       "  <tbody>\n",
       "    <tr>\n",
       "      <th>0</th>\n",
       "      <td>Afghanistan</td>\n",
       "      <td>2013</td>\n",
       "      <td>32269.589</td>\n",
       "    </tr>\n",
       "    <tr>\n",
       "      <th>1</th>\n",
       "      <td>Afghanistan</td>\n",
       "      <td>2014</td>\n",
       "      <td>33370.794</td>\n",
       "    </tr>\n",
       "    <tr>\n",
       "      <th>2</th>\n",
       "      <td>Afghanistan</td>\n",
       "      <td>2015</td>\n",
       "      <td>34413.603</td>\n",
       "    </tr>\n",
       "    <tr>\n",
       "      <th>3</th>\n",
       "      <td>Afghanistan</td>\n",
       "      <td>2016</td>\n",
       "      <td>35383.032</td>\n",
       "    </tr>\n",
       "    <tr>\n",
       "      <th>4</th>\n",
       "      <td>Afghanistan</td>\n",
       "      <td>2017</td>\n",
       "      <td>36296.113</td>\n",
       "    </tr>\n",
       "  </tbody>\n",
       "</table>\n",
       "</div>"
      ],
      "text/plain": [
       "          Zone  Année     Valeur\n",
       "0  Afghanistan   2013  32269.589\n",
       "1  Afghanistan   2014  33370.794\n",
       "2  Afghanistan   2015  34413.603\n",
       "3  Afghanistan   2016  35383.032\n",
       "4  Afghanistan   2017  36296.113"
      ]
     },
     "execution_count": 11,
     "metadata": {},
     "output_type": "execute_result"
    }
   ],
   "source": [
    "population = pd.read_csv('data/population.csv')\n",
    "population.head()"
   ]
  },
  {
   "cell_type": "code",
   "execution_count": 12,
   "id": "9717d6c4",
   "metadata": {},
   "outputs": [
    {
     "data": {
      "text/html": [
       "<div>\n",
       "<style scoped>\n",
       "    .dataframe tbody tr th:only-of-type {\n",
       "        vertical-align: middle;\n",
       "    }\n",
       "\n",
       "    .dataframe tbody tr th {\n",
       "        vertical-align: top;\n",
       "    }\n",
       "\n",
       "    .dataframe thead th {\n",
       "        text-align: right;\n",
       "    }\n",
       "</style>\n",
       "<table border=\"1\" class=\"dataframe\">\n",
       "  <thead>\n",
       "    <tr style=\"text-align: right;\">\n",
       "      <th></th>\n",
       "      <th>Zone</th>\n",
       "      <th>Année</th>\n",
       "      <th>Valeur</th>\n",
       "    </tr>\n",
       "  </thead>\n",
       "  <tbody>\n",
       "    <tr>\n",
       "      <th>0</th>\n",
       "      <td>Afghanistan</td>\n",
       "      <td>2012-2014</td>\n",
       "      <td>8.6</td>\n",
       "    </tr>\n",
       "    <tr>\n",
       "      <th>1</th>\n",
       "      <td>Afghanistan</td>\n",
       "      <td>2013-2015</td>\n",
       "      <td>8.8</td>\n",
       "    </tr>\n",
       "    <tr>\n",
       "      <th>2</th>\n",
       "      <td>Afghanistan</td>\n",
       "      <td>2014-2016</td>\n",
       "      <td>8.9</td>\n",
       "    </tr>\n",
       "    <tr>\n",
       "      <th>3</th>\n",
       "      <td>Afghanistan</td>\n",
       "      <td>2015-2017</td>\n",
       "      <td>9.7</td>\n",
       "    </tr>\n",
       "    <tr>\n",
       "      <th>4</th>\n",
       "      <td>Afghanistan</td>\n",
       "      <td>2016-2018</td>\n",
       "      <td>10.5</td>\n",
       "    </tr>\n",
       "  </tbody>\n",
       "</table>\n",
       "</div>"
      ],
      "text/plain": [
       "          Zone      Année Valeur\n",
       "0  Afghanistan  2012-2014    8.6\n",
       "1  Afghanistan  2013-2015    8.8\n",
       "2  Afghanistan  2014-2016    8.9\n",
       "3  Afghanistan  2015-2017    9.7\n",
       "4  Afghanistan  2016-2018   10.5"
      ]
     },
     "execution_count": 12,
     "metadata": {},
     "output_type": "execute_result"
    }
   ],
   "source": [
    "sous_nutrition = pd.read_csv('data/sous_nutrition.csv')\n",
    "sous_nutrition.head()"
   ]
  },
  {
   "cell_type": "markdown",
   "id": "f7fe2ae6",
   "metadata": {},
   "source": [
    "## change columns/values"
   ]
  },
  {
   "cell_type": "code",
   "execution_count": 13,
   "id": "b6c482d1",
   "metadata": {},
   "outputs": [],
   "source": [
    "aide_alimentaire = aide_alimentaire.rename(columns = {'Pays bénéficiaire': 'Zone', 'Valeur': 'Quantité (en tonne)'})\n",
    "sous_nutrition = sous_nutrition.rename(columns = {'Valeur': 'sous_nutrition (million)'})\n",
    "population = population.rename(columns = {'Valeur': 'nb_population (millier)'})"
   ]
  },
  {
   "cell_type": "code",
   "execution_count": 14,
   "id": "be09f9bf",
   "metadata": {},
   "outputs": [],
   "source": [
    "sous_nutrition[\"Année\"] = sous_nutrition[\"Année\"].map({'2012-2014': 2013,\n",
    "                                                       '2013-2015': 2014,\n",
    "                                                       '2014-2016': 2015,\n",
    "                                                       '2015-2017': 2016,\n",
    "                                                       '2017-2019': 2017})"
   ]
  },
  {
   "cell_type": "code",
   "execution_count": 15,
   "id": "b80a82e6",
   "metadata": {},
   "outputs": [
    {
     "data": {
      "text/plain": [
       "(1218, 3)"
      ]
     },
     "execution_count": 15,
     "metadata": {},
     "output_type": "execute_result"
    }
   ],
   "source": [
    "sous_nutrition.shape"
   ]
  },
  {
   "cell_type": "code",
   "execution_count": 16,
   "id": "0d2c9daf",
   "metadata": {},
   "outputs": [],
   "source": [
    "sous_nutrition = sous_nutrition.dropna(subset =['Année'])"
   ]
  },
  {
   "cell_type": "code",
   "execution_count": 17,
   "id": "e29dc1d8",
   "metadata": {},
   "outputs": [
    {
     "data": {
      "text/plain": [
       "(1015, 3)"
      ]
     },
     "execution_count": 17,
     "metadata": {},
     "output_type": "execute_result"
    }
   ],
   "source": [
    "sous_nutrition.shape"
   ]
  },
  {
   "cell_type": "code",
   "execution_count": 18,
   "id": "f4464281",
   "metadata": {},
   "outputs": [
    {
     "data": {
      "text/html": [
       "<div>\n",
       "<style scoped>\n",
       "    .dataframe tbody tr th:only-of-type {\n",
       "        vertical-align: middle;\n",
       "    }\n",
       "\n",
       "    .dataframe tbody tr th {\n",
       "        vertical-align: top;\n",
       "    }\n",
       "\n",
       "    .dataframe thead th {\n",
       "        text-align: right;\n",
       "    }\n",
       "</style>\n",
       "<table border=\"1\" class=\"dataframe\">\n",
       "  <thead>\n",
       "    <tr style=\"text-align: right;\">\n",
       "      <th></th>\n",
       "      <th>Zone</th>\n",
       "      <th>Année</th>\n",
       "      <th>sous_nutrition (million)</th>\n",
       "    </tr>\n",
       "  </thead>\n",
       "  <tbody>\n",
       "    <tr>\n",
       "      <th>0</th>\n",
       "      <td>Afghanistan</td>\n",
       "      <td>2013.0</td>\n",
       "      <td>8.6</td>\n",
       "    </tr>\n",
       "    <tr>\n",
       "      <th>1</th>\n",
       "      <td>Afghanistan</td>\n",
       "      <td>2014.0</td>\n",
       "      <td>8.8</td>\n",
       "    </tr>\n",
       "    <tr>\n",
       "      <th>2</th>\n",
       "      <td>Afghanistan</td>\n",
       "      <td>2015.0</td>\n",
       "      <td>8.9</td>\n",
       "    </tr>\n",
       "    <tr>\n",
       "      <th>3</th>\n",
       "      <td>Afghanistan</td>\n",
       "      <td>2016.0</td>\n",
       "      <td>9.7</td>\n",
       "    </tr>\n",
       "    <tr>\n",
       "      <th>5</th>\n",
       "      <td>Afghanistan</td>\n",
       "      <td>2017.0</td>\n",
       "      <td>11.1</td>\n",
       "    </tr>\n",
       "    <tr>\n",
       "      <th>...</th>\n",
       "      <td>...</td>\n",
       "      <td>...</td>\n",
       "      <td>...</td>\n",
       "    </tr>\n",
       "    <tr>\n",
       "      <th>1212</th>\n",
       "      <td>Zimbabwe</td>\n",
       "      <td>2013.0</td>\n",
       "      <td>NaN</td>\n",
       "    </tr>\n",
       "    <tr>\n",
       "      <th>1213</th>\n",
       "      <td>Zimbabwe</td>\n",
       "      <td>2014.0</td>\n",
       "      <td>NaN</td>\n",
       "    </tr>\n",
       "    <tr>\n",
       "      <th>1214</th>\n",
       "      <td>Zimbabwe</td>\n",
       "      <td>2015.0</td>\n",
       "      <td>NaN</td>\n",
       "    </tr>\n",
       "    <tr>\n",
       "      <th>1215</th>\n",
       "      <td>Zimbabwe</td>\n",
       "      <td>2016.0</td>\n",
       "      <td>NaN</td>\n",
       "    </tr>\n",
       "    <tr>\n",
       "      <th>1217</th>\n",
       "      <td>Zimbabwe</td>\n",
       "      <td>2017.0</td>\n",
       "      <td>NaN</td>\n",
       "    </tr>\n",
       "  </tbody>\n",
       "</table>\n",
       "<p>1015 rows × 3 columns</p>\n",
       "</div>"
      ],
      "text/plain": [
       "             Zone   Année sous_nutrition (million)\n",
       "0     Afghanistan  2013.0                      8.6\n",
       "1     Afghanistan  2014.0                      8.8\n",
       "2     Afghanistan  2015.0                      8.9\n",
       "3     Afghanistan  2016.0                      9.7\n",
       "5     Afghanistan  2017.0                     11.1\n",
       "...           ...     ...                      ...\n",
       "1212     Zimbabwe  2013.0                      NaN\n",
       "1213     Zimbabwe  2014.0                      NaN\n",
       "1214     Zimbabwe  2015.0                      NaN\n",
       "1215     Zimbabwe  2016.0                      NaN\n",
       "1217     Zimbabwe  2017.0                      NaN\n",
       "\n",
       "[1015 rows x 3 columns]"
      ]
     },
     "execution_count": 18,
     "metadata": {},
     "output_type": "execute_result"
    }
   ],
   "source": [
    "sous_nutrition"
   ]
  },
  {
   "cell_type": "code",
   "execution_count": 19,
   "id": "33904707",
   "metadata": {},
   "outputs": [
    {
     "data": {
      "text/plain": [
       "Zone                         object\n",
       "Année                       float64\n",
       "sous_nutrition (million)     object\n",
       "dtype: object"
      ]
     },
     "execution_count": 19,
     "metadata": {},
     "output_type": "execute_result"
    }
   ],
   "source": [
    "sous_nutrition.dtypes"
   ]
  },
  {
   "cell_type": "code",
   "execution_count": 20,
   "id": "f1f97214",
   "metadata": {},
   "outputs": [
    {
     "data": {
      "text/plain": [
       "Zone                        object\n",
       "Année                        int64\n",
       "nb_population (millier)    float64\n",
       "dtype: object"
      ]
     },
     "execution_count": 20,
     "metadata": {},
     "output_type": "execute_result"
    }
   ],
   "source": [
    "population.dtypes"
   ]
  },
  {
   "cell_type": "code",
   "execution_count": 21,
   "id": "76b0e1cf",
   "metadata": {
    "scrolled": true
   },
   "outputs": [],
   "source": [
    "sous_nutrition[\"Année\"] = sous_nutrition[\"Année\"].astype(int)"
   ]
  },
  {
   "cell_type": "code",
   "execution_count": 22,
   "id": "672e6efc",
   "metadata": {},
   "outputs": [
    {
     "data": {
      "text/plain": [
       "Zone                        object\n",
       "Année                        int64\n",
       "sous_nutrition (million)    object\n",
       "dtype: object"
      ]
     },
     "execution_count": 22,
     "metadata": {},
     "output_type": "execute_result"
    }
   ],
   "source": [
    "sous_nutrition.dtypes"
   ]
  },
  {
   "cell_type": "markdown",
   "id": "1b0a5fe6",
   "metadata": {},
   "source": [
    "# EDA"
   ]
  },
  {
   "cell_type": "markdown",
   "id": "2f15eef7",
   "metadata": {},
   "source": [
    "## df_2017"
   ]
  },
  {
   "cell_type": "code",
   "execution_count": 23,
   "id": "bb5cbfb6",
   "metadata": {
    "scrolled": true
   },
   "outputs": [],
   "source": [
    "df_sous = population.merge(sous_nutrition, on = \"Zone\", how = \"left\")"
   ]
  },
  {
   "cell_type": "code",
   "execution_count": 24,
   "id": "18b191c5",
   "metadata": {},
   "outputs": [],
   "source": [
    "df_sous = df_sous.dropna()"
   ]
  },
  {
   "cell_type": "code",
   "execution_count": 25,
   "id": "6b47ca5c",
   "metadata": {},
   "outputs": [
    {
     "data": {
      "text/plain": [
       "Zone                        0\n",
       "Année_x                     0\n",
       "nb_population (millier)     0\n",
       "Année_y                     0\n",
       "sous_nutrition (million)    0\n",
       "dtype: int64"
      ]
     },
     "execution_count": 25,
     "metadata": {},
     "output_type": "execute_result"
    }
   ],
   "source": [
    "df_sous.isnull().sum()"
   ]
  },
  {
   "cell_type": "code",
   "execution_count": 26,
   "id": "c7ccf53d",
   "metadata": {},
   "outputs": [
    {
     "data": {
      "text/plain": [
       "(3120, 5)"
      ]
     },
     "execution_count": 26,
     "metadata": {},
     "output_type": "execute_result"
    }
   ],
   "source": [
    "df_sous.shape"
   ]
  },
  {
   "cell_type": "code",
   "execution_count": 27,
   "id": "ae7416a1",
   "metadata": {},
   "outputs": [
    {
     "data": {
      "text/plain": [
       "0"
      ]
     },
     "execution_count": 27,
     "metadata": {},
     "output_type": "execute_result"
    }
   ],
   "source": [
    "df_sous.duplicated().sum()"
   ]
  },
  {
   "cell_type": "code",
   "execution_count": 28,
   "id": "6cd66acb",
   "metadata": {},
   "outputs": [],
   "source": [
    "df_sous = df_sous.drop([\"Année_y\"], axis = 1)"
   ]
  },
  {
   "cell_type": "code",
   "execution_count": 29,
   "id": "169ca32f",
   "metadata": {
    "scrolled": true
   },
   "outputs": [],
   "source": [
    "df_sous_2017 = df_sous.loc[df_sous[\"Année_x\"] == 2017]"
   ]
  },
  {
   "cell_type": "code",
   "execution_count": 30,
   "id": "9688d959",
   "metadata": {},
   "outputs": [
    {
     "name": "stderr",
     "output_type": "stream",
     "text": [
      "/tmp/ipykernel_2969/3121014461.py:1: SettingWithCopyWarning: \n",
      "A value is trying to be set on a copy of a slice from a DataFrame.\n",
      "Try using .loc[row_indexer,col_indexer] = value instead\n",
      "\n",
      "See the caveats in the documentation: https://pandas.pydata.org/pandas-docs/stable/user_guide/indexing.html#returning-a-view-versus-a-copy\n",
      "  df_sous_2017[\"nb__population (million)\"] = round((df_sous_2017[\"nb_population (millier)\"] / 1000), 2)\n"
     ]
    }
   ],
   "source": [
    "df_sous_2017[\"nb__population (million)\"] = round((df_sous_2017[\"nb_population (millier)\"] / 1000), 2)"
   ]
  },
  {
   "cell_type": "code",
   "execution_count": 31,
   "id": "c1ccac63",
   "metadata": {},
   "outputs": [
    {
     "data": {
      "text/html": [
       "<div>\n",
       "<style scoped>\n",
       "    .dataframe tbody tr th:only-of-type {\n",
       "        vertical-align: middle;\n",
       "    }\n",
       "\n",
       "    .dataframe tbody tr th {\n",
       "        vertical-align: top;\n",
       "    }\n",
       "\n",
       "    .dataframe thead th {\n",
       "        text-align: right;\n",
       "    }\n",
       "</style>\n",
       "<table border=\"1\" class=\"dataframe\">\n",
       "  <thead>\n",
       "    <tr style=\"text-align: right;\">\n",
       "      <th></th>\n",
       "      <th>Zone</th>\n",
       "      <th>Année_x</th>\n",
       "      <th>nb_population (millier)</th>\n",
       "      <th>sous_nutrition (million)</th>\n",
       "      <th>nb__population (million)</th>\n",
       "    </tr>\n",
       "  </thead>\n",
       "  <tbody>\n",
       "    <tr>\n",
       "      <th>20</th>\n",
       "      <td>Afghanistan</td>\n",
       "      <td>2017</td>\n",
       "      <td>36296.113</td>\n",
       "      <td>8.6</td>\n",
       "      <td>36.3</td>\n",
       "    </tr>\n",
       "    <tr>\n",
       "      <th>21</th>\n",
       "      <td>Afghanistan</td>\n",
       "      <td>2017</td>\n",
       "      <td>36296.113</td>\n",
       "      <td>8.8</td>\n",
       "      <td>36.3</td>\n",
       "    </tr>\n",
       "    <tr>\n",
       "      <th>22</th>\n",
       "      <td>Afghanistan</td>\n",
       "      <td>2017</td>\n",
       "      <td>36296.113</td>\n",
       "      <td>8.9</td>\n",
       "      <td>36.3</td>\n",
       "    </tr>\n",
       "    <tr>\n",
       "      <th>23</th>\n",
       "      <td>Afghanistan</td>\n",
       "      <td>2017</td>\n",
       "      <td>36296.113</td>\n",
       "      <td>9.7</td>\n",
       "      <td>36.3</td>\n",
       "    </tr>\n",
       "    <tr>\n",
       "      <th>24</th>\n",
       "      <td>Afghanistan</td>\n",
       "      <td>2017</td>\n",
       "      <td>36296.113</td>\n",
       "      <td>11.1</td>\n",
       "      <td>36.3</td>\n",
       "    </tr>\n",
       "    <tr>\n",
       "      <th>...</th>\n",
       "      <td>...</td>\n",
       "      <td>...</td>\n",
       "      <td>...</td>\n",
       "      <td>...</td>\n",
       "      <td>...</td>\n",
       "    </tr>\n",
       "    <tr>\n",
       "      <th>6188</th>\n",
       "      <td>Viet Nam</td>\n",
       "      <td>2017</td>\n",
       "      <td>94600.648</td>\n",
       "      <td>8.9</td>\n",
       "      <td>94.6</td>\n",
       "    </tr>\n",
       "    <tr>\n",
       "      <th>6189</th>\n",
       "      <td>Viet Nam</td>\n",
       "      <td>2017</td>\n",
       "      <td>94600.648</td>\n",
       "      <td>8.3</td>\n",
       "      <td>94.6</td>\n",
       "    </tr>\n",
       "    <tr>\n",
       "      <th>6190</th>\n",
       "      <td>Viet Nam</td>\n",
       "      <td>2017</td>\n",
       "      <td>94600.648</td>\n",
       "      <td>7.6</td>\n",
       "      <td>94.6</td>\n",
       "    </tr>\n",
       "    <tr>\n",
       "      <th>6191</th>\n",
       "      <td>Viet Nam</td>\n",
       "      <td>2017</td>\n",
       "      <td>94600.648</td>\n",
       "      <td>7.1</td>\n",
       "      <td>94.6</td>\n",
       "    </tr>\n",
       "    <tr>\n",
       "      <th>6192</th>\n",
       "      <td>Viet Nam</td>\n",
       "      <td>2017</td>\n",
       "      <td>94600.648</td>\n",
       "      <td>6.1</td>\n",
       "      <td>94.6</td>\n",
       "    </tr>\n",
       "  </tbody>\n",
       "</table>\n",
       "<p>520 rows × 5 columns</p>\n",
       "</div>"
      ],
      "text/plain": [
       "             Zone  Année_x  nb_population (millier) sous_nutrition (million)  \\\n",
       "20    Afghanistan     2017                36296.113                      8.6   \n",
       "21    Afghanistan     2017                36296.113                      8.8   \n",
       "22    Afghanistan     2017                36296.113                      8.9   \n",
       "23    Afghanistan     2017                36296.113                      9.7   \n",
       "24    Afghanistan     2017                36296.113                     11.1   \n",
       "...           ...      ...                      ...                      ...   \n",
       "6188     Viet Nam     2017                94600.648                      8.9   \n",
       "6189     Viet Nam     2017                94600.648                      8.3   \n",
       "6190     Viet Nam     2017                94600.648                      7.6   \n",
       "6191     Viet Nam     2017                94600.648                      7.1   \n",
       "6192     Viet Nam     2017                94600.648                      6.1   \n",
       "\n",
       "      nb__population (million)  \n",
       "20                        36.3  \n",
       "21                        36.3  \n",
       "22                        36.3  \n",
       "23                        36.3  \n",
       "24                        36.3  \n",
       "...                        ...  \n",
       "6188                      94.6  \n",
       "6189                      94.6  \n",
       "6190                      94.6  \n",
       "6191                      94.6  \n",
       "6192                      94.6  \n",
       "\n",
       "[520 rows x 5 columns]"
      ]
     },
     "execution_count": 31,
     "metadata": {},
     "output_type": "execute_result"
    }
   ],
   "source": [
    "df_sous_2017"
   ]
  },
  {
   "cell_type": "markdown",
   "id": "7fd170f6",
   "metadata": {},
   "source": [
    "## df_full "
   ]
  },
  {
   "cell_type": "code",
   "execution_count": 32,
   "id": "38e288d3",
   "metadata": {},
   "outputs": [],
   "source": [
    "# clean dispo_alimentaire"
   ]
  },
  {
   "cell_type": "code",
   "execution_count": 33,
   "id": "4f816796",
   "metadata": {},
   "outputs": [
    {
     "data": {
      "text/html": [
       "<div>\n",
       "<style scoped>\n",
       "    .dataframe tbody tr th:only-of-type {\n",
       "        vertical-align: middle;\n",
       "    }\n",
       "\n",
       "    .dataframe tbody tr th {\n",
       "        vertical-align: top;\n",
       "    }\n",
       "\n",
       "    .dataframe thead th {\n",
       "        text-align: right;\n",
       "    }\n",
       "</style>\n",
       "<table border=\"1\" class=\"dataframe\">\n",
       "  <thead>\n",
       "    <tr style=\"text-align: right;\">\n",
       "      <th></th>\n",
       "      <th>Zone</th>\n",
       "      <th>Produit</th>\n",
       "      <th>Origine</th>\n",
       "      <th>Aliments pour animaux</th>\n",
       "      <th>Autres Utilisations</th>\n",
       "      <th>Disponibilité alimentaire (Kcal/personne/jour)</th>\n",
       "      <th>Disponibilité alimentaire en quantité (kg/personne/an)</th>\n",
       "      <th>Disponibilité de matière grasse en quantité (g/personne/jour)</th>\n",
       "      <th>Disponibilité de protéines en quantité (g/personne/jour)</th>\n",
       "      <th>Disponibilité intérieure</th>\n",
       "      <th>Exportations - Quantité</th>\n",
       "      <th>Importations - Quantité</th>\n",
       "      <th>Nourriture</th>\n",
       "      <th>Pertes</th>\n",
       "      <th>Production</th>\n",
       "      <th>Semences</th>\n",
       "      <th>Traitement</th>\n",
       "      <th>Variation de stock</th>\n",
       "    </tr>\n",
       "  </thead>\n",
       "  <tbody>\n",
       "    <tr>\n",
       "      <th>0</th>\n",
       "      <td>Afghanistan</td>\n",
       "      <td>Abats Comestible</td>\n",
       "      <td>animale</td>\n",
       "      <td>NaN</td>\n",
       "      <td>NaN</td>\n",
       "      <td>5.0</td>\n",
       "      <td>1.72</td>\n",
       "      <td>0.20</td>\n",
       "      <td>0.77</td>\n",
       "      <td>53.0</td>\n",
       "      <td>NaN</td>\n",
       "      <td>NaN</td>\n",
       "      <td>53.0</td>\n",
       "      <td>NaN</td>\n",
       "      <td>53.0</td>\n",
       "      <td>NaN</td>\n",
       "      <td>NaN</td>\n",
       "      <td>NaN</td>\n",
       "    </tr>\n",
       "    <tr>\n",
       "      <th>1</th>\n",
       "      <td>Afghanistan</td>\n",
       "      <td>Agrumes, Autres</td>\n",
       "      <td>vegetale</td>\n",
       "      <td>NaN</td>\n",
       "      <td>NaN</td>\n",
       "      <td>1.0</td>\n",
       "      <td>1.29</td>\n",
       "      <td>0.01</td>\n",
       "      <td>0.02</td>\n",
       "      <td>41.0</td>\n",
       "      <td>2.0</td>\n",
       "      <td>40.0</td>\n",
       "      <td>39.0</td>\n",
       "      <td>2.0</td>\n",
       "      <td>3.0</td>\n",
       "      <td>NaN</td>\n",
       "      <td>NaN</td>\n",
       "      <td>NaN</td>\n",
       "    </tr>\n",
       "    <tr>\n",
       "      <th>2</th>\n",
       "      <td>Afghanistan</td>\n",
       "      <td>Aliments pour enfants</td>\n",
       "      <td>vegetale</td>\n",
       "      <td>NaN</td>\n",
       "      <td>NaN</td>\n",
       "      <td>1.0</td>\n",
       "      <td>0.06</td>\n",
       "      <td>0.01</td>\n",
       "      <td>0.03</td>\n",
       "      <td>2.0</td>\n",
       "      <td>NaN</td>\n",
       "      <td>2.0</td>\n",
       "      <td>2.0</td>\n",
       "      <td>NaN</td>\n",
       "      <td>NaN</td>\n",
       "      <td>NaN</td>\n",
       "      <td>NaN</td>\n",
       "      <td>NaN</td>\n",
       "    </tr>\n",
       "  </tbody>\n",
       "</table>\n",
       "</div>"
      ],
      "text/plain": [
       "          Zone                Produit   Origine  Aliments pour animaux  \\\n",
       "0  Afghanistan       Abats Comestible   animale                    NaN   \n",
       "1  Afghanistan        Agrumes, Autres  vegetale                    NaN   \n",
       "2  Afghanistan  Aliments pour enfants  vegetale                    NaN   \n",
       "\n",
       "   Autres Utilisations  Disponibilité alimentaire (Kcal/personne/jour)  \\\n",
       "0                  NaN                                             5.0   \n",
       "1                  NaN                                             1.0   \n",
       "2                  NaN                                             1.0   \n",
       "\n",
       "   Disponibilité alimentaire en quantité (kg/personne/an)  \\\n",
       "0                                               1.72        \n",
       "1                                               1.29        \n",
       "2                                               0.06        \n",
       "\n",
       "   Disponibilité de matière grasse en quantité (g/personne/jour)  \\\n",
       "0                                               0.20               \n",
       "1                                               0.01               \n",
       "2                                               0.01               \n",
       "\n",
       "   Disponibilité de protéines en quantité (g/personne/jour)  \\\n",
       "0                                               0.77          \n",
       "1                                               0.02          \n",
       "2                                               0.03          \n",
       "\n",
       "   Disponibilité intérieure  Exportations - Quantité  Importations - Quantité  \\\n",
       "0                      53.0                      NaN                      NaN   \n",
       "1                      41.0                      2.0                     40.0   \n",
       "2                       2.0                      NaN                      2.0   \n",
       "\n",
       "   Nourriture  Pertes  Production  Semences  Traitement  Variation de stock  \n",
       "0        53.0     NaN        53.0       NaN         NaN                 NaN  \n",
       "1        39.0     2.0         3.0       NaN         NaN                 NaN  \n",
       "2         2.0     NaN         NaN       NaN         NaN                 NaN  "
      ]
     },
     "execution_count": 33,
     "metadata": {},
     "output_type": "execute_result"
    }
   ],
   "source": [
    "dispo_alimentaire.head(3)"
   ]
  },
  {
   "cell_type": "code",
   "execution_count": 34,
   "id": "c07249a9",
   "metadata": {},
   "outputs": [
    {
     "data": {
      "text/plain": [
       "Zone                                                                 0\n",
       "Produit                                                              0\n",
       "Origine                                                              0\n",
       "Aliments pour animaux                                            12885\n",
       "Autres Utilisations                                              10109\n",
       "Disponibilité alimentaire (Kcal/personne/jour)                    1364\n",
       "Disponibilité alimentaire en quantité (kg/personne/an)            1590\n",
       "Disponibilité de matière grasse en quantité (g/personne/jour)     3811\n",
       "Disponibilité de protéines en quantité (g/personne/jour)          4044\n",
       "Disponibilité intérieure                                           223\n",
       "Exportations - Quantité                                           3379\n",
       "Importations - Quantité                                            753\n",
       "Nourriture                                                        1590\n",
       "Pertes                                                           11327\n",
       "Production                                                        6425\n",
       "Semences                                                         13514\n",
       "Traitement                                                       13313\n",
       "Variation de stock                                                8829\n",
       "dtype: int64"
      ]
     },
     "execution_count": 34,
     "metadata": {},
     "output_type": "execute_result"
    }
   ],
   "source": [
    "dispo_alimentaire.isnull().sum()"
   ]
  },
  {
   "cell_type": "code",
   "execution_count": 35,
   "id": "2932bd52",
   "metadata": {},
   "outputs": [
    {
     "data": {
      "text/plain": [
       "(15605, 11)"
      ]
     },
     "execution_count": 35,
     "metadata": {},
     "output_type": "execute_result"
    }
   ],
   "source": [
    "dispo_no_NaN = dispo_alimentaire.drop([\"Traitement\", \"Semences\", \"Pertes\", \"Autres Utilisations\", \"Aliments pour animaux\",\n",
    "                                         \"Variation de stock\", \"Production\"],\n",
    "                                        axis = 1)\n",
    "dispo_no_NaN.shape"
   ]
  },
  {
   "cell_type": "code",
   "execution_count": 36,
   "id": "b3e9aed9",
   "metadata": {},
   "outputs": [
    {
     "data": {
      "text/plain": [
       "Zone                                                                0\n",
       "Produit                                                             0\n",
       "Origine                                                             0\n",
       "Disponibilité alimentaire (Kcal/personne/jour)                   1364\n",
       "Disponibilité alimentaire en quantité (kg/personne/an)           1590\n",
       "Disponibilité de matière grasse en quantité (g/personne/jour)    3811\n",
       "Disponibilité de protéines en quantité (g/personne/jour)         4044\n",
       "Disponibilité intérieure                                          223\n",
       "Exportations - Quantité                                          3379\n",
       "Importations - Quantité                                           753\n",
       "Nourriture                                                       1590\n",
       "dtype: int64"
      ]
     },
     "execution_count": 36,
     "metadata": {},
     "output_type": "execute_result"
    }
   ],
   "source": [
    "dispo_no_NaN.isnull().sum()"
   ]
  },
  {
   "cell_type": "code",
   "execution_count": 37,
   "id": "f921d347",
   "metadata": {},
   "outputs": [
    {
     "data": {
      "text/plain": [
       "(8517, 11)"
      ]
     },
     "execution_count": 37,
     "metadata": {},
     "output_type": "execute_result"
    }
   ],
   "source": [
    "dispo_no_NaN_1 = dispo_no_NaN.dropna()\n",
    "dispo_no_NaN_1.shape"
   ]
  },
  {
   "cell_type": "code",
   "execution_count": 38,
   "id": "839557d9",
   "metadata": {},
   "outputs": [
    {
     "data": {
      "text/plain": [
       "Zone                                                             0\n",
       "Produit                                                          0\n",
       "Origine                                                          0\n",
       "Disponibilité alimentaire (Kcal/personne/jour)                   0\n",
       "Disponibilité alimentaire en quantité (kg/personne/an)           0\n",
       "Disponibilité de matière grasse en quantité (g/personne/jour)    0\n",
       "Disponibilité de protéines en quantité (g/personne/jour)         0\n",
       "Disponibilité intérieure                                         0\n",
       "Exportations - Quantité                                          0\n",
       "Importations - Quantité                                          0\n",
       "Nourriture                                                       0\n",
       "dtype: int64"
      ]
     },
     "execution_count": 38,
     "metadata": {},
     "output_type": "execute_result"
    }
   ],
   "source": [
    "dispo_no_NaN_1.isnull().sum()"
   ]
  },
  {
   "cell_type": "code",
   "execution_count": 39,
   "id": "c4deca6f",
   "metadata": {},
   "outputs": [],
   "source": [
    "# merge les 3 dataframe"
   ]
  },
  {
   "cell_type": "code",
   "execution_count": 77,
   "id": "a90462ad",
   "metadata": {
    "scrolled": true
   },
   "outputs": [
    {
     "data": {
      "text/plain": [
       "(1805947, 18)"
      ]
     },
     "execution_count": 77,
     "metadata": {},
     "output_type": "execute_result"
    }
   ],
   "source": [
    "df_merge = dispo_no_NaN_1.merge(population, on = \"Zone\", how = \"left\")\n",
    "df_merge_1 = df_merge.merge(aide_alimentaire, on = \"Zone\", how = \"left\")\n",
    "df_full = df_merge_1.merge(sous_nutrition, on = \"Zone\", how = \"left\")\n",
    "df_full.shape"
   ]
  },
  {
   "cell_type": "code",
   "execution_count": 73,
   "id": "2aa25b9a",
   "metadata": {},
   "outputs": [
    {
     "data": {
      "text/plain": [
       "(50467, 13)"
      ]
     },
     "execution_count": 73,
     "metadata": {},
     "output_type": "execute_result"
    }
   ],
   "source": [
    "df_merge.shape"
   ]
  },
  {
   "cell_type": "code",
   "execution_count": 74,
   "id": "61be5505",
   "metadata": {},
   "outputs": [
    {
     "data": {
      "text/plain": [
       "(361291, 16)"
      ]
     },
     "execution_count": 74,
     "metadata": {},
     "output_type": "execute_result"
    }
   ],
   "source": [
    "df_merge_1.shape"
   ]
  },
  {
   "cell_type": "code",
   "execution_count": 67,
   "id": "95e4a474",
   "metadata": {},
   "outputs": [
    {
     "data": {
      "text/plain": [
       "0"
      ]
     },
     "execution_count": 67,
     "metadata": {},
     "output_type": "execute_result"
    }
   ],
   "source": [
    "df_full.duplicated().sum()"
   ]
  },
  {
   "cell_type": "code",
   "execution_count": 68,
   "id": "d89b3fdf",
   "metadata": {},
   "outputs": [
    {
     "data": {
      "text/plain": [
       "Zone                                                                  0\n",
       "Produit_x                                                             0\n",
       "Origine                                                               0\n",
       "Disponibilité alimentaire (Kcal/personne/jour)                        0\n",
       "Disponibilité alimentaire en quantité (kg/personne/an)                0\n",
       "Disponibilité de matière grasse en quantité (g/personne/jour)         0\n",
       "Disponibilité de protéines en quantité (g/personne/jour)              0\n",
       "Disponibilité intérieure                                              0\n",
       "Exportations - Quantité                                               0\n",
       "Importations - Quantité                                               0\n",
       "Nourriture                                                            0\n",
       "Année_x                                                             127\n",
       "nb_population (millier)                                             127\n",
       "Année_y                                                          168217\n",
       "Produit_y                                                        168217\n",
       "Quantité (en tonne)                                              168217\n",
       "Année                                                               127\n",
       "sous_nutrition (million)                                         375625\n",
       "dtype: int64"
      ]
     },
     "execution_count": 68,
     "metadata": {},
     "output_type": "execute_result"
    }
   ],
   "source": [
    "df_full.isnull().sum()"
   ]
  },
  {
   "cell_type": "code",
   "execution_count": 78,
   "id": "0be5f9c1",
   "metadata": {},
   "outputs": [
    {
     "data": {
      "text/plain": [
       "array([  41.,  240., 2083., ..., 5200.,  212., 4156.])"
      ]
     },
     "execution_count": 78,
     "metadata": {},
     "output_type": "execute_result"
    }
   ],
   "source": [
    "df_full[\"Disponibilité intérieure\"].unique()"
   ]
  },
  {
   "cell_type": "markdown",
   "id": "d17836ea",
   "metadata": {},
   "source": [
    "## Outliers"
   ]
  },
  {
   "cell_type": "code",
   "execution_count": null,
   "id": "01eda0c3",
   "metadata": {},
   "outputs": [],
   "source": []
  },
  {
   "cell_type": "markdown",
   "id": "358d4293",
   "metadata": {},
   "source": [
    "## Change columns"
   ]
  },
  {
   "cell_type": "code",
   "execution_count": null,
   "id": "180efb11",
   "metadata": {},
   "outputs": [],
   "source": []
  },
  {
   "cell_type": "markdown",
   "id": "1ace3226",
   "metadata": {},
   "source": [
    "# Visualisation"
   ]
  },
  {
   "cell_type": "markdown",
   "id": "f3c519ab",
   "metadata": {},
   "source": [
    "## Partie 1"
   ]
  },
  {
   "cell_type": "markdown",
   "id": "0e9eba36",
   "metadata": {},
   "source": [
    "Pour une étude, nous souhaitons avoir les informations suivantes, sur l’année 2017 :\n",
    "\n",
    "- la proportion de personnes en état de sous-nutrition ;\n",
    "- le nombre théorique de personnes qui pourraient être nourries. Tu devrais pouvoir calculer ça à partir de la disponibilité alimentaire mondiale ;\n",
    "- idem pour la disponibilité alimentaire des produits végétaux ;\n",
    "- les pays pour lesquels la proportion de personnes sous-alimentées est la plus forte\n",
    "- Ceux ayant le plus/le moins de disponibilité/habitant, etc., Travailler ensuite une fonction permettant de sortir ce résultat pour toutes les années. Vous devrez, dans un nouveau notebook, permettre à l’utilisateur de remplir manuellement une année et d’obtenir le résultat pour chacune des questions précédentes (pour les plus aguerrit : une application avec Flask, Dash ou Streamlit me va aussi 😊)."
   ]
  },
  {
   "cell_type": "code",
   "execution_count": 40,
   "id": "c3ee128b",
   "metadata": {},
   "outputs": [
    {
     "name": "stderr",
     "output_type": "stream",
     "text": [
      "/tmp/ipykernel_2969/1072376193.py:3: SettingWithCopyWarning: \n",
      "A value is trying to be set on a copy of a slice from a DataFrame.\n",
      "Try using .loc[row_indexer,col_indexer] = value instead\n",
      "\n",
      "See the caveats in the documentation: https://pandas.pydata.org/pandas-docs/stable/user_guide/indexing.html#returning-a-view-versus-a-copy\n",
      "  df_sous_2017[\"sous_nutrition (million)\"] = df_sous_2017[\"sous_nutrition (million)\"].astype(float)\n"
     ]
    }
   ],
   "source": [
    "no_sous_nutrition = df_sous_2017.loc[df_sous_2017[\"sous_nutrition (million)\"] == \"<0.1\"]\n",
    "df_sous_2017 = df_sous_2017.loc[df_sous_2017[\"sous_nutrition (million)\"] != \"<0.1\"]\n",
    "df_sous_2017[\"sous_nutrition (million)\"] = df_sous_2017[\"sous_nutrition (million)\"].astype(float)"
   ]
  },
  {
   "cell_type": "code",
   "execution_count": 41,
   "id": "512e4b8f",
   "metadata": {},
   "outputs": [],
   "source": [
    "gb_sous_alimentation = df_sous_2017.groupby(by = \"Zone\").mean().reset_index()\n",
    "gb_sous_alimentation[\"proportion_sous_nutrition\"] = gb_sous_alimentation[\"sous_nutrition (million)\"] / gb_sous_alimentation[\"nb__population (million)\"]"
   ]
  },
  {
   "cell_type": "code",
   "execution_count": 42,
   "id": "20200a6c",
   "metadata": {},
   "outputs": [
    {
     "data": {
      "text/html": [
       "<div>\n",
       "<style scoped>\n",
       "    .dataframe tbody tr th:only-of-type {\n",
       "        vertical-align: middle;\n",
       "    }\n",
       "\n",
       "    .dataframe tbody tr th {\n",
       "        vertical-align: top;\n",
       "    }\n",
       "\n",
       "    .dataframe thead th {\n",
       "        text-align: right;\n",
       "    }\n",
       "</style>\n",
       "<table border=\"1\" class=\"dataframe\">\n",
       "  <thead>\n",
       "    <tr style=\"text-align: right;\">\n",
       "      <th></th>\n",
       "      <th>Zone</th>\n",
       "      <th>Année_x</th>\n",
       "      <th>nb_population (millier)</th>\n",
       "      <th>sous_nutrition (million)</th>\n",
       "      <th>nb__population (million)</th>\n",
       "      <th>proportion_sous_nutrition</th>\n",
       "    </tr>\n",
       "  </thead>\n",
       "  <tbody>\n",
       "    <tr>\n",
       "      <th>0</th>\n",
       "      <td>Afghanistan</td>\n",
       "      <td>2017.0</td>\n",
       "      <td>36296.113</td>\n",
       "      <td>9.42</td>\n",
       "      <td>36.30</td>\n",
       "      <td>0.259504</td>\n",
       "    </tr>\n",
       "    <tr>\n",
       "      <th>1</th>\n",
       "      <td>Afrique du Sud</td>\n",
       "      <td>2017.0</td>\n",
       "      <td>57009.756</td>\n",
       "      <td>2.76</td>\n",
       "      <td>57.01</td>\n",
       "      <td>0.048413</td>\n",
       "    </tr>\n",
       "    <tr>\n",
       "      <th>2</th>\n",
       "      <td>Albanie</td>\n",
       "      <td>2017.0</td>\n",
       "      <td>2884.169</td>\n",
       "      <td>0.10</td>\n",
       "      <td>2.88</td>\n",
       "      <td>0.034722</td>\n",
       "    </tr>\n",
       "    <tr>\n",
       "      <th>3</th>\n",
       "      <td>Algérie</td>\n",
       "      <td>2017.0</td>\n",
       "      <td>41389.189</td>\n",
       "      <td>1.28</td>\n",
       "      <td>41.39</td>\n",
       "      <td>0.030925</td>\n",
       "    </tr>\n",
       "    <tr>\n",
       "      <th>4</th>\n",
       "      <td>Angola</td>\n",
       "      <td>2017.0</td>\n",
       "      <td>29816.766</td>\n",
       "      <td>6.08</td>\n",
       "      <td>29.82</td>\n",
       "      <td>0.203890</td>\n",
       "    </tr>\n",
       "    <tr>\n",
       "      <th>...</th>\n",
       "      <td>...</td>\n",
       "      <td>...</td>\n",
       "      <td>...</td>\n",
       "      <td>...</td>\n",
       "      <td>...</td>\n",
       "      <td>...</td>\n",
       "    </tr>\n",
       "    <tr>\n",
       "      <th>82</th>\n",
       "      <td>Viet Nam</td>\n",
       "      <td>2017.0</td>\n",
       "      <td>94600.648</td>\n",
       "      <td>7.60</td>\n",
       "      <td>94.60</td>\n",
       "      <td>0.080338</td>\n",
       "    </tr>\n",
       "    <tr>\n",
       "      <th>83</th>\n",
       "      <td>Égypte</td>\n",
       "      <td>2017.0</td>\n",
       "      <td>96442.591</td>\n",
       "      <td>4.40</td>\n",
       "      <td>96.44</td>\n",
       "      <td>0.045624</td>\n",
       "    </tr>\n",
       "    <tr>\n",
       "      <th>84</th>\n",
       "      <td>Émirats arabes unis</td>\n",
       "      <td>2017.0</td>\n",
       "      <td>9487.203</td>\n",
       "      <td>0.30</td>\n",
       "      <td>9.49</td>\n",
       "      <td>0.031612</td>\n",
       "    </tr>\n",
       "    <tr>\n",
       "      <th>85</th>\n",
       "      <td>Équateur</td>\n",
       "      <td>2017.0</td>\n",
       "      <td>16785.361</td>\n",
       "      <td>1.72</td>\n",
       "      <td>16.79</td>\n",
       "      <td>0.102442</td>\n",
       "    </tr>\n",
       "    <tr>\n",
       "      <th>86</th>\n",
       "      <td>Éthiopie</td>\n",
       "      <td>2017.0</td>\n",
       "      <td>106399.924</td>\n",
       "      <td>23.00</td>\n",
       "      <td>106.40</td>\n",
       "      <td>0.216165</td>\n",
       "    </tr>\n",
       "  </tbody>\n",
       "</table>\n",
       "<p>87 rows × 6 columns</p>\n",
       "</div>"
      ],
      "text/plain": [
       "                   Zone  Année_x  nb_population (millier)  \\\n",
       "0           Afghanistan   2017.0                36296.113   \n",
       "1        Afrique du Sud   2017.0                57009.756   \n",
       "2               Albanie   2017.0                 2884.169   \n",
       "3               Algérie   2017.0                41389.189   \n",
       "4                Angola   2017.0                29816.766   \n",
       "..                  ...      ...                      ...   \n",
       "82             Viet Nam   2017.0                94600.648   \n",
       "83               Égypte   2017.0                96442.591   \n",
       "84  Émirats arabes unis   2017.0                 9487.203   \n",
       "85             Équateur   2017.0                16785.361   \n",
       "86             Éthiopie   2017.0               106399.924   \n",
       "\n",
       "    sous_nutrition (million)  nb__population (million)  \\\n",
       "0                       9.42                     36.30   \n",
       "1                       2.76                     57.01   \n",
       "2                       0.10                      2.88   \n",
       "3                       1.28                     41.39   \n",
       "4                       6.08                     29.82   \n",
       "..                       ...                       ...   \n",
       "82                      7.60                     94.60   \n",
       "83                      4.40                     96.44   \n",
       "84                      0.30                      9.49   \n",
       "85                      1.72                     16.79   \n",
       "86                     23.00                    106.40   \n",
       "\n",
       "    proportion_sous_nutrition  \n",
       "0                    0.259504  \n",
       "1                    0.048413  \n",
       "2                    0.034722  \n",
       "3                    0.030925  \n",
       "4                    0.203890  \n",
       "..                        ...  \n",
       "82                   0.080338  \n",
       "83                   0.045624  \n",
       "84                   0.031612  \n",
       "85                   0.102442  \n",
       "86                   0.216165  \n",
       "\n",
       "[87 rows x 6 columns]"
      ]
     },
     "execution_count": 42,
     "metadata": {},
     "output_type": "execute_result"
    }
   ],
   "source": [
    "gb_sous_alimentation"
   ]
  },
  {
   "cell_type": "markdown",
   "id": "0389b430",
   "metadata": {},
   "source": [
    "## la proportion de personnes en état de sous-nutrition "
   ]
  },
  {
   "cell_type": "code",
   "execution_count": 43,
   "id": "f1b62a87",
   "metadata": {},
   "outputs": [
    {
     "name": "stdout",
     "output_type": "stream",
     "text": [
      "En 2017, la proportion de personnes en état de sous-nutrition dans le monde est de 12.66 %\n"
     ]
    }
   ],
   "source": [
    "proportion_sous_nutrition = round((gb_sous_alimentation[\"sous_nutrition (million)\"].sum() / gb_sous_alimentation[\"nb__population (million)\"].sum()) * 100, 2)\n",
    "\n",
    "print(f\"En 2017, la proportion de personnes en état de sous-nutrition dans le monde est de {proportion_sous_nutrition} %\")"
   ]
  },
  {
   "cell_type": "markdown",
   "id": "dc4dec8f",
   "metadata": {},
   "source": [
    "## Les pays pour lesquels la proportion de personnes sous-alimentées est la plus forte"
   ]
  },
  {
   "cell_type": "code",
   "execution_count": 44,
   "id": "3c4a874e",
   "metadata": {},
   "outputs": [],
   "source": [
    "# 2 bar plot représentant les 5 pays avec le taux de sous nutrition le plus élévée et \n",
    "# les 5 pays avec le taux de sous nutrition le plus faible "
   ]
  },
  {
   "cell_type": "code",
   "execution_count": 45,
   "id": "05c07f53",
   "metadata": {},
   "outputs": [],
   "source": [
    "gb_worse_sous_nutrition = gb_sous_alimentation.sort_values(by = [\"proportion_sous_nutrition\"], ascending = False)\n",
    "gb_best_sous_nutrition = gb_sous_alimentation.sort_values(by = [\"proportion_sous_nutrition\"], ascending = True)\n",
    "\n",
    "top_5_worse = gb_worse_sous_nutrition.loc[(gb_worse_sous_nutrition[\"Zone\"] == \"Haïti\")|\n",
    "                                          (gb_worse_sous_nutrition[\"Zone\"] == \"République populaire démocratique de Corée\")|\n",
    "                                          (gb_worse_sous_nutrition[\"Zone\"] == \"Madagascar\")|\n",
    "                                          (gb_worse_sous_nutrition[\"Zone\"] == \"Libéria\")|\n",
    "                                          (gb_worse_sous_nutrition[\"Zone\"] == \"Tchad\")] \n",
    "\n",
    "top_5_best = gb_best_sous_nutrition.loc[(gb_worse_sous_nutrition[\"Zone\"] == \"Tunisie\")|\n",
    "                                          (gb_worse_sous_nutrition[\"Zone\"] == \"Kazakhstan\")|\n",
    "                                          (gb_worse_sous_nutrition[\"Zone\"] == \"Argentine\")|\n",
    "                                          (gb_worse_sous_nutrition[\"Zone\"] == \"Algérie\")|\n",
    "                                          (gb_worse_sous_nutrition[\"Zone\"] == \"Émirats arabes unis\")] "
   ]
  },
  {
   "cell_type": "code",
   "execution_count": 46,
   "id": "c2f474d1",
   "metadata": {},
   "outputs": [
    {
     "data": {
      "image/png": "[encoded data removed]",
      "text/plain": [
       "<Figure size 1500x700 with 1 Axes>"
      ]
     },
     "metadata": {},
     "output_type": "display_data"
    },
    {
     "data": {
      "image/png": "[encoded data removed]",
      "text/plain": [
       "<Figure size 1500x700 with 1 Axes>"
      ]
     },
     "metadata": {},
     "output_type": "display_data"
    }
   ],
   "source": [
    "y_worse = top_5_worse[\"proportion_sous_nutrition\"].unique()\n",
    "labels_worse =top_5_worse[\"Zone\"].unique()\n",
    "colors = sns.color_palette(\"hls\", 8)\n",
    "\n",
    "y_best = top_5_best[\"proportion_sous_nutrition\"].unique()\n",
    "labels_best = top_5_best[\"Zone\"].unique()\n",
    "\n",
    "fig, ax = plt.subplots(figsize=(15, 7))\n",
    "    \n",
    "ax.bar(labels_worse, y_worse, color = colors)\n",
    "ax.set_xlabel(\"\")\n",
    "ax.set_ylabel(\"Ratio sous nutrition\")\n",
    "ax.set_title(\"Top 5 country with the worse ratio of sous nutrition\", fontsize = 15)\n",
    "plt.tick_params(axis = 'both', labelsize = 10)\n",
    "plt.show()\n",
    "\n",
    "fig, ax = plt.subplots(figsize=(15, 7))\n",
    "\n",
    "ax.bar(labels_best, y_best, color = colors)\n",
    "ax.set_xlabel(\"\")\n",
    "ax.set_ylabel(\"Ratio sous nutrition\")\n",
    "ax.set_title(\"Top 5 country with the best ratio of sous nutrition\", fontsize = 15)\n",
    "plt.tick_params(axis = 'both', labelsize = 10)\n",
    "plt.show()"
   ]
  },
  {
   "cell_type": "markdown",
   "id": "397af7ca",
   "metadata": {},
   "source": [
    "## le nombre théorique de personnes qui pourraient être nourries"
   ]
  },
  {
   "cell_type": "code",
   "execution_count": 47,
   "id": "4197e1df",
   "metadata": {},
   "outputs": [],
   "source": [
    "# le nombre théorique de personnes qui pourraient être nourries. Tu devrais pouvoir calculer ça à partir\n",
    "# de la disponibilité alimentaire mondiale"
   ]
  },
  {
   "cell_type": "code",
   "execution_count": 48,
   "id": "ee4668eb",
   "metadata": {},
   "outputs": [
    {
     "data": {
      "text/html": [
       "<div>\n",
       "<style scoped>\n",
       "    .dataframe tbody tr th:only-of-type {\n",
       "        vertical-align: middle;\n",
       "    }\n",
       "\n",
       "    .dataframe tbody tr th {\n",
       "        vertical-align: top;\n",
       "    }\n",
       "\n",
       "    .dataframe thead th {\n",
       "        text-align: right;\n",
       "    }\n",
       "</style>\n",
       "<table border=\"1\" class=\"dataframe\">\n",
       "  <thead>\n",
       "    <tr style=\"text-align: right;\">\n",
       "      <th></th>\n",
       "      <th>Zone</th>\n",
       "      <th>Année</th>\n",
       "      <th>Produit</th>\n",
       "      <th>Quantité (en tonne)</th>\n",
       "    </tr>\n",
       "  </thead>\n",
       "  <tbody>\n",
       "    <tr>\n",
       "      <th>0</th>\n",
       "      <td>Afghanistan</td>\n",
       "      <td>2013</td>\n",
       "      <td>Autres non-céréales</td>\n",
       "      <td>682</td>\n",
       "    </tr>\n",
       "    <tr>\n",
       "      <th>1</th>\n",
       "      <td>Afghanistan</td>\n",
       "      <td>2014</td>\n",
       "      <td>Autres non-céréales</td>\n",
       "      <td>335</td>\n",
       "    </tr>\n",
       "    <tr>\n",
       "      <th>2</th>\n",
       "      <td>Afghanistan</td>\n",
       "      <td>2013</td>\n",
       "      <td>Blé et Farin</td>\n",
       "      <td>39224</td>\n",
       "    </tr>\n",
       "    <tr>\n",
       "      <th>3</th>\n",
       "      <td>Afghanistan</td>\n",
       "      <td>2014</td>\n",
       "      <td>Blé et Farin</td>\n",
       "      <td>15160</td>\n",
       "    </tr>\n",
       "    <tr>\n",
       "      <th>4</th>\n",
       "      <td>Afghanistan</td>\n",
       "      <td>2013</td>\n",
       "      <td>Céréales</td>\n",
       "      <td>40504</td>\n",
       "    </tr>\n",
       "    <tr>\n",
       "      <th>...</th>\n",
       "      <td>...</td>\n",
       "      <td>...</td>\n",
       "      <td>...</td>\n",
       "      <td>...</td>\n",
       "    </tr>\n",
       "    <tr>\n",
       "      <th>1470</th>\n",
       "      <td>Zimbabwe</td>\n",
       "      <td>2015</td>\n",
       "      <td>Mélanges et préparations</td>\n",
       "      <td>96</td>\n",
       "    </tr>\n",
       "    <tr>\n",
       "      <th>1471</th>\n",
       "      <td>Zimbabwe</td>\n",
       "      <td>2013</td>\n",
       "      <td>Non-céréales</td>\n",
       "      <td>5022</td>\n",
       "    </tr>\n",
       "    <tr>\n",
       "      <th>1472</th>\n",
       "      <td>Zimbabwe</td>\n",
       "      <td>2014</td>\n",
       "      <td>Non-céréales</td>\n",
       "      <td>2310</td>\n",
       "    </tr>\n",
       "    <tr>\n",
       "      <th>1473</th>\n",
       "      <td>Zimbabwe</td>\n",
       "      <td>2015</td>\n",
       "      <td>Non-céréales</td>\n",
       "      <td>306</td>\n",
       "    </tr>\n",
       "    <tr>\n",
       "      <th>1474</th>\n",
       "      <td>Zimbabwe</td>\n",
       "      <td>2013</td>\n",
       "      <td>Riz, total</td>\n",
       "      <td>64</td>\n",
       "    </tr>\n",
       "  </tbody>\n",
       "</table>\n",
       "<p>1475 rows × 4 columns</p>\n",
       "</div>"
      ],
      "text/plain": [
       "             Zone  Année                   Produit  Quantité (en tonne)\n",
       "0     Afghanistan   2013       Autres non-céréales                  682\n",
       "1     Afghanistan   2014       Autres non-céréales                  335\n",
       "2     Afghanistan   2013              Blé et Farin                39224\n",
       "3     Afghanistan   2014              Blé et Farin                15160\n",
       "4     Afghanistan   2013                  Céréales                40504\n",
       "...           ...    ...                       ...                  ...\n",
       "1470     Zimbabwe   2015  Mélanges et préparations                   96\n",
       "1471     Zimbabwe   2013              Non-céréales                 5022\n",
       "1472     Zimbabwe   2014              Non-céréales                 2310\n",
       "1473     Zimbabwe   2015              Non-céréales                  306\n",
       "1474     Zimbabwe   2013                Riz, total                   64\n",
       "\n",
       "[1475 rows x 4 columns]"
      ]
     },
     "execution_count": 48,
     "metadata": {},
     "output_type": "execute_result"
    }
   ],
   "source": [
    "aide_alimentaire"
   ]
  },
  {
   "cell_type": "code",
   "execution_count": 49,
   "id": "1254a1a2",
   "metadata": {},
   "outputs": [
    {
     "data": {
      "text/plain": [
       "array([2013, 2014, 2015, 2016])"
      ]
     },
     "execution_count": 49,
     "metadata": {},
     "output_type": "execute_result"
    }
   ],
   "source": [
    "aide_alimentaire[\"Année\"].unique()"
   ]
  },
  {
   "cell_type": "code",
   "execution_count": 50,
   "id": "c69ca187",
   "metadata": {},
   "outputs": [
    {
     "data": {
      "text/html": [
       "<div>\n",
       "<style scoped>\n",
       "    .dataframe tbody tr th:only-of-type {\n",
       "        vertical-align: middle;\n",
       "    }\n",
       "\n",
       "    .dataframe tbody tr th {\n",
       "        vertical-align: top;\n",
       "    }\n",
       "\n",
       "    .dataframe thead th {\n",
       "        text-align: right;\n",
       "    }\n",
       "</style>\n",
       "<table border=\"1\" class=\"dataframe\">\n",
       "  <thead>\n",
       "    <tr style=\"text-align: right;\">\n",
       "      <th></th>\n",
       "      <th>Zone</th>\n",
       "      <th>Année</th>\n",
       "      <th>Produit</th>\n",
       "      <th>Quantité (en tonne)</th>\n",
       "    </tr>\n",
       "  </thead>\n",
       "  <tbody>\n",
       "  </tbody>\n",
       "</table>\n",
       "</div>"
      ],
      "text/plain": [
       "Empty DataFrame\n",
       "Columns: [Zone, Année, Produit, Quantité (en tonne)]\n",
       "Index: []"
      ]
     },
     "execution_count": 50,
     "metadata": {},
     "output_type": "execute_result"
    }
   ],
   "source": [
    "aide_alimentaire_2017 = aide_alimentaire.loc[aide_alimentaire[\"Année\"] == 2017]\n",
    "aide_alimentaire_2017"
   ]
  },
  {
   "cell_type": "code",
   "execution_count": 51,
   "id": "bd9c7475",
   "metadata": {},
   "outputs": [
    {
     "data": {
      "text/html": [
       "<div>\n",
       "<style scoped>\n",
       "    .dataframe tbody tr th:only-of-type {\n",
       "        vertical-align: middle;\n",
       "    }\n",
       "\n",
       "    .dataframe tbody tr th {\n",
       "        vertical-align: top;\n",
       "    }\n",
       "\n",
       "    .dataframe thead th {\n",
       "        text-align: right;\n",
       "    }\n",
       "</style>\n",
       "<table border=\"1\" class=\"dataframe\">\n",
       "  <thead>\n",
       "    <tr style=\"text-align: right;\">\n",
       "      <th></th>\n",
       "      <th>Zone</th>\n",
       "      <th>Quantité (en tonne)</th>\n",
       "      <th>Personnes_nourries</th>\n",
       "    </tr>\n",
       "  </thead>\n",
       "  <tbody>\n",
       "    <tr>\n",
       "      <th>0</th>\n",
       "      <td>Afghanistan</td>\n",
       "      <td>185452</td>\n",
       "      <td>370.904</td>\n",
       "    </tr>\n",
       "    <tr>\n",
       "      <th>1</th>\n",
       "      <td>Algérie</td>\n",
       "      <td>81114</td>\n",
       "      <td>162.228</td>\n",
       "    </tr>\n",
       "    <tr>\n",
       "      <th>2</th>\n",
       "      <td>Angola</td>\n",
       "      <td>5014</td>\n",
       "      <td>10.028</td>\n",
       "    </tr>\n",
       "    <tr>\n",
       "      <th>3</th>\n",
       "      <td>Bangladesh</td>\n",
       "      <td>348188</td>\n",
       "      <td>696.376</td>\n",
       "    </tr>\n",
       "    <tr>\n",
       "      <th>4</th>\n",
       "      <td>Bhoutan</td>\n",
       "      <td>2666</td>\n",
       "      <td>5.332</td>\n",
       "    </tr>\n",
       "    <tr>\n",
       "      <th>...</th>\n",
       "      <td>...</td>\n",
       "      <td>...</td>\n",
       "      <td>...</td>\n",
       "    </tr>\n",
       "    <tr>\n",
       "      <th>71</th>\n",
       "      <td>Zambie</td>\n",
       "      <td>3026</td>\n",
       "      <td>6.052</td>\n",
       "    </tr>\n",
       "    <tr>\n",
       "      <th>72</th>\n",
       "      <td>Zimbabwe</td>\n",
       "      <td>62570</td>\n",
       "      <td>125.140</td>\n",
       "    </tr>\n",
       "    <tr>\n",
       "      <th>73</th>\n",
       "      <td>Égypte</td>\n",
       "      <td>1122</td>\n",
       "      <td>2.244</td>\n",
       "    </tr>\n",
       "    <tr>\n",
       "      <th>74</th>\n",
       "      <td>Équateur</td>\n",
       "      <td>1362</td>\n",
       "      <td>2.724</td>\n",
       "    </tr>\n",
       "    <tr>\n",
       "      <th>75</th>\n",
       "      <td>Éthiopie</td>\n",
       "      <td>1381294</td>\n",
       "      <td>2762.588</td>\n",
       "    </tr>\n",
       "  </tbody>\n",
       "</table>\n",
       "<p>76 rows × 3 columns</p>\n",
       "</div>"
      ],
      "text/plain": [
       "           Zone  Quantité (en tonne)  Personnes_nourries\n",
       "0   Afghanistan               185452             370.904\n",
       "1       Algérie                81114             162.228\n",
       "2        Angola                 5014              10.028\n",
       "3    Bangladesh               348188             696.376\n",
       "4       Bhoutan                 2666               5.332\n",
       "..          ...                  ...                 ...\n",
       "71       Zambie                 3026               6.052\n",
       "72     Zimbabwe                62570             125.140\n",
       "73       Égypte                 1122               2.244\n",
       "74     Équateur                 1362               2.724\n",
       "75     Éthiopie              1381294            2762.588\n",
       "\n",
       "[76 rows x 3 columns]"
      ]
     },
     "execution_count": 51,
     "metadata": {},
     "output_type": "execute_result"
    }
   ],
   "source": [
    "gb_aide_alimentaire = aide_alimentaire.groupby(by = \"Zone\")[\"Quantité (en tonne)\"].sum().reset_index()\n",
    "gb_aide_alimentaire[\"Personnes_nourries\"] = (gb_aide_alimentaire[\"Quantité (en tonne)\"] * 2000) / 1E6\n",
    "\n",
    "gb_aide_alimentaire"
   ]
  },
  {
   "cell_type": "code",
   "execution_count": 52,
   "id": "dcabef87",
   "metadata": {},
   "outputs": [
    {
     "name": "stdout",
     "output_type": "stream",
     "text": [
      "Cette quantité de nourriture permettrai de nourrir 22071.802 de personne pendant 1 mois, soit 525.7719665172298 % de la population\n"
     ]
    }
   ],
   "source": [
    "total_nourris = (gb_aide_alimentaire[\"Quantité (en tonne)\"].sum() * 2000) / 1E6\n",
    "ratio_total_nourris = (total_nourris / gb_sous_alimentation[\"nb__population (million)\"].sum()) * 100\n",
    "\n",
    "print(f\"Cette quantité de nourriture permettrai de nourrir {total_nourris} de personne pendant 1 mois, soit {ratio_total_nourris} % de la population\")"
   ]
  },
  {
   "cell_type": "markdown",
   "id": "8e8ab162",
   "metadata": {},
   "source": [
    "## Le nombre théorique de personne qui pourraient être nourrit avec des produits végétaux "
   ]
  },
  {
   "cell_type": "code",
   "execution_count": 53,
   "id": "d26b2da2",
   "metadata": {},
   "outputs": [
    {
     "data": {
      "text/html": [
       "<div>\n",
       "<style scoped>\n",
       "    .dataframe tbody tr th:only-of-type {\n",
       "        vertical-align: middle;\n",
       "    }\n",
       "\n",
       "    .dataframe tbody tr th {\n",
       "        vertical-align: top;\n",
       "    }\n",
       "\n",
       "    .dataframe thead th {\n",
       "        text-align: right;\n",
       "    }\n",
       "</style>\n",
       "<table border=\"1\" class=\"dataframe\">\n",
       "  <thead>\n",
       "    <tr style=\"text-align: right;\">\n",
       "      <th></th>\n",
       "      <th>Zone</th>\n",
       "      <th>Produit</th>\n",
       "      <th>Origine</th>\n",
       "      <th>Aliments pour animaux</th>\n",
       "      <th>Autres Utilisations</th>\n",
       "      <th>Disponibilité alimentaire (Kcal/personne/jour)</th>\n",
       "      <th>Disponibilité alimentaire en quantité (kg/personne/an)</th>\n",
       "      <th>Disponibilité de matière grasse en quantité (g/personne/jour)</th>\n",
       "      <th>Disponibilité de protéines en quantité (g/personne/jour)</th>\n",
       "      <th>Disponibilité intérieure</th>\n",
       "      <th>Exportations - Quantité</th>\n",
       "      <th>Importations - Quantité</th>\n",
       "      <th>Nourriture</th>\n",
       "      <th>Pertes</th>\n",
       "      <th>Production</th>\n",
       "      <th>Semences</th>\n",
       "      <th>Traitement</th>\n",
       "      <th>Variation de stock</th>\n",
       "    </tr>\n",
       "  </thead>\n",
       "  <tbody>\n",
       "    <tr>\n",
       "      <th>0</th>\n",
       "      <td>Afghanistan</td>\n",
       "      <td>Abats Comestible</td>\n",
       "      <td>animale</td>\n",
       "      <td>NaN</td>\n",
       "      <td>NaN</td>\n",
       "      <td>5.0</td>\n",
       "      <td>1.72</td>\n",
       "      <td>0.20</td>\n",
       "      <td>0.77</td>\n",
       "      <td>53.0</td>\n",
       "      <td>NaN</td>\n",
       "      <td>NaN</td>\n",
       "      <td>53.0</td>\n",
       "      <td>NaN</td>\n",
       "      <td>53.0</td>\n",
       "      <td>NaN</td>\n",
       "      <td>NaN</td>\n",
       "      <td>NaN</td>\n",
       "    </tr>\n",
       "    <tr>\n",
       "      <th>1</th>\n",
       "      <td>Afghanistan</td>\n",
       "      <td>Agrumes, Autres</td>\n",
       "      <td>vegetale</td>\n",
       "      <td>NaN</td>\n",
       "      <td>NaN</td>\n",
       "      <td>1.0</td>\n",
       "      <td>1.29</td>\n",
       "      <td>0.01</td>\n",
       "      <td>0.02</td>\n",
       "      <td>41.0</td>\n",
       "      <td>2.0</td>\n",
       "      <td>40.0</td>\n",
       "      <td>39.0</td>\n",
       "      <td>2.0</td>\n",
       "      <td>3.0</td>\n",
       "      <td>NaN</td>\n",
       "      <td>NaN</td>\n",
       "      <td>NaN</td>\n",
       "    </tr>\n",
       "  </tbody>\n",
       "</table>\n",
       "</div>"
      ],
      "text/plain": [
       "          Zone           Produit   Origine  Aliments pour animaux  \\\n",
       "0  Afghanistan  Abats Comestible   animale                    NaN   \n",
       "1  Afghanistan   Agrumes, Autres  vegetale                    NaN   \n",
       "\n",
       "   Autres Utilisations  Disponibilité alimentaire (Kcal/personne/jour)  \\\n",
       "0                  NaN                                             5.0   \n",
       "1                  NaN                                             1.0   \n",
       "\n",
       "   Disponibilité alimentaire en quantité (kg/personne/an)  \\\n",
       "0                                               1.72        \n",
       "1                                               1.29        \n",
       "\n",
       "   Disponibilité de matière grasse en quantité (g/personne/jour)  \\\n",
       "0                                               0.20               \n",
       "1                                               0.01               \n",
       "\n",
       "   Disponibilité de protéines en quantité (g/personne/jour)  \\\n",
       "0                                               0.77          \n",
       "1                                               0.02          \n",
       "\n",
       "   Disponibilité intérieure  Exportations - Quantité  Importations - Quantité  \\\n",
       "0                      53.0                      NaN                      NaN   \n",
       "1                      41.0                      2.0                     40.0   \n",
       "\n",
       "   Nourriture  Pertes  Production  Semences  Traitement  Variation de stock  \n",
       "0        53.0     NaN        53.0       NaN         NaN                 NaN  \n",
       "1        39.0     2.0         3.0       NaN         NaN                 NaN  "
      ]
     },
     "execution_count": 53,
     "metadata": {},
     "output_type": "execute_result"
    }
   ],
   "source": [
    "dispo_alimentaire.head(2)"
   ]
  },
  {
   "cell_type": "code",
   "execution_count": 54,
   "id": "124b0560",
   "metadata": {},
   "outputs": [
    {
     "data": {
      "text/plain": [
       "vegetale    11896\n",
       "animale      3709\n",
       "Name: Origine, dtype: int64"
      ]
     },
     "execution_count": 54,
     "metadata": {},
     "output_type": "execute_result"
    }
   ],
   "source": [
    "dispo_alimentaire[\"Origine\"].value_counts()"
   ]
  },
  {
   "cell_type": "code",
   "execution_count": 55,
   "id": "594fa481",
   "metadata": {},
   "outputs": [
    {
     "data": {
      "text/html": [
       "<div>\n",
       "<style scoped>\n",
       "    .dataframe tbody tr th:only-of-type {\n",
       "        vertical-align: middle;\n",
       "    }\n",
       "\n",
       "    .dataframe tbody tr th {\n",
       "        vertical-align: top;\n",
       "    }\n",
       "\n",
       "    .dataframe thead th {\n",
       "        text-align: right;\n",
       "    }\n",
       "</style>\n",
       "<table border=\"1\" class=\"dataframe\">\n",
       "  <thead>\n",
       "    <tr style=\"text-align: right;\">\n",
       "      <th></th>\n",
       "      <th>Zone</th>\n",
       "      <th>Origine</th>\n",
       "    </tr>\n",
       "  </thead>\n",
       "  <tbody>\n",
       "    <tr>\n",
       "      <th>1</th>\n",
       "      <td>Afghanistan</td>\n",
       "      <td>vegetale</td>\n",
       "    </tr>\n",
       "    <tr>\n",
       "      <th>2</th>\n",
       "      <td>Afghanistan</td>\n",
       "      <td>vegetale</td>\n",
       "    </tr>\n",
       "    <tr>\n",
       "      <th>3</th>\n",
       "      <td>Afghanistan</td>\n",
       "      <td>vegetale</td>\n",
       "    </tr>\n",
       "    <tr>\n",
       "      <th>4</th>\n",
       "      <td>Afghanistan</td>\n",
       "      <td>vegetale</td>\n",
       "    </tr>\n",
       "    <tr>\n",
       "      <th>6</th>\n",
       "      <td>Afghanistan</td>\n",
       "      <td>vegetale</td>\n",
       "    </tr>\n",
       "  </tbody>\n",
       "</table>\n",
       "</div>"
      ],
      "text/plain": [
       "          Zone   Origine\n",
       "1  Afghanistan  vegetale\n",
       "2  Afghanistan  vegetale\n",
       "3  Afghanistan  vegetale\n",
       "4  Afghanistan  vegetale\n",
       "6  Afghanistan  vegetale"
      ]
     },
     "execution_count": 55,
     "metadata": {},
     "output_type": "execute_result"
    }
   ],
   "source": [
    "dispo_végétale = dispo_alimentaire.loc[dispo_alimentaire[\"Origine\"] == \"vegetale\"]\n",
    "dispo_végétale_1 = dispo_végétale[[\"Zone\", \"Origine\"]]\n",
    "dispo_végétale_1.head()"
   ]
  },
  {
   "cell_type": "code",
   "execution_count": 56,
   "id": "63c44dfe",
   "metadata": {},
   "outputs": [
    {
     "data": {
      "text/plain": [
       "(86364, 5)"
      ]
     },
     "execution_count": 56,
     "metadata": {},
     "output_type": "execute_result"
    }
   ],
   "source": [
    "végétale = aide_alimentaire.merge(dispo_végétale_1, on = \"Zone\", how = \"left\")\n",
    "végétale.shape"
   ]
  },
  {
   "cell_type": "code",
   "execution_count": 57,
   "id": "b4eec4af",
   "metadata": {},
   "outputs": [
    {
     "data": {
      "text/plain": [
       "Zone                     0\n",
       "Année                    0\n",
       "Produit                  0\n",
       "Quantité (en tonne)      0\n",
       "Origine                187\n",
       "dtype: int64"
      ]
     },
     "execution_count": 57,
     "metadata": {},
     "output_type": "execute_result"
    }
   ],
   "source": [
    "végétale.isnull().sum()"
   ]
  },
  {
   "cell_type": "code",
   "execution_count": 58,
   "id": "1059c7c4",
   "metadata": {},
   "outputs": [
    {
     "data": {
      "text/plain": [
       "84889"
      ]
     },
     "execution_count": 58,
     "metadata": {},
     "output_type": "execute_result"
    }
   ],
   "source": [
    "végétale.duplicated().sum()"
   ]
  },
  {
   "cell_type": "code",
   "execution_count": 59,
   "id": "25606e01",
   "metadata": {},
   "outputs": [
    {
     "data": {
      "text/html": [
       "<div>\n",
       "<style scoped>\n",
       "    .dataframe tbody tr th:only-of-type {\n",
       "        vertical-align: middle;\n",
       "    }\n",
       "\n",
       "    .dataframe tbody tr th {\n",
       "        vertical-align: top;\n",
       "    }\n",
       "\n",
       "    .dataframe thead th {\n",
       "        text-align: right;\n",
       "    }\n",
       "</style>\n",
       "<table border=\"1\" class=\"dataframe\">\n",
       "  <thead>\n",
       "    <tr style=\"text-align: right;\">\n",
       "      <th></th>\n",
       "      <th>Zone</th>\n",
       "      <th>Année</th>\n",
       "      <th>Produit</th>\n",
       "      <th>Quantité (en tonne)</th>\n",
       "      <th>Origine</th>\n",
       "    </tr>\n",
       "  </thead>\n",
       "  <tbody>\n",
       "    <tr>\n",
       "      <th>0</th>\n",
       "      <td>Afghanistan</td>\n",
       "      <td>2013</td>\n",
       "      <td>Autres non-céréales</td>\n",
       "      <td>682</td>\n",
       "      <td>vegetale</td>\n",
       "    </tr>\n",
       "    <tr>\n",
       "      <th>49</th>\n",
       "      <td>Afghanistan</td>\n",
       "      <td>2014</td>\n",
       "      <td>Autres non-céréales</td>\n",
       "      <td>335</td>\n",
       "      <td>vegetale</td>\n",
       "    </tr>\n",
       "    <tr>\n",
       "      <th>98</th>\n",
       "      <td>Afghanistan</td>\n",
       "      <td>2013</td>\n",
       "      <td>Blé et Farin</td>\n",
       "      <td>39224</td>\n",
       "      <td>vegetale</td>\n",
       "    </tr>\n",
       "    <tr>\n",
       "      <th>147</th>\n",
       "      <td>Afghanistan</td>\n",
       "      <td>2014</td>\n",
       "      <td>Blé et Farin</td>\n",
       "      <td>15160</td>\n",
       "      <td>vegetale</td>\n",
       "    </tr>\n",
       "    <tr>\n",
       "      <th>196</th>\n",
       "      <td>Afghanistan</td>\n",
       "      <td>2013</td>\n",
       "      <td>Céréales</td>\n",
       "      <td>40504</td>\n",
       "      <td>vegetale</td>\n",
       "    </tr>\n",
       "  </tbody>\n",
       "</table>\n",
       "</div>"
      ],
      "text/plain": [
       "            Zone  Année              Produit  Quantité (en tonne)   Origine\n",
       "0    Afghanistan   2013  Autres non-céréales                  682  vegetale\n",
       "49   Afghanistan   2014  Autres non-céréales                  335  vegetale\n",
       "98   Afghanistan   2013         Blé et Farin                39224  vegetale\n",
       "147  Afghanistan   2014         Blé et Farin                15160  vegetale\n",
       "196  Afghanistan   2013             Céréales                40504  vegetale"
      ]
     },
     "execution_count": 59,
     "metadata": {},
     "output_type": "execute_result"
    }
   ],
   "source": [
    "végétale_1 = végétale.drop_duplicates()\n",
    "végétale_1.head()"
   ]
  },
  {
   "cell_type": "code",
   "execution_count": 79,
   "id": "e57a9ae5",
   "metadata": {},
   "outputs": [
    {
     "data": {
      "text/plain": [
       "array([2013, 2014, 2015, 2016])"
      ]
     },
     "execution_count": 79,
     "metadata": {},
     "output_type": "execute_result"
    }
   ],
   "source": [
    "végétale_1[\"Année\"].unique()"
   ]
  },
  {
   "cell_type": "code",
   "execution_count": 60,
   "id": "ef09967e",
   "metadata": {},
   "outputs": [
    {
     "data": {
      "text/plain": [
       "Zone                   0\n",
       "Année                  0\n",
       "Produit                0\n",
       "Quantité (en tonne)    0\n",
       "Origine                0\n",
       "dtype: int64"
      ]
     },
     "execution_count": 60,
     "metadata": {},
     "output_type": "execute_result"
    }
   ],
   "source": [
    "végétale_no_NaN = végétale_1.dropna()\n",
    "végétale_no_NaN.isnull().sum()"
   ]
  },
  {
   "cell_type": "code",
   "execution_count": 61,
   "id": "15a3bda8",
   "metadata": {},
   "outputs": [
    {
     "data": {
      "text/plain": [
       "array(['Autres non-céréales', 'Blé et Farin', 'Céréales',\n",
       "       'Fruits secs, total', 'Huiles végétales',\n",
       "       'Légumineuses Sèches,Tot.', 'Non-céréales', 'Riz, total',\n",
       "       'Sucre, total', 'Céréales Secondaires', 'Lait, total',\n",
       "       'Mélanges et préparations', 'Poiss&produi', 'BulgurFarEnt',\n",
       "       'Viande Total'], dtype=object)"
      ]
     },
     "execution_count": 61,
     "metadata": {},
     "output_type": "execute_result"
    }
   ],
   "source": [
    "végétale_no_NaN[\"Produit\"].unique()"
   ]
  },
  {
   "cell_type": "code",
   "execution_count": 62,
   "id": "51b4f6c3",
   "metadata": {},
   "outputs": [
    {
     "data": {
      "text/html": [
       "<div>\n",
       "<style scoped>\n",
       "    .dataframe tbody tr th:only-of-type {\n",
       "        vertical-align: middle;\n",
       "    }\n",
       "\n",
       "    .dataframe tbody tr th {\n",
       "        vertical-align: top;\n",
       "    }\n",
       "\n",
       "    .dataframe thead th {\n",
       "        text-align: right;\n",
       "    }\n",
       "</style>\n",
       "<table border=\"1\" class=\"dataframe\">\n",
       "  <thead>\n",
       "    <tr style=\"text-align: right;\">\n",
       "      <th></th>\n",
       "      <th>Zone</th>\n",
       "      <th>Quantité (en tonne)</th>\n",
       "    </tr>\n",
       "  </thead>\n",
       "  <tbody>\n",
       "    <tr>\n",
       "      <th>0</th>\n",
       "      <td>Afghanistan</td>\n",
       "      <td>185452</td>\n",
       "    </tr>\n",
       "    <tr>\n",
       "      <th>1</th>\n",
       "      <td>Algérie</td>\n",
       "      <td>81114</td>\n",
       "    </tr>\n",
       "    <tr>\n",
       "      <th>2</th>\n",
       "      <td>Angola</td>\n",
       "      <td>5014</td>\n",
       "    </tr>\n",
       "    <tr>\n",
       "      <th>3</th>\n",
       "      <td>Bangladesh</td>\n",
       "      <td>348188</td>\n",
       "    </tr>\n",
       "    <tr>\n",
       "      <th>4</th>\n",
       "      <td>Bolivie (État plurinational de)</td>\n",
       "      <td>6</td>\n",
       "    </tr>\n",
       "    <tr>\n",
       "      <th>...</th>\n",
       "      <td>...</td>\n",
       "      <td>...</td>\n",
       "    </tr>\n",
       "    <tr>\n",
       "      <th>61</th>\n",
       "      <td>Zambie</td>\n",
       "      <td>3026</td>\n",
       "    </tr>\n",
       "    <tr>\n",
       "      <th>62</th>\n",
       "      <td>Zimbabwe</td>\n",
       "      <td>62570</td>\n",
       "    </tr>\n",
       "    <tr>\n",
       "      <th>63</th>\n",
       "      <td>Égypte</td>\n",
       "      <td>1122</td>\n",
       "    </tr>\n",
       "    <tr>\n",
       "      <th>64</th>\n",
       "      <td>Équateur</td>\n",
       "      <td>1362</td>\n",
       "    </tr>\n",
       "    <tr>\n",
       "      <th>65</th>\n",
       "      <td>Éthiopie</td>\n",
       "      <td>1381294</td>\n",
       "    </tr>\n",
       "  </tbody>\n",
       "</table>\n",
       "<p>66 rows × 2 columns</p>\n",
       "</div>"
      ],
      "text/plain": [
       "                               Zone  Quantité (en tonne)\n",
       "0                       Afghanistan               185452\n",
       "1                           Algérie                81114\n",
       "2                            Angola                 5014\n",
       "3                        Bangladesh               348188\n",
       "4   Bolivie (État plurinational de)                    6\n",
       "..                              ...                  ...\n",
       "61                           Zambie                 3026\n",
       "62                         Zimbabwe                62570\n",
       "63                           Égypte                 1122\n",
       "64                         Équateur                 1362\n",
       "65                         Éthiopie              1381294\n",
       "\n",
       "[66 rows x 2 columns]"
      ]
     },
     "execution_count": 62,
     "metadata": {},
     "output_type": "execute_result"
    }
   ],
   "source": [
    "gb_végétale = végétale_no_NaN.groupby(by = \"Zone\")[\"Quantité (en tonne)\"].sum().reset_index()\n",
    "gb_végétale"
   ]
  },
  {
   "cell_type": "code",
   "execution_count": 63,
   "id": "bc15f430",
   "metadata": {},
   "outputs": [
    {
     "name": "stdout",
     "output_type": "stream",
     "text": [
      "Cette quantité de nourriture permettrai de nourrir 15236.48 de personne pendant 1 mois, soit 362.9478939871081 % de la population\n"
     ]
    }
   ],
   "source": [
    "total_nourris_végé = (gb_végétale[\"Quantité (en tonne)\"].sum() * 2000) / 1E6\n",
    "ratio_nourris_végé = (total_nourris_végé / gb_sous_alimentation[\"nb__population (million)\"].sum()) * 100\n",
    "\n",
    "print(f\"Cette quantité de nourriture permettrai de nourrir {total_nourris_végé} de personne pendant 1 mois, soit {ratio_nourris_végé} % de la population\")"
   ]
  },
  {
   "cell_type": "markdown",
   "id": "15f33e02",
   "metadata": {},
   "source": [
    "## Ceux ayant le plus/le moins de disponibilité/habitant"
   ]
  },
  {
   "cell_type": "code",
   "execution_count": null,
   "id": "0103e0f1",
   "metadata": {},
   "outputs": [],
   "source": []
  },
  {
   "cell_type": "markdown",
   "id": "cc5d76ee",
   "metadata": {},
   "source": [
    "## Partie 2"
   ]
  },
  {
   "cell_type": "code",
   "execution_count": null,
   "id": "bab6f2d0",
   "metadata": {},
   "outputs": [],
   "source": []
  }
 ],
 "metadata": {
  "kernelspec": {
   "display_name": "Python 3 (ipykernel)",
   "language": "python",
   "name": "python3"
  },
  "language_info": {
   "codemirror_mode": {
    "name": "ipython",
    "version": 3
   },
   "file_extension": ".py",
   "mimetype": "text/x-python",
   "name": "python",
   "nbconvert_exporter": "python",
   "pygments_lexer": "ipython3",
   "version": "3.8.12"
  },
  "toc": {
   "base_numbering": 1,
   "nav_menu": {},
   "number_sections": true,
   "sideBar": true,
   "skip_h1_title": false,
   "title_cell": "Table of Contents",
   "title_sidebar": "Contents",
   "toc_cell": false,
   "toc_position": {},
   "toc_section_display": true,
   "toc_window_display": false
  }
 },
 "nbformat": 4,
 "nbformat_minor": 5
}
