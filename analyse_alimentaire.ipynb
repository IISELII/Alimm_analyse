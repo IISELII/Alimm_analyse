{
 "cells": [
  {
   "cell_type": "markdown",
   "id": "2460c792",
   "metadata": {},
   "source": [
    "# Imports "
   ]
  },
  {
   "cell_type": "markdown",
   "id": "4cec4f6f",
   "metadata": {},
   "source": [
    "## Import des librairies"
   ]
  },
  {
   "cell_type": "code",
   "execution_count": 1,
   "id": "8e30d513",
   "metadata": {},
   "outputs": [],
   "source": [
    "import pandas as pd \n",
    "import numpy as np \n",
    "import seaborn as sns \n",
    "import matplotlib.pyplot as plt"
   ]
  },
  {
   "cell_type": "markdown",
   "id": "f19b3ac7",
   "metadata": {},
   "source": [
    "## Import des données "
   ]
  },
  {
   "cell_type": "code",
   "execution_count": 5,
   "id": "c46885ad",
   "metadata": {
    "scrolled": true
   },
   "outputs": [],
   "source": [
    "dispo_alimentaire = pd.read_csv('data/dispo_alimentaire.csv')"
   ]
  },
  {
   "cell_type": "code",
   "execution_count": 6,
   "id": "b8e35ec7",
   "metadata": {},
   "outputs": [],
   "source": [
    "aide_alimentaire = pd.read_csv('data/aide_alimentaire.csv')"
   ]
  },
  {
   "cell_type": "code",
   "execution_count": 7,
   "id": "a7b2b6df",
   "metadata": {},
   "outputs": [],
   "source": [
    "population = pd.read_csv('data/population.csv')"
   ]
  },
  {
   "cell_type": "code",
   "execution_count": 8,
   "id": "9717d6c4",
   "metadata": {},
   "outputs": [],
   "source": [
    "sous_nutrition = pd.read_csv('data/sous_nutrition.csv')"
   ]
  },
  {
   "cell_type": "markdown",
   "id": "1b0a5fe6",
   "metadata": {},
   "source": [
    "# EDA"
   ]
  },
  {
   "cell_type": "code",
   "execution_count": null,
   "id": "ce15ed44",
   "metadata": {},
   "outputs": [],
   "source": []
  }
 ],
 "metadata": {
  "kernelspec": {
   "display_name": "Python 3 (ipykernel)",
   "language": "python",
   "name": "python3"
  },
  "language_info": {
   "codemirror_mode": {
    "name": "ipython",
    "version": 3
   },
   "file_extension": ".py",
   "mimetype": "text/x-python",
   "name": "python",
   "nbconvert_exporter": "python",
   "pygments_lexer": "ipython3",
   "version": "3.8.12"
  },
  "toc": {
   "base_numbering": 1,
   "nav_menu": {},
   "number_sections": true,
   "sideBar": true,
   "skip_h1_title": false,
   "title_cell": "Table of Contents",
   "title_sidebar": "Contents",
   "toc_cell": false,
   "toc_position": {},
   "toc_section_display": true,
   "toc_window_display": false
  }
 },
 "nbformat": 4,
 "nbformat_minor": 5
}
