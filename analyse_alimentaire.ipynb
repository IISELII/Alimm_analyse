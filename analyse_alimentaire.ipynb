{
 "cells": [
  {
   "cell_type": "markdown",
   "id": "0fbe96b4",
   "metadata": {},
   "source": [
    "# Context"
   ]
  },
  {
   "cell_type": "markdown",
   "id": "7725036c",
   "metadata": {},
   "source": [
    "Vous devez fournir des analyses concernant la répartition de l'alimentation, la sous-nutrition mais également en comprendre les causes."
   ]
  },
  {
   "cell_type": "markdown",
   "id": "2460c792",
   "metadata": {},
   "source": [
    "# Imports "
   ]
  },
  {
   "cell_type": "markdown",
   "id": "4cec4f6f",
   "metadata": {},
   "source": [
    "## Import des librairies"
   ]
  },
  {
   "cell_type": "code",
   "execution_count": 616,
   "id": "8e30d513",
   "metadata": {},
   "outputs": [],
   "source": [
    "import pandas as pd \n",
    "import numpy as np \n",
    "import seaborn as sns \n",
    "import matplotlib.pyplot as plt"
   ]
  },
  {
   "cell_type": "markdown",
   "id": "f19b3ac7",
   "metadata": {},
   "source": [
    "## Import des données "
   ]
  },
  {
   "cell_type": "code",
   "execution_count": 617,
   "id": "c46885ad",
   "metadata": {
    "scrolled": true
   },
   "outputs": [],
   "source": [
    "dispo_alimentaire = pd.read_csv('data/dispo_alimentaire.csv')"
   ]
  },
  {
   "cell_type": "code",
   "execution_count": 618,
   "id": "b8e35ec7",
   "metadata": {},
   "outputs": [],
   "source": [
    "aide_alimentaire = pd.read_csv('data/aide_alimentaire.csv')"
   ]
  },
  {
   "cell_type": "code",
   "execution_count": 619,
   "id": "a7b2b6df",
   "metadata": {},
   "outputs": [],
   "source": [
    "population = pd.read_csv('data/population.csv')"
   ]
  },
  {
   "cell_type": "code",
   "execution_count": 620,
   "id": "9717d6c4",
   "metadata": {},
   "outputs": [],
   "source": [
    "sous_nutrition = pd.read_csv('data/sous_nutrition.csv')"
   ]
  },
  {
   "cell_type": "markdown",
   "id": "f7fe2ae6",
   "metadata": {},
   "source": [
    "## change columns/values"
   ]
  },
  {
   "cell_type": "code",
   "execution_count": 621,
   "id": "b6c482d1",
   "metadata": {},
   "outputs": [],
   "source": [
    "aide_alimentaire = aide_alimentaire.rename(columns = {'Pays bénéficiaire': 'Zone'})\n",
    "sous_nutrition = sous_nutrition.rename(columns = {'Valeur': 'ratio_sous_nutrition'})\n",
    "population = population.rename(columns = {'Valeur': 'nb_population (millier)'})"
   ]
  },
  {
   "cell_type": "code",
   "execution_count": 622,
   "id": "be09f9bf",
   "metadata": {},
   "outputs": [],
   "source": [
    "sous_nutrition[\"Année\"] = sous_nutrition[\"Année\"].map({'2012-2014': 2013,\n",
    "                                                       '2013-2015': 2014,\n",
    "                                                       '2014-2016': 2015,\n",
    "                                                       '2015-2017': 2016,\n",
    "                                                       '2017-2019': 2017})"
   ]
  },
  {
   "cell_type": "code",
   "execution_count": 623,
   "id": "b80a82e6",
   "metadata": {},
   "outputs": [
    {
     "data": {
      "text/plain": [
       "(1218, 3)"
      ]
     },
     "execution_count": 623,
     "metadata": {},
     "output_type": "execute_result"
    }
   ],
   "source": [
    "sous_nutrition.shape"
   ]
  },
  {
   "cell_type": "code",
   "execution_count": 624,
   "id": "0d2c9daf",
   "metadata": {},
   "outputs": [],
   "source": [
    "sous_nutrition = sous_nutrition.dropna(subset =['Année'])"
   ]
  },
  {
   "cell_type": "code",
   "execution_count": 625,
   "id": "e29dc1d8",
   "metadata": {},
   "outputs": [
    {
     "data": {
      "text/plain": [
       "(1015, 3)"
      ]
     },
     "execution_count": 625,
     "metadata": {},
     "output_type": "execute_result"
    }
   ],
   "source": [
    "sous_nutrition.shape"
   ]
  },
  {
   "cell_type": "code",
   "execution_count": 626,
   "id": "f4464281",
   "metadata": {},
   "outputs": [
    {
     "data": {
      "text/html": [
       "<div>\n",
       "<style scoped>\n",
       "    .dataframe tbody tr th:only-of-type {\n",
       "        vertical-align: middle;\n",
       "    }\n",
       "\n",
       "    .dataframe tbody tr th {\n",
       "        vertical-align: top;\n",
       "    }\n",
       "\n",
       "    .dataframe thead th {\n",
       "        text-align: right;\n",
       "    }\n",
       "</style>\n",
       "<table border=\"1\" class=\"dataframe\">\n",
       "  <thead>\n",
       "    <tr style=\"text-align: right;\">\n",
       "      <th></th>\n",
       "      <th>Zone</th>\n",
       "      <th>Année</th>\n",
       "      <th>ratio_sous_nutrition</th>\n",
       "    </tr>\n",
       "  </thead>\n",
       "  <tbody>\n",
       "    <tr>\n",
       "      <th>0</th>\n",
       "      <td>Afghanistan</td>\n",
       "      <td>2013.0</td>\n",
       "      <td>8.6</td>\n",
       "    </tr>\n",
       "    <tr>\n",
       "      <th>1</th>\n",
       "      <td>Afghanistan</td>\n",
       "      <td>2014.0</td>\n",
       "      <td>8.8</td>\n",
       "    </tr>\n",
       "    <tr>\n",
       "      <th>2</th>\n",
       "      <td>Afghanistan</td>\n",
       "      <td>2015.0</td>\n",
       "      <td>8.9</td>\n",
       "    </tr>\n",
       "    <tr>\n",
       "      <th>3</th>\n",
       "      <td>Afghanistan</td>\n",
       "      <td>2016.0</td>\n",
       "      <td>9.7</td>\n",
       "    </tr>\n",
       "    <tr>\n",
       "      <th>5</th>\n",
       "      <td>Afghanistan</td>\n",
       "      <td>2017.0</td>\n",
       "      <td>11.1</td>\n",
       "    </tr>\n",
       "    <tr>\n",
       "      <th>...</th>\n",
       "      <td>...</td>\n",
       "      <td>...</td>\n",
       "      <td>...</td>\n",
       "    </tr>\n",
       "    <tr>\n",
       "      <th>1212</th>\n",
       "      <td>Zimbabwe</td>\n",
       "      <td>2013.0</td>\n",
       "      <td>NaN</td>\n",
       "    </tr>\n",
       "    <tr>\n",
       "      <th>1213</th>\n",
       "      <td>Zimbabwe</td>\n",
       "      <td>2014.0</td>\n",
       "      <td>NaN</td>\n",
       "    </tr>\n",
       "    <tr>\n",
       "      <th>1214</th>\n",
       "      <td>Zimbabwe</td>\n",
       "      <td>2015.0</td>\n",
       "      <td>NaN</td>\n",
       "    </tr>\n",
       "    <tr>\n",
       "      <th>1215</th>\n",
       "      <td>Zimbabwe</td>\n",
       "      <td>2016.0</td>\n",
       "      <td>NaN</td>\n",
       "    </tr>\n",
       "    <tr>\n",
       "      <th>1217</th>\n",
       "      <td>Zimbabwe</td>\n",
       "      <td>2017.0</td>\n",
       "      <td>NaN</td>\n",
       "    </tr>\n",
       "  </tbody>\n",
       "</table>\n",
       "<p>1015 rows × 3 columns</p>\n",
       "</div>"
      ],
      "text/plain": [
       "             Zone   Année ratio_sous_nutrition\n",
       "0     Afghanistan  2013.0                  8.6\n",
       "1     Afghanistan  2014.0                  8.8\n",
       "2     Afghanistan  2015.0                  8.9\n",
       "3     Afghanistan  2016.0                  9.7\n",
       "5     Afghanistan  2017.0                 11.1\n",
       "...           ...     ...                  ...\n",
       "1212     Zimbabwe  2013.0                  NaN\n",
       "1213     Zimbabwe  2014.0                  NaN\n",
       "1214     Zimbabwe  2015.0                  NaN\n",
       "1215     Zimbabwe  2016.0                  NaN\n",
       "1217     Zimbabwe  2017.0                  NaN\n",
       "\n",
       "[1015 rows x 3 columns]"
      ]
     },
     "execution_count": 626,
     "metadata": {},
     "output_type": "execute_result"
    }
   ],
   "source": [
    "sous_nutrition"
   ]
  },
  {
   "cell_type": "code",
   "execution_count": 627,
   "id": "33904707",
   "metadata": {},
   "outputs": [
    {
     "data": {
      "text/plain": [
       "Zone                     object\n",
       "Année                   float64\n",
       "ratio_sous_nutrition     object\n",
       "dtype: object"
      ]
     },
     "execution_count": 627,
     "metadata": {},
     "output_type": "execute_result"
    }
   ],
   "source": [
    "sous_nutrition.dtypes"
   ]
  },
  {
   "cell_type": "code",
   "execution_count": 628,
   "id": "f1f97214",
   "metadata": {},
   "outputs": [
    {
     "data": {
      "text/plain": [
       "Zone                        object\n",
       "Année                        int64\n",
       "nb_population (millier)    float64\n",
       "dtype: object"
      ]
     },
     "execution_count": 628,
     "metadata": {},
     "output_type": "execute_result"
    }
   ],
   "source": [
    "population.dtypes"
   ]
  },
  {
   "cell_type": "code",
   "execution_count": 629,
   "id": "76b0e1cf",
   "metadata": {
    "scrolled": true
   },
   "outputs": [],
   "source": [
    "sous_nutrition[\"Année\"] = sous_nutrition[\"Année\"].astype(int)"
   ]
  },
  {
   "cell_type": "code",
   "execution_count": 630,
   "id": "672e6efc",
   "metadata": {},
   "outputs": [
    {
     "data": {
      "text/plain": [
       "Zone                    object\n",
       "Année                    int64\n",
       "ratio_sous_nutrition    object\n",
       "dtype: object"
      ]
     },
     "execution_count": 630,
     "metadata": {},
     "output_type": "execute_result"
    }
   ],
   "source": [
    "sous_nutrition.dtypes"
   ]
  },
  {
   "cell_type": "markdown",
   "id": "68f9241c",
   "metadata": {},
   "source": [
    "## Join ?"
   ]
  },
  {
   "cell_type": "code",
   "execution_count": 631,
   "id": "af74e770",
   "metadata": {
    "scrolled": true
   },
   "outputs": [],
   "source": [
    "# df_1 = dispo_alimentaire.merge(population, on = \"Zone\", how = \"left\")\n",
    "# df_2 = df_1.merge(sous_nutrition, on = \"Zone\", how = \"left\")\n",
    "# df = df_2.merge(aide_alimentaire, on = \"Zone\", how = \"left\")"
   ]
  },
  {
   "cell_type": "code",
   "execution_count": 632,
   "id": "32596eab",
   "metadata": {},
   "outputs": [],
   "source": [
    "# df.shape"
   ]
  },
  {
   "cell_type": "markdown",
   "id": "1b0a5fe6",
   "metadata": {},
   "source": [
    "# EDA"
   ]
  },
  {
   "cell_type": "markdown",
   "id": "2f15eef7",
   "metadata": {},
   "source": [
    "## df_2017"
   ]
  },
  {
   "cell_type": "code",
   "execution_count": 633,
   "id": "bb5cbfb6",
   "metadata": {
    "scrolled": true
   },
   "outputs": [],
   "source": [
    "df_sous = population.merge(sous_nutrition, on = \"Zone\", how = \"left\")"
   ]
  },
  {
   "cell_type": "code",
   "execution_count": 634,
   "id": "18b191c5",
   "metadata": {},
   "outputs": [],
   "source": [
    "df_sous = df_sous.dropna()"
   ]
  },
  {
   "cell_type": "code",
   "execution_count": 635,
   "id": "6b47ca5c",
   "metadata": {},
   "outputs": [
    {
     "data": {
      "text/plain": [
       "Zone                       0\n",
       "Année_x                    0\n",
       "nb_population (millier)    0\n",
       "Année_y                    0\n",
       "ratio_sous_nutrition       0\n",
       "dtype: int64"
      ]
     },
     "execution_count": 635,
     "metadata": {},
     "output_type": "execute_result"
    }
   ],
   "source": [
    "df_sous.isnull().sum()"
   ]
  },
  {
   "cell_type": "code",
   "execution_count": 636,
   "id": "6cd66acb",
   "metadata": {},
   "outputs": [],
   "source": [
    "df_sous = df_sous.drop([\"Année_y\"], axis = 1)"
   ]
  },
  {
   "cell_type": "code",
   "execution_count": 637,
   "id": "169ca32f",
   "metadata": {
    "scrolled": true
   },
   "outputs": [],
   "source": [
    "df_sous_2017 = df_sous.loc[df_sous[\"Année_x\"] == 2017]"
   ]
  },
  {
   "cell_type": "code",
   "execution_count": 638,
   "id": "9688d959",
   "metadata": {},
   "outputs": [
    {
     "name": "stderr",
     "output_type": "stream",
     "text": [
      "/tmp/ipykernel_2235/1549558547.py:1: SettingWithCopyWarning: \n",
      "A value is trying to be set on a copy of a slice from a DataFrame.\n",
      "Try using .loc[row_indexer,col_indexer] = value instead\n",
      "\n",
      "See the caveats in the documentation: https://pandas.pydata.org/pandas-docs/stable/user_guide/indexing.html#returning-a-view-versus-a-copy\n",
      "  df_sous_2017[\"nb__population (million)\"] = round(df_sous_2017[\"nb_population (millier)\"] / 1000, 2)\n"
     ]
    }
   ],
   "source": [
    "df_sous_2017[\"nb__population (million)\"] = round(df_sous_2017[\"nb_population (millier)\"] / 1000, 2)"
   ]
  },
  {
   "cell_type": "code",
   "execution_count": 639,
   "id": "c1ccac63",
   "metadata": {},
   "outputs": [
    {
     "data": {
      "text/html": [
       "<div>\n",
       "<style scoped>\n",
       "    .dataframe tbody tr th:only-of-type {\n",
       "        vertical-align: middle;\n",
       "    }\n",
       "\n",
       "    .dataframe tbody tr th {\n",
       "        vertical-align: top;\n",
       "    }\n",
       "\n",
       "    .dataframe thead th {\n",
       "        text-align: right;\n",
       "    }\n",
       "</style>\n",
       "<table border=\"1\" class=\"dataframe\">\n",
       "  <thead>\n",
       "    <tr style=\"text-align: right;\">\n",
       "      <th></th>\n",
       "      <th>Zone</th>\n",
       "      <th>Année_x</th>\n",
       "      <th>nb_population (millier)</th>\n",
       "      <th>ratio_sous_nutrition</th>\n",
       "      <th>nb__population (million)</th>\n",
       "    </tr>\n",
       "  </thead>\n",
       "  <tbody>\n",
       "    <tr>\n",
       "      <th>20</th>\n",
       "      <td>Afghanistan</td>\n",
       "      <td>2017</td>\n",
       "      <td>36296.113</td>\n",
       "      <td>8.6</td>\n",
       "      <td>36.3</td>\n",
       "    </tr>\n",
       "    <tr>\n",
       "      <th>21</th>\n",
       "      <td>Afghanistan</td>\n",
       "      <td>2017</td>\n",
       "      <td>36296.113</td>\n",
       "      <td>8.8</td>\n",
       "      <td>36.3</td>\n",
       "    </tr>\n",
       "    <tr>\n",
       "      <th>22</th>\n",
       "      <td>Afghanistan</td>\n",
       "      <td>2017</td>\n",
       "      <td>36296.113</td>\n",
       "      <td>8.9</td>\n",
       "      <td>36.3</td>\n",
       "    </tr>\n",
       "    <tr>\n",
       "      <th>23</th>\n",
       "      <td>Afghanistan</td>\n",
       "      <td>2017</td>\n",
       "      <td>36296.113</td>\n",
       "      <td>9.7</td>\n",
       "      <td>36.3</td>\n",
       "    </tr>\n",
       "    <tr>\n",
       "      <th>24</th>\n",
       "      <td>Afghanistan</td>\n",
       "      <td>2017</td>\n",
       "      <td>36296.113</td>\n",
       "      <td>11.1</td>\n",
       "      <td>36.3</td>\n",
       "    </tr>\n",
       "    <tr>\n",
       "      <th>...</th>\n",
       "      <td>...</td>\n",
       "      <td>...</td>\n",
       "      <td>...</td>\n",
       "      <td>...</td>\n",
       "      <td>...</td>\n",
       "    </tr>\n",
       "    <tr>\n",
       "      <th>6188</th>\n",
       "      <td>Viet Nam</td>\n",
       "      <td>2017</td>\n",
       "      <td>94600.648</td>\n",
       "      <td>8.9</td>\n",
       "      <td>94.6</td>\n",
       "    </tr>\n",
       "    <tr>\n",
       "      <th>6189</th>\n",
       "      <td>Viet Nam</td>\n",
       "      <td>2017</td>\n",
       "      <td>94600.648</td>\n",
       "      <td>8.3</td>\n",
       "      <td>94.6</td>\n",
       "    </tr>\n",
       "    <tr>\n",
       "      <th>6190</th>\n",
       "      <td>Viet Nam</td>\n",
       "      <td>2017</td>\n",
       "      <td>94600.648</td>\n",
       "      <td>7.6</td>\n",
       "      <td>94.6</td>\n",
       "    </tr>\n",
       "    <tr>\n",
       "      <th>6191</th>\n",
       "      <td>Viet Nam</td>\n",
       "      <td>2017</td>\n",
       "      <td>94600.648</td>\n",
       "      <td>7.1</td>\n",
       "      <td>94.6</td>\n",
       "    </tr>\n",
       "    <tr>\n",
       "      <th>6192</th>\n",
       "      <td>Viet Nam</td>\n",
       "      <td>2017</td>\n",
       "      <td>94600.648</td>\n",
       "      <td>6.1</td>\n",
       "      <td>94.6</td>\n",
       "    </tr>\n",
       "  </tbody>\n",
       "</table>\n",
       "<p>520 rows × 5 columns</p>\n",
       "</div>"
      ],
      "text/plain": [
       "             Zone  Année_x  nb_population (millier) ratio_sous_nutrition  \\\n",
       "20    Afghanistan     2017                36296.113                  8.6   \n",
       "21    Afghanistan     2017                36296.113                  8.8   \n",
       "22    Afghanistan     2017                36296.113                  8.9   \n",
       "23    Afghanistan     2017                36296.113                  9.7   \n",
       "24    Afghanistan     2017                36296.113                 11.1   \n",
       "...           ...      ...                      ...                  ...   \n",
       "6188     Viet Nam     2017                94600.648                  8.9   \n",
       "6189     Viet Nam     2017                94600.648                  8.3   \n",
       "6190     Viet Nam     2017                94600.648                  7.6   \n",
       "6191     Viet Nam     2017                94600.648                  7.1   \n",
       "6192     Viet Nam     2017                94600.648                  6.1   \n",
       "\n",
       "      nb__population (million)  \n",
       "20                        36.3  \n",
       "21                        36.3  \n",
       "22                        36.3  \n",
       "23                        36.3  \n",
       "24                        36.3  \n",
       "...                        ...  \n",
       "6188                      94.6  \n",
       "6189                      94.6  \n",
       "6190                      94.6  \n",
       "6191                      94.6  \n",
       "6192                      94.6  \n",
       "\n",
       "[520 rows x 5 columns]"
      ]
     },
     "execution_count": 639,
     "metadata": {},
     "output_type": "execute_result"
    }
   ],
   "source": [
    "df_sous_2017"
   ]
  },
  {
   "cell_type": "markdown",
   "id": "d17836ea",
   "metadata": {},
   "source": [
    "## Outliers"
   ]
  },
  {
   "cell_type": "code",
   "execution_count": null,
   "id": "01eda0c3",
   "metadata": {},
   "outputs": [],
   "source": []
  },
  {
   "cell_type": "markdown",
   "id": "358d4293",
   "metadata": {},
   "source": [
    "## Change columns"
   ]
  },
  {
   "cell_type": "code",
   "execution_count": null,
   "id": "180efb11",
   "metadata": {},
   "outputs": [],
   "source": []
  },
  {
   "cell_type": "markdown",
   "id": "1ace3226",
   "metadata": {},
   "source": [
    "# Visualisation"
   ]
  },
  {
   "cell_type": "markdown",
   "id": "0e9eba36",
   "metadata": {},
   "source": [
    "Pour une étude, nous souhaitons avoir les informations suivantes, sur l’année 2017 :\n",
    "\n",
    "- la proportion de personnes en état de sous-nutrition ;\n",
    "- le nombre théorique de personnes qui pourraient être nourries. Tu devrais pouvoir calculer ça à partir de la disponibilité alimentaire mondiale ;\n",
    "- idem pour la disponibilité alimentaire des produits végétaux ;\n",
    "- les pays pour lesquels la proportion de personnes sous-alimentées est la plus forte\n",
    "- Ceux ayant le plus/le moins de disponibilité/habitant, etc., Travailler ensuite une fonction permettant de sortir ce résultat pour toutes les années. Vous devrez, dans un nouveau notebook, permettre à l’utilisateur de remplir manuellement une année et d’obtenir le résultat pour chacune des questions précédentes (pour les plus aguerrit : une application avec Flask, Dash ou Streamlit me va aussi 😊)."
   ]
  },
  {
   "cell_type": "code",
   "execution_count": 640,
   "id": "c3ee128b",
   "metadata": {},
   "outputs": [],
   "source": [
    "no_sous_nutrition = df_sous_2017.loc[df_sous_2017[\"ratio_sous_nutrition\"] == \"<0.1\"]"
   ]
  },
  {
   "cell_type": "code",
   "execution_count": 641,
   "id": "74a807e1",
   "metadata": {},
   "outputs": [],
   "source": [
    "df_sous_2017 = df_sous_2017.loc[df_sous_2017[\"ratio_sous_nutrition\"] != \"<0.1\"]"
   ]
  },
  {
   "cell_type": "code",
   "execution_count": 642,
   "id": "eaf38044",
   "metadata": {
    "scrolled": true
   },
   "outputs": [
    {
     "name": "stderr",
     "output_type": "stream",
     "text": [
      "/tmp/ipykernel_2235/3641429192.py:1: SettingWithCopyWarning: \n",
      "A value is trying to be set on a copy of a slice from a DataFrame.\n",
      "Try using .loc[row_indexer,col_indexer] = value instead\n",
      "\n",
      "See the caveats in the documentation: https://pandas.pydata.org/pandas-docs/stable/user_guide/indexing.html#returning-a-view-versus-a-copy\n",
      "  df_sous_2017[\"ratio_sous_nutrition\"] = df_sous_2017[\"ratio_sous_nutrition\"].astype(float)\n"
     ]
    }
   ],
   "source": [
    "df_sous_2017[\"ratio_sous_nutrition\"] = df_sous_2017[\"ratio_sous_nutrition\"].astype(float)"
   ]
  },
  {
   "cell_type": "code",
   "execution_count": 643,
   "id": "78b15c8a",
   "metadata": {
    "scrolled": true
   },
   "outputs": [
    {
     "name": "stderr",
     "output_type": "stream",
     "text": [
      "/tmp/ipykernel_2235/2687403467.py:2: SettingWithCopyWarning: \n",
      "A value is trying to be set on a copy of a slice from a DataFrame.\n",
      "Try using .loc[row_indexer,col_indexer] = value instead\n",
      "\n",
      "See the caveats in the documentation: https://pandas.pydata.org/pandas-docs/stable/user_guide/indexing.html#returning-a-view-versus-a-copy\n",
      "  df_sous_2017[\"proportion_sous_nutrition\"] = df_sous_2017[\"ratio_sous_nutrition\"] / df_sous_2017[\"nb__population (million)\"]\n"
     ]
    }
   ],
   "source": [
    "# la proportion de personnes en état de sous-nutrition\n",
    "df_sous_2017[\"proportion_sous_nutrition\"] = df_sous_2017[\"ratio_sous_nutrition\"] / df_sous_2017[\"nb__population (million)\"]"
   ]
  },
  {
   "cell_type": "code",
   "execution_count": 644,
   "id": "588b5479",
   "metadata": {},
   "outputs": [],
   "source": [
    "gb_sous_alimentation = df_sous_2017.groupby(by = \"Zone\").mean().reset_index()"
   ]
  },
  {
   "cell_type": "code",
   "execution_count": 645,
   "id": "512e4b8f",
   "metadata": {},
   "outputs": [],
   "source": [
    "gb_sous_alimentation[\"proportion_sous_nutrition\"] = gb_sous_alimentation[\"ratio_sous_nutrition\"] / gb_sous_alimentation[\"nb__population (million)\"]"
   ]
  },
  {
   "cell_type": "code",
   "execution_count": 646,
   "id": "20200a6c",
   "metadata": {},
   "outputs": [
    {
     "data": {
      "text/html": [
       "<div>\n",
       "<style scoped>\n",
       "    .dataframe tbody tr th:only-of-type {\n",
       "        vertical-align: middle;\n",
       "    }\n",
       "\n",
       "    .dataframe tbody tr th {\n",
       "        vertical-align: top;\n",
       "    }\n",
       "\n",
       "    .dataframe thead th {\n",
       "        text-align: right;\n",
       "    }\n",
       "</style>\n",
       "<table border=\"1\" class=\"dataframe\">\n",
       "  <thead>\n",
       "    <tr style=\"text-align: right;\">\n",
       "      <th></th>\n",
       "      <th>Zone</th>\n",
       "      <th>Année_x</th>\n",
       "      <th>nb_population (millier)</th>\n",
       "      <th>ratio_sous_nutrition</th>\n",
       "      <th>nb__population (million)</th>\n",
       "      <th>proportion_sous_nutrition</th>\n",
       "    </tr>\n",
       "  </thead>\n",
       "  <tbody>\n",
       "    <tr>\n",
       "      <th>0</th>\n",
       "      <td>Afghanistan</td>\n",
       "      <td>2017.0</td>\n",
       "      <td>36296.113</td>\n",
       "      <td>9.42</td>\n",
       "      <td>36.30</td>\n",
       "      <td>0.259504</td>\n",
       "    </tr>\n",
       "    <tr>\n",
       "      <th>1</th>\n",
       "      <td>Afrique du Sud</td>\n",
       "      <td>2017.0</td>\n",
       "      <td>57009.756</td>\n",
       "      <td>2.76</td>\n",
       "      <td>57.01</td>\n",
       "      <td>0.048413</td>\n",
       "    </tr>\n",
       "    <tr>\n",
       "      <th>2</th>\n",
       "      <td>Albanie</td>\n",
       "      <td>2017.0</td>\n",
       "      <td>2884.169</td>\n",
       "      <td>0.10</td>\n",
       "      <td>2.88</td>\n",
       "      <td>0.034722</td>\n",
       "    </tr>\n",
       "    <tr>\n",
       "      <th>3</th>\n",
       "      <td>Algérie</td>\n",
       "      <td>2017.0</td>\n",
       "      <td>41389.189</td>\n",
       "      <td>1.28</td>\n",
       "      <td>41.39</td>\n",
       "      <td>0.030925</td>\n",
       "    </tr>\n",
       "    <tr>\n",
       "      <th>4</th>\n",
       "      <td>Angola</td>\n",
       "      <td>2017.0</td>\n",
       "      <td>29816.766</td>\n",
       "      <td>6.08</td>\n",
       "      <td>29.82</td>\n",
       "      <td>0.203890</td>\n",
       "    </tr>\n",
       "    <tr>\n",
       "      <th>...</th>\n",
       "      <td>...</td>\n",
       "      <td>...</td>\n",
       "      <td>...</td>\n",
       "      <td>...</td>\n",
       "      <td>...</td>\n",
       "      <td>...</td>\n",
       "    </tr>\n",
       "    <tr>\n",
       "      <th>82</th>\n",
       "      <td>Viet Nam</td>\n",
       "      <td>2017.0</td>\n",
       "      <td>94600.648</td>\n",
       "      <td>7.60</td>\n",
       "      <td>94.60</td>\n",
       "      <td>0.080338</td>\n",
       "    </tr>\n",
       "    <tr>\n",
       "      <th>83</th>\n",
       "      <td>Égypte</td>\n",
       "      <td>2017.0</td>\n",
       "      <td>96442.591</td>\n",
       "      <td>4.40</td>\n",
       "      <td>96.44</td>\n",
       "      <td>0.045624</td>\n",
       "    </tr>\n",
       "    <tr>\n",
       "      <th>84</th>\n",
       "      <td>Émirats arabes unis</td>\n",
       "      <td>2017.0</td>\n",
       "      <td>9487.203</td>\n",
       "      <td>0.30</td>\n",
       "      <td>9.49</td>\n",
       "      <td>0.031612</td>\n",
       "    </tr>\n",
       "    <tr>\n",
       "      <th>85</th>\n",
       "      <td>Équateur</td>\n",
       "      <td>2017.0</td>\n",
       "      <td>16785.361</td>\n",
       "      <td>1.72</td>\n",
       "      <td>16.79</td>\n",
       "      <td>0.102442</td>\n",
       "    </tr>\n",
       "    <tr>\n",
       "      <th>86</th>\n",
       "      <td>Éthiopie</td>\n",
       "      <td>2017.0</td>\n",
       "      <td>106399.924</td>\n",
       "      <td>23.00</td>\n",
       "      <td>106.40</td>\n",
       "      <td>0.216165</td>\n",
       "    </tr>\n",
       "  </tbody>\n",
       "</table>\n",
       "<p>87 rows × 6 columns</p>\n",
       "</div>"
      ],
      "text/plain": [
       "                   Zone  Année_x  nb_population (millier)  \\\n",
       "0           Afghanistan   2017.0                36296.113   \n",
       "1        Afrique du Sud   2017.0                57009.756   \n",
       "2               Albanie   2017.0                 2884.169   \n",
       "3               Algérie   2017.0                41389.189   \n",
       "4                Angola   2017.0                29816.766   \n",
       "..                  ...      ...                      ...   \n",
       "82             Viet Nam   2017.0                94600.648   \n",
       "83               Égypte   2017.0                96442.591   \n",
       "84  Émirats arabes unis   2017.0                 9487.203   \n",
       "85             Équateur   2017.0                16785.361   \n",
       "86             Éthiopie   2017.0               106399.924   \n",
       "\n",
       "    ratio_sous_nutrition  nb__population (million)  proportion_sous_nutrition  \n",
       "0                   9.42                     36.30                   0.259504  \n",
       "1                   2.76                     57.01                   0.048413  \n",
       "2                   0.10                      2.88                   0.034722  \n",
       "3                   1.28                     41.39                   0.030925  \n",
       "4                   6.08                     29.82                   0.203890  \n",
       "..                   ...                       ...                        ...  \n",
       "82                  7.60                     94.60                   0.080338  \n",
       "83                  4.40                     96.44                   0.045624  \n",
       "84                  0.30                      9.49                   0.031612  \n",
       "85                  1.72                     16.79                   0.102442  \n",
       "86                 23.00                    106.40                   0.216165  \n",
       "\n",
       "[87 rows x 6 columns]"
      ]
     },
     "execution_count": 646,
     "metadata": {},
     "output_type": "execute_result"
    }
   ],
   "source": [
    "gb_sous_alimentation"
   ]
  },
  {
   "cell_type": "code",
   "execution_count": 647,
   "id": "0e14e5cb",
   "metadata": {},
   "outputs": [],
   "source": [
    "# # Créer un diagramme circulaire avec seaborn et matplotlib\n",
    "# plt.figure(figsize=(8,8))\n",
    "# sns.set_style(\"whitegrid\")\n",
    "# plt.pie(x=gb_sous_alimentation['proportion_sous_nutrition'], labels=gb_sous_alimentation.index, autopct='%1.1f%%')\n",
    "# plt.title(\"Proportion de personnes en état de sous-nutrition par rapport à la population totale\")\n",
    "# plt.show()"
   ]
  },
  {
   "cell_type": "code",
   "execution_count": 648,
   "id": "3c4a874e",
   "metadata": {},
   "outputs": [],
   "source": [
    "gb_worse_sous_nutrition = gb_sous_alimentation.sort_values(by = [\"proportion_sous_nutrition\"], ascending = False)\n",
    "gb_best_sous_nutrition = gb_sous_alimentation.sort_values(by = [\"proportion_sous_nutrition\"], ascending = True)"
   ]
  },
  {
   "cell_type": "code",
   "execution_count": 649,
   "id": "03ce68a1",
   "metadata": {},
   "outputs": [
    {
     "data": {
      "text/html": [
       "<div>\n",
       "<style scoped>\n",
       "    .dataframe tbody tr th:only-of-type {\n",
       "        vertical-align: middle;\n",
       "    }\n",
       "\n",
       "    .dataframe tbody tr th {\n",
       "        vertical-align: top;\n",
       "    }\n",
       "\n",
       "    .dataframe thead th {\n",
       "        text-align: right;\n",
       "    }\n",
       "</style>\n",
       "<table border=\"1\" class=\"dataframe\">\n",
       "  <thead>\n",
       "    <tr style=\"text-align: right;\">\n",
       "      <th></th>\n",
       "      <th>Zone</th>\n",
       "      <th>Année_x</th>\n",
       "      <th>nb_population (millier)</th>\n",
       "      <th>ratio_sous_nutrition</th>\n",
       "      <th>nb__population (million)</th>\n",
       "      <th>proportion_sous_nutrition</th>\n",
       "    </tr>\n",
       "  </thead>\n",
       "  <tbody>\n",
       "    <tr>\n",
       "      <th>78</th>\n",
       "      <td>Tunisie</td>\n",
       "      <td>2017.0</td>\n",
       "      <td>11433.443</td>\n",
       "      <td>0.300</td>\n",
       "      <td>11.43</td>\n",
       "      <td>0.026247</td>\n",
       "    </tr>\n",
       "    <tr>\n",
       "      <th>37</th>\n",
       "      <td>Kazakhstan</td>\n",
       "      <td>2017.0</td>\n",
       "      <td>18080.019</td>\n",
       "      <td>0.500</td>\n",
       "      <td>18.08</td>\n",
       "      <td>0.027655</td>\n",
       "    </tr>\n",
       "    <tr>\n",
       "      <th>6</th>\n",
       "      <td>Argentine</td>\n",
       "      <td>2017.0</td>\n",
       "      <td>43937.140</td>\n",
       "      <td>1.325</td>\n",
       "      <td>43.94</td>\n",
       "      <td>0.030155</td>\n",
       "    </tr>\n",
       "    <tr>\n",
       "      <th>3</th>\n",
       "      <td>Algérie</td>\n",
       "      <td>2017.0</td>\n",
       "      <td>41389.189</td>\n",
       "      <td>1.280</td>\n",
       "      <td>41.39</td>\n",
       "      <td>0.030925</td>\n",
       "    </tr>\n",
       "    <tr>\n",
       "      <th>84</th>\n",
       "      <td>Émirats arabes unis</td>\n",
       "      <td>2017.0</td>\n",
       "      <td>9487.203</td>\n",
       "      <td>0.300</td>\n",
       "      <td>9.49</td>\n",
       "      <td>0.031612</td>\n",
       "    </tr>\n",
       "  </tbody>\n",
       "</table>\n",
       "</div>"
      ],
      "text/plain": [
       "                   Zone  Année_x  nb_population (millier)  \\\n",
       "78              Tunisie   2017.0                11433.443   \n",
       "37           Kazakhstan   2017.0                18080.019   \n",
       "6             Argentine   2017.0                43937.140   \n",
       "3               Algérie   2017.0                41389.189   \n",
       "84  Émirats arabes unis   2017.0                 9487.203   \n",
       "\n",
       "    ratio_sous_nutrition  nb__population (million)  proportion_sous_nutrition  \n",
       "78                 0.300                     11.43                   0.026247  \n",
       "37                 0.500                     18.08                   0.027655  \n",
       "6                  1.325                     43.94                   0.030155  \n",
       "3                  1.280                     41.39                   0.030925  \n",
       "84                 0.300                      9.49                   0.031612  "
      ]
     },
     "execution_count": 649,
     "metadata": {},
     "output_type": "execute_result"
    }
   ],
   "source": [
    "gb_best_sous_nutrition.head(5)"
   ]
  },
  {
   "cell_type": "code",
   "execution_count": 650,
   "id": "4a9e24b0",
   "metadata": {},
   "outputs": [
    {
     "data": {
      "text/html": [
       "<div>\n",
       "<style scoped>\n",
       "    .dataframe tbody tr th:only-of-type {\n",
       "        vertical-align: middle;\n",
       "    }\n",
       "\n",
       "    .dataframe tbody tr th {\n",
       "        vertical-align: top;\n",
       "    }\n",
       "\n",
       "    .dataframe thead th {\n",
       "        text-align: right;\n",
       "    }\n",
       "</style>\n",
       "<table border=\"1\" class=\"dataframe\">\n",
       "  <thead>\n",
       "    <tr style=\"text-align: right;\">\n",
       "      <th></th>\n",
       "      <th>Zone</th>\n",
       "      <th>Année_x</th>\n",
       "      <th>nb_population (millier)</th>\n",
       "      <th>ratio_sous_nutrition</th>\n",
       "      <th>nb__population (million)</th>\n",
       "      <th>proportion_sous_nutrition</th>\n",
       "    </tr>\n",
       "  </thead>\n",
       "  <tbody>\n",
       "    <tr>\n",
       "      <th>29</th>\n",
       "      <td>Haïti</td>\n",
       "      <td>2017.0</td>\n",
       "      <td>10982.366</td>\n",
       "      <td>5.18</td>\n",
       "      <td>10.98</td>\n",
       "      <td>0.471767</td>\n",
       "    </tr>\n",
       "    <tr>\n",
       "      <th>66</th>\n",
       "      <td>République populaire démocratique de Corée</td>\n",
       "      <td>2017.0</td>\n",
       "      <td>25429.825</td>\n",
       "      <td>11.22</td>\n",
       "      <td>25.43</td>\n",
       "      <td>0.441211</td>\n",
       "    </tr>\n",
       "    <tr>\n",
       "      <th>43</th>\n",
       "      <td>Madagascar</td>\n",
       "      <td>2017.0</td>\n",
       "      <td>25570.512</td>\n",
       "      <td>9.46</td>\n",
       "      <td>25.57</td>\n",
       "      <td>0.369965</td>\n",
       "    </tr>\n",
       "    <tr>\n",
       "      <th>42</th>\n",
       "      <td>Libéria</td>\n",
       "      <td>2017.0</td>\n",
       "      <td>4702.226</td>\n",
       "      <td>1.68</td>\n",
       "      <td>4.70</td>\n",
       "      <td>0.357447</td>\n",
       "    </tr>\n",
       "    <tr>\n",
       "      <th>74</th>\n",
       "      <td>Tchad</td>\n",
       "      <td>2017.0</td>\n",
       "      <td>15016.753</td>\n",
       "      <td>5.26</td>\n",
       "      <td>15.02</td>\n",
       "      <td>0.350200</td>\n",
       "    </tr>\n",
       "  </tbody>\n",
       "</table>\n",
       "</div>"
      ],
      "text/plain": [
       "                                          Zone  Année_x  \\\n",
       "29                                       Haïti   2017.0   \n",
       "66  République populaire démocratique de Corée   2017.0   \n",
       "43                                  Madagascar   2017.0   \n",
       "42                                     Libéria   2017.0   \n",
       "74                                       Tchad   2017.0   \n",
       "\n",
       "    nb_population (millier)  ratio_sous_nutrition  nb__population (million)  \\\n",
       "29                10982.366                  5.18                     10.98   \n",
       "66                25429.825                 11.22                     25.43   \n",
       "43                25570.512                  9.46                     25.57   \n",
       "42                 4702.226                  1.68                      4.70   \n",
       "74                15016.753                  5.26                     15.02   \n",
       "\n",
       "    proportion_sous_nutrition  \n",
       "29                   0.471767  \n",
       "66                   0.441211  \n",
       "43                   0.369965  \n",
       "42                   0.357447  \n",
       "74                   0.350200  "
      ]
     },
     "execution_count": 650,
     "metadata": {},
     "output_type": "execute_result"
    }
   ],
   "source": [
    "gb_worse_sous_nutrition.head(5)"
   ]
  },
  {
   "cell_type": "code",
   "execution_count": 654,
   "id": "1b242354",
   "metadata": {
    "scrolled": false
   },
   "outputs": [
    {
     "data": {
      "text/plain": [
       "Text(0.5, 1.0, 'Total of salaries per Services')"
      ]
     },
     "execution_count": 654,
     "metadata": {},
     "output_type": "execute_result"
    },
    {
     "data": {
      "image/png": "[encoded data removed]",
      "text/plain": [
       "<Figure size 640x480 with 1 Axes>"
      ]
     },
     "metadata": {},
     "output_type": "display_data"
    }
   ],
   "source": [
    "y_worse = [0.471767, 0.441211, 0.369965, 0.357447, 0.350200]\n",
    "labels_worse = [\"Haïti\", \"République populaire démocratique de Corée\", \"Madagascar\", \"Libéria\", \"Tchad\"]\n",
    "colors = sns.color_palette(\"hls\", 8)\n",
    "\n",
    "fig, ax = plt.subplots()\n",
    "\n",
    "ax.bar(labels_worse, y_worse, color = colors)\n",
    "ax.set_xlabel(\"Total of Salaries\")\n",
    "ax.set_ylabel(\"Services\")\n",
    "ax.set_title(\"Total of salaries per Services\")"
   ]
  }
 ],
 "metadata": {
  "kernelspec": {
   "display_name": "Python 3 (ipykernel)",
   "language": "python",
   "name": "python3"
  },
  "language_info": {
   "codemirror_mode": {
    "name": "ipython",
    "version": 3
   },
   "file_extension": ".py",
   "mimetype": "text/x-python",
   "name": "python",
   "nbconvert_exporter": "python",
   "pygments_lexer": "ipython3",
   "version": "3.8.12"
  },
  "toc": {
   "base_numbering": 1,
   "nav_menu": {},
   "number_sections": true,
   "sideBar": true,
   "skip_h1_title": false,
   "title_cell": "Table of Contents",
   "title_sidebar": "Contents",
   "toc_cell": false,
   "toc_position": {},
   "toc_section_display": true,
   "toc_window_display": false
  }
 },
 "nbformat": 4,
 "nbformat_minor": 5
}
